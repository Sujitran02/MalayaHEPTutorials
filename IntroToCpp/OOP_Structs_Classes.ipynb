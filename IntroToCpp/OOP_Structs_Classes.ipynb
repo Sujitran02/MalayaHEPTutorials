{
 "cells": [
  {
   "cell_type": "markdown",
   "metadata": {},
   "source": [
    "# Introduction\n",
    "\n",
    "Object Oriented Programming (OOP) is considered the core of C++ programming. Its versatility and power in handling data is far better than the procedural programming you learnt before.\n",
    "\n",
    "In general, OOP is programming where the structures and functions of the data types is defined by the programmers instead. From that, more complex relations can be built between objects such that one object inherits attributes from another.\n",
    "\n",
    "The advantages are:\n",
    "\n",
    "* Fast and easy execution\n",
    "* A clear structure\n",
    "* Reduces repeatability when coding\n",
    "* Makes debugging & modifications easier\n",
    "\n",
    "The image below summarises the hierarchy of complexity within OOP, and we will go through them step by step.\n",
    "\n",
    "<img src=\"./images/java-oops.png\">\n"
   ]
  },
  {
   "cell_type": "markdown",
   "metadata": {},
   "source": [
    "## First Steps: ```struct``` as the Basic Structure\n",
    "\n",
    "Sometimes a number of data is concentrated on a single point, just like how a single person has a lot of characteristics. Each person has varying height, weight, blood type and birth date, but the type of data is similar to one another. It makes sense to group them around the \"person\" instead of parsing it one by one. This is where **structures** come in, a stepping stone before we move to the OOP **class**.\n",
    "\n",
    "```struct``` is a data type that you yourself define, that can combine a number of other data types. Like the example before, a person has these attributes:\n",
    "\n",
    "* Height\n",
    "* Weight\n",
    "* Blood type\n",
    "* Birthdate\n",
    "* etc....\n",
    "\n",
    "<img src=\"./images/person.jpg\" width=350>\n",
    "\n",
    "\n",
    "So how do we go to define them? Example:"
   ]
  },
  {
   "cell_type": "code",
   "execution_count": 3,
   "metadata": {},
   "outputs": [
    {
     "name": "stdout",
     "output_type": "stream",
     "text": [
      "The height of Afiq is 162\n",
      "The weight of Syakir is 65\n"
     ]
    }
   ],
   "source": [
    "// here is the syntax for struct definition\n",
    "\n",
    "struct person{\n",
    "    char  name[50];\n",
    "    float height;\n",
    "    float weight;\n",
    "    char  bloodType[2];\n",
    "};\n",
    "\n",
    "// struct declaration\n",
    "\n",
    "struct person Joey;     // declaring a person called Joey\n",
    "struct person Syakir;   // declaring a person called Syakir\n",
    "\n",
    "// inserting the values into the structs\n",
    "\n",
    "strcpy( Joey.name, \"Afiq\");\n",
    "strcpy( Joey.bloodType, \"B+\");\n",
    "Joey.height = 162;\n",
    "Joey.weight = 60;\n",
    "\n",
    "strcpy( Syakir.name, \"Syakir\");\n",
    "strcpy( Syakir.bloodType, \"A-\");\n",
    "Syakir.height = 175;\n",
    "Syakir.weight = 65;\n",
    "\n",
    "// printing out the info from the previous structs\n",
    "\n",
    "cout << \"The height of \" << Joey.name   << \" is \" << Joey.height   << endl;\n",
    "cout << \"The weight of \" << Syakir.name << \" is \" << Syakir.weight << endl;"
   ]
  },
  {
   "cell_type": "markdown",
   "metadata": {},
   "source": [
    "**Exercise 1: Construct a ```struct``` with your basic information.**"
   ]
  },
  {
   "cell_type": "code",
   "execution_count": null,
   "metadata": {},
   "outputs": [],
   "source": []
  },
  {
   "cell_type": "markdown",
   "metadata": {},
   "source": [
    "### Passing a ```struct``` as a Function Argument\n",
    "\n",
    "Just like other data types, you can declare a function by using ```struct``` as one of the parameters. This is useful when you're dealing with multiple parameters, so instead of filling them one by one you can just type in a ```struct```.\n",
    "\n",
    "**Exercise 1.1: With the ```struct``` you made before, print them out in a separate function**\n",
    "\n",
    "Hint: Use ```void``` for the function type, it does not need to return anything."
   ]
  },
  {
   "cell_type": "code",
   "execution_count": null,
   "metadata": {},
   "outputs": [],
   "source": []
  },
  {
   "cell_type": "markdown",
   "metadata": {},
   "source": [
    "## Interlude: A Pointer Pointing to a Point\n",
    "\n",
    "Before we delve a bit more into OOP, it is good to have a short talk on pointers. If you have not known yet, each variable stores data in the memory, and it has its own address that can be accessed using the ```&``` operator."
   ]
  },
  {
   "cell_type": "code",
   "execution_count": 5,
   "metadata": {},
   "outputs": [
    {
     "name": "stdout",
     "output_type": "stream",
     "text": [
      "The value of the variable: 5\n",
      "The memory address of the variable value: 0x7f0c8b43011c\n"
     ]
    }
   ],
   "source": [
    "int a = 5;\n",
    "cout << \"The value of the variable: \" << a  << endl;\n",
    "cout << \"The memory address of the variable value: \" << &a << endl;"
   ]
  },
  {
   "cell_type": "markdown",
   "metadata": {},
   "source": [
    "In order to use memory addresses we do not need to declare another variable to store the memory address itself, that is the function of pointers. Pointers are variables that store memory addresses."
   ]
  },
  {
   "cell_type": "code",
   "execution_count": 7,
   "metadata": {},
   "outputs": [
    {
     "name": "stdout",
     "output_type": "stream",
     "text": [
      "5\n",
      "0x7f0c8b43011c\n",
      "0x7f0c8b43011c\n",
      "5\n"
     ]
    }
   ],
   "source": [
    "int* a_ptr = &a;        // a pointer variable declaration, storing the address\n",
    "\n",
    "cout << a      << endl; // the variable itself\n",
    "cout << &a     << endl; // a direct output of the variable's memory address\n",
    "cout << a_ptr  << endl; // output of the pointer\n",
    "cout << *a_ptr << endl; // getting the variable's value using the pointer"
   ]
  },
  {
   "cell_type": "markdown",
   "metadata": {},
   "source": [
    "It is also possible to change the value of the variable via the pointer."
   ]
  },
  {
   "cell_type": "code",
   "execution_count": 8,
   "metadata": {},
   "outputs": [
    {
     "name": "stdout",
     "output_type": "stream",
     "text": [
      "6\n",
      "6\n"
     ]
    }
   ],
   "source": [
    "*a_ptr = 6;\n",
    "\n",
    "cout << a      << endl;\n",
    "cout << *a_ptr << endl;"
   ]
  },
  {
   "cell_type": "markdown",
   "metadata": {},
   "source": [
    "### Pointer to ```struct```\n",
    "\n",
    "Just like other variables, pointers work with structures as well. Since ```struct``` has members, to access them we will use the ```->``` operator.\n",
    "\n",
    "Example:"
   ]
  },
  {
   "cell_type": "code",
   "execution_count": 11,
   "metadata": {},
   "outputs": [
    {
     "name": "stdout",
     "output_type": "stream",
     "text": [
      "162\n",
      "65\n"
     ]
    }
   ],
   "source": [
    "struct person *joey_ptr = &Joey;   //defining a pointer for structures\n",
    "struct person *syak_ptr = &Syakir;\n",
    "\n",
    "cout << joey_ptr->height << endl;  // accessing struct members\n",
    "cout << syak_ptr->weight << endl;"
   ]
  },
  {
   "cell_type": "markdown",
   "metadata": {},
   "source": [
    "**Exercise 2.1: Just like Exercise 1.1, print out the ```struct``` values, but use the pointer form instead.**"
   ]
  },
  {
   "cell_type": "code",
   "execution_count": null,
   "metadata": {},
   "outputs": [],
   "source": []
  },
  {
   "cell_type": "markdown",
   "metadata": {},
   "source": [
    "## Interlude: Useful Shortcuts\n",
    "\n",
    "It might be tedious to type ```struct``` each time you want to declare one, so here the ```typedef``` keyword helps a lot.\n",
    "\n",
    "Example:"
   ]
  },
  {
   "cell_type": "code",
   "execution_count": 13,
   "metadata": {},
   "outputs": [
    {
     "name": "stdout",
     "output_type": "stream",
     "text": [
      "36.5\n"
     ]
    }
   ],
   "source": [
    "typedef struct{\n",
    "    float temp;\n",
    "    float humid;\n",
    "    float  windspeed;\n",
    "    string winddir;\n",
    "} Weather;\n",
    "\n",
    "Weather yesterday, today;\n",
    "\n",
    "yesterday.temp = 36.5;\n",
    "cout << yesterday.temp << endl;"
   ]
  },
  {
   "cell_type": "markdown",
   "metadata": {},
   "source": [
    "## Ready or Not: It's Time for ```class```\n",
    "\n",
    "Compared to ```struct```, ```class``` adds in more layers of complexity. But don't be scared, we'll go through them one by one. The main difference would be that you can add in functions. \n",
    "\n",
    "**Variables** in classes are **attributes**, while **functions** are called **methods**. Both of them are called class members.\n",
    "\n",
    "\n"
   ]
  },
  {
   "cell_type": "code",
   "execution_count": 21,
   "metadata": {},
   "outputs": [
    {
     "name": "stdout",
     "output_type": "stream",
     "text": [
      "The class of 2017 has 50 students.\n"
     ]
    }
   ],
   "source": [
    "class Classroom {\n",
    "    public:\n",
    "        int year;          // Year of class\n",
    "        int numStudent;    // Number of students\n",
    "        int numTeacher;    // Number of teachers\n",
    "    \n",
    "        // Member functions declaration\n",
    "        void printInfo(void) {\n",
    "            cout << \"The class of \" << year << \" has \" << numStudent << \" students.\" << endl;\n",
    "        };\n",
    "};\n",
    "\n",
    "\n",
    "Classroom SIF17;\n",
    "SIF17.year = 2017;\n",
    "SIF17.numStudent = 50;\n",
    "SIF17.printInfo();\n"
   ]
  },
  {
   "cell_type": "markdown",
   "metadata": {},
   "source": [
    "It is also possible to define a method outside of the class, but it seems that it is not possible within this ROOTbook.\n",
    "\n",
    "It's syntax would be as follows, using the ```::``` operator:\n",
    "\n",
    "```\n",
    "class MyClass {\n",
    "    public:\n",
    "        void myMethod();\n",
    "};\n",
    "\n",
    "void MyClass::myMethod() {\n",
    "    cout << \"What's up?! << endl;\n",
    "};\n",
    "\n",
    "```\n",
    "\n",
    "### Some Publicity and Privacy, Protection Too\n",
    "\n",
    "Classes have access specifiers that determine how its members can be accessed.\n",
    "\n",
    "* The ```public``` keyword essentially gives all access to the attributes of the ```class``` members, enabling the values to be accessible outside of the ```class```.\n",
    "* Conversely, ```private``` members are inaccessible outside of the ```class```.\n",
    "* Another specifier is ```protected```, where only inherited classes can access them. We will discuss them later in Inheritance.\n",
    "\n",
    "If you did not specify ```public``` when declaring a ```class```, it automatically takes it as ```private``` instead. Later, in Encapsulation, we will see how private members can be accessed using a public method.\n",
    "\n",
    "**Exercise 3: Construct a class to take information about houses for sale. Put in some methods you think might be useful for users. Use the ```public``` specifier. You can mess around with what happens if you place it inside ```protected``` or ```private```.**\n"
   ]
  },
  {
   "cell_type": "code",
   "execution_count": null,
   "metadata": {},
   "outputs": [],
   "source": [
    "\n"
   ]
  },
  {
   "cell_type": "markdown",
   "metadata": {},
   "source": [
    "### Constructors & Deconstructors\n",
    "\n",
    "It can be tedious, as you saw, if you need to declare stuff one by one even when you already made a ```class```. Here, we will use **constructors** and also their opposite, **destructors**.\n",
    "\n",
    "* They are special functions the user can utilize to initialize a function with certain parameters, and like other functions, they can be done outside of the ```class``` via the ```::``` operator.\n",
    "\n",
    "* A **copy constructor** can also be formed, if let's say you want to copy an object's attribute into another object.\n",
    "\n",
    "* You can also set so that the class has multiple constructors, called **constructor overloading**. A given class can have as many constructors as you want.\n",
    "\n",
    "* **Destructors** destroys the object and the data it carries as soon as the program exits its scope. But because of how ROOTbooks are configured, we are unable to show it here."
   ]
  },
  {
   "cell_type": "code",
   "execution_count": 29,
   "metadata": {},
   "outputs": [
    {
     "name": "stdout",
     "output_type": "stream",
     "text": [
      "the constructer is running\n",
      "The student named Joey has a CGPA of 3.75\n",
      "The student's clone Joey has a CGPA of 3.75\n"
     ]
    }
   ],
   "source": [
    "class Student {\n",
    "    public:\n",
    "        string name;\n",
    "        int    studentId;\n",
    "        int    matricNum;\n",
    "        float  CGPA;\n",
    "        \n",
    "    \n",
    "        // constructor methods\n",
    "    \n",
    "        //first constructor, takes ID number only\n",
    "        Student(int id){\n",
    "            studentId = id;\n",
    "        };\n",
    "    \n",
    "        // second constructor, takes in all details\n",
    "        Student(string nm, int id, int mn, float cg){\n",
    "            name      = nm;\n",
    "            studentId = id;\n",
    "            matricNum = mn;\n",
    "            CGPA      = cg;\n",
    "            cout << \"the constructer is running\" << endl;\n",
    "        };\n",
    "    \n",
    "        // copy constructor\n",
    "        Student(const Student& obj){\n",
    "            name      = obj.name;\n",
    "            studentId = obj.studentId;\n",
    "            CGPA      = obj.CGPA;\n",
    "            matricNum = obj.matricNum;\n",
    "        };\n",
    "        \n",
    "    \n",
    "        // destructor method\n",
    "        ~Student(){};\n",
    "        \n",
    "};\n",
    "\n",
    "Student joey(\"Joey\", 987654321, 100001, 3.75);\n",
    "Student joey_clone(joey);\n",
    "    \n",
    "cout << \"The student named \"   << joey.name       << \" has a CGPA of \" << joey.CGPA       << endl;\n",
    "cout << \"The student's clone \" << joey_clone.name << \" has a CGPA of \" << joey_clone.CGPA << endl;"
   ]
  },
  {
   "cell_type": "markdown",
   "metadata": {},
   "source": [
    "### This class has my ```friend``` \n",
    "\n",
    "Sometimes the functions might already be declared or defined outside of the class, so redefining it again would be redundant. So, we use the ```friend``` keyword when we want to declare a function as a part of the ```class```, which has access to all of the members. Another ```class```'s member functions can also be declared as ```friend``` functions.\n",
    "\n",
    "```\n",
    "    class class_name {\n",
    "        private:\n",
    "            // attribute declarations\n",
    "        public:\n",
    "            // attribute declarations\n",
    "            // method declarations\n",
    "            \n",
    "            // declaring a friend function\n",
    "            friend type function_name(parameters);\n",
    "            \n",
    "            // declaring friend functions from another class\n",
    "            friend class another_class;\n",
    "     };\n",
    "```\n",
    "\n",
    "### What's the point of  ```class``` ?\n",
    "\n",
    "Since classes are essentially objects that reside in the computer's memory, then it can also be pointed by pointers.\n",
    "\n",
    "### A little bit more complicated constructor\n",
    "\n",
    "Classes can sometimes be interconnected, and one may be an attribute of another. Its another way to define a constructor where a member needs a parameter for its declaration. The constructor's syntax is as follows:\n",
    "\n",
    "    class_name::class_name (int x, int y) : width(x), width(y) {};\n",
    "\n",
    "Here we will show how you can call in **another class as a member of another class**.\n",
    "\n",
    "\n",
    "\n"
   ]
  },
  {
   "cell_type": "code",
   "execution_count": 48,
   "metadata": {},
   "outputs": [
    {
     "name": "stdout",
     "output_type": "stream",
     "text": [
      "The cylinder's volume is 392.75\n",
      "The cylinder's volume is 392.75\n"
     ]
    }
   ],
   "source": [
    "class Circle {\n",
    "    private:\n",
    "        float radius;  \n",
    "    public:\n",
    "        // Constructor\n",
    "        Circle (float r) {\n",
    "            radius = r;\n",
    "        };\n",
    "    \n",
    "        // Member function\n",
    "        float area() {\n",
    "            return radius*radius*3.142;\n",
    "        };\n",
    "};\n",
    "\n",
    "class Cylinder {\n",
    "    private:\n",
    "        Circle base; // here, we call the Circle as an attribute of Cylinder\n",
    "        float height;\n",
    "    public:\n",
    "        \n",
    "        // Constructor, here we have to explicitly declare the base as it uses the Circle class\n",
    "        Cylinder (float r, float h) : base(r), height(h) {}\n",
    "    \n",
    "        // Member function\n",
    "        float volume() {\n",
    "            return base.area() * height;\n",
    "        };\n",
    "        \n",
    "};\n",
    "\n",
    "Cylinder tincan(5, 5);\n",
    "Cylinder *tincan_ptr = &tincan;   // pointer for the Cylinder class\n",
    "cout << \"The cylinder's volume is \" << tincan.volume()      << endl;\n",
    "cout << \"The cylinder's volume is \" << tincan_ptr->volume() << endl;"
   ]
  },
  {
   "cell_type": "markdown",
   "metadata": {},
   "source": [
    "**Exercise 4: Construct classes to describe 2-D objects (squares or triangles) and 3-D objects (cubes, cuboids or pyramids). These classes may use information from other classes or ```friend``` functions where you think necessary.**"
   ]
  },
  {
   "cell_type": "code",
   "execution_count": null,
   "metadata": {},
   "outputs": [],
   "source": []
  },
  {
   "cell_type": "markdown",
   "metadata": {},
   "source": [
    "**Exercise 5: Create a ```class``` for a point charge, where it takes in its charge (in terms of Coulombs) andits position in a 2-D plane. We should be able to extract the value of its exerted potential field and the force and direction it when another point charge is present.**\n",
    "\n",
    "<img src=\"./images/pointcharge.jpg\">\n"
   ]
  },
  {
   "cell_type": "code",
   "execution_count": null,
   "metadata": {},
   "outputs": [],
   "source": []
  }
 ],
 "metadata": {
  "kernelspec": {
   "display_name": "ROOT C++",
   "language": "c++",
   "name": "root"
  },
  "language_info": {
   "codemirror_mode": "text/x-c++src",
   "file_extension": ".C",
   "mimetype": " text/x-c++src",
   "name": "c++"
  }
 },
 "nbformat": 4,
 "nbformat_minor": 4
}

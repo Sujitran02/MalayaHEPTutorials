{
 "cells": [
  {
   "cell_type": "markdown",
   "metadata": {},
   "source": [
    "# Encapsulation: Why so ```private```?"
   ]
  },
  {
   "cell_type": "markdown",
   "metadata": {},
   "source": [
    "As shown before, class member variables are commonly made ```private``` for the sake of simplicity for the user. **Encapsulation** is basically hiding away the intricate details of the object from the user, making them using it only via a ```public``` interface. \n",
    "\n",
    "<img src=\"./images/encapsulation.png\">\n",
    "\n",
    "Though, some programmers may argue that it only makes thing complex to hide certain members from the users. Practically, a complex ```class``` may have sensitive members, that if a user makes a mistake, it might endanger other operations as well.\n",
    "\n",
    "Example:"
   ]
  },
  {
   "cell_type": "code",
   "execution_count": 12,
   "metadata": {},
   "outputs": [
    {
     "name": "stdout",
     "output_type": "stream",
     "text": [
      " A circle of radius 5 has an area of 78.55\n"
     ]
    }
   ],
   "source": [
    "class Circle{\n",
    "    private:\n",
    "        float radius;\n",
    "        float pi = 3.142;\n",
    "    \n",
    "    public:\n",
    "        Circle(float r)       { radius = r;};\n",
    "        void setRad(float s)  { radius = s; };\n",
    "        float getRad()        { return radius; };\n",
    "        float Circum()        { return 2*pi*radius; };\n",
    "        float Area()          { return pi*radius*radius; }; \n",
    "};\n",
    "\n",
    "Circle bolat(5);\n",
    "\n",
    "cout << \" A circle of radius \" << bolat.getRad() << \" has an area of \" << bolat.Area() << endl;\n"
   ]
  },
  {
   "cell_type": "markdown",
   "metadata": {},
   "source": [
    "In the example above, if a user mistakenly accesses the value of pi (given that its ```public```), then it would give of wrong values for the following member functions.\n",
    "\n",
    "Another benefit would be that, any naming changes to  ```private``` member variable naming would not need to be propagated to dependent programs. If ```radius``` was ```public``` and a program explicitly called it, a naming change would crash the program unless it is propagated as well.\n",
    "\n",
    "This limited nature also helps debugging, where a problem can be localized in the class itself and not to dependent programs.\n",
    "\n",
    "## Access functions: ```private``` Backdoors\n",
    "\n",
    "Sometimes, a ```class``` may need for its member variable to be accessed. Hence, access functions. An example would be the ```getRad()```  and the ```setRad()``` functions in the previous example.\n",
    "\n",
    "A general rule of thumb: if the user does not have any neccessary need to access a ```private``` member, do not bother to put access functions.\n",
    "\n",
    "# Inheritance: ```protected``` Heirlooms\n",
    "\n",
    "A lot of times, a ```class``` is defined in terms of others, which makes it easy to maintain. This behaviour enhances reusability and compartmentalizes debugging problems. It may also run faster.\n",
    "\n",
    "A ```class```, instead of having repeating members, can inherit from other classes. The inherited ```class``` is the **base** while the inheriting one is **derived**.\n",
    "\n",
    "In terms of object relationsip, the **derived** ```class``` **\"is a\" base** ```class```. Like the example below, the Right-Triangle **is a** Triangle which also **is a** shape. The square **is a** form of rectangle and so on.\n",
    "\n",
    "<img src=\"./images/ShapesInheritance.gif\">\n",
    "\n",
    "### Type of inheritance:\n",
    "\n",
    "* **Single inheritance:** A ```class``` derived from a single base\n",
    "* **Multiple inheritance:** A ```class``` derived from multiple bases\n",
    "* **Multilevel inheritance:** A ```class``` derived from another derivative\n",
    "* **Hierarchical inheritance:** Multiple classes derived from a ```class```\n",
    "* **Hybrid inheritance:** Combinations of other inheritances\n",
    "\n",
    "\n",
    "<img src=\"./images/types-of-inheritance.png\">\n",
    "\n",
    "A derived ```class``` can access non-```private``` members of the base. This is where the ```protected``` access specifier you learnt before comes in.\n",
    "\n",
    "Derivatives though do not inherit constructors, destructors, overloaded operators and ```friend``` functions from the base.\n",
    "\n",
    "The syntax for the inheritance is as follows:\n",
    "    \n",
    "    // single inheritance\n",
    "    class derived_name: access_specifier base_name {} \n",
    "    \n",
    "    // multiple inheritance\n",
    "    class derived_name: access base1, access base2, .....\n",
    "\n",
    "**Note:** Usually, ```protected``` members are written last, but it does not really matter."
   ]
  },
  {
   "cell_type": "code",
   "execution_count": 22,
   "metadata": {},
   "outputs": [
    {
     "name": "stdout",
     "output_type": "stream",
     "text": [
      "Area of the rectangle: 30\n",
      "Area of the rectangle: 35\n"
     ]
    }
   ],
   "source": [
    "// base class\n",
    "class Shape2D {    \n",
    "    public:\n",
    "        // base constructor\n",
    "        Shape2D(double w, double l){\n",
    "            width  = w;\n",
    "            length = l;\n",
    "        };\n",
    "    \n",
    "        // base methods\n",
    "        void setWidth(double w)  { width  = w;};\n",
    "        void setLength(double l) { length = l;};\n",
    "        double getWidth()  { return width; };\n",
    "        double getLength() { return length; };\n",
    "    \n",
    "    protected:\n",
    "        // base attributes\n",
    "        double width;\n",
    "        double length;\n",
    "};\n",
    "\n",
    "// since a quadrilateral class is redundant, we will skip it\n",
    "\n",
    "// Derived class\n",
    "class Rectangle: public Shape2D {\n",
    "    private:\n",
    "        // derived attributes\n",
    "        string name = \"rectangle\";\n",
    "    \n",
    "    public:    \n",
    "        // derived constructor\n",
    "        Rectangle(double w, double l) : Shape2D(w, l){}\n",
    "    \n",
    "        // derived methods\n",
    "        double Area()    { return width*length; };\n",
    "        string getName() { return name; };\n",
    "    \n",
    "};\n",
    "\n",
    "Rectangle box(5, 6);\n",
    "cout << \"Area of the \" << box.getName() << \": \" << box.Area() << endl;\n",
    "box.setLength(7);\n",
    "cout << \"Area of the \" << box.getName() << \": \" << box.Area() << endl;\n"
   ]
  },
  {
   "cell_type": "markdown",
   "metadata": {},
   "source": [
    "The access specifier mentioned before the base class in the derived class definition will determine the mode of inheritance, though ```public``` inheritance is the most widely used while the rest are rarely found. As mentioned in the previous notebook, ```private``` members can not be accessed outside of the class and thus are not inherited.\n",
    "\n",
    "### Modes of inheritance:\n",
    "\n",
    "* **Public**: ```public``` base members become ```public``` derived members, and so does the ```protected``` members.\n",
    "* **Protected**: Both member types become ```protected``` members.\n",
    "* **Private**: Both member types become ```private``` members.\n",
    "\n",
    "The ```protected``` mode has little usage, but the ```private``` mode may be useful when a base class is needed only for internal implementation.\n",
    "\n",
    "## Override: Derived is the new Base\n",
    "\n",
    "As you have seen in the example above, a base member function can be called by a derived object. There are two cases above. When the ```setLength()``` method is called, the compiler looks up the derived ```class``` first before moving to the base ```class``` to find it. When the ```Area()``` method is called on the other hand, the compiler uses the one immediately found in the derived ```class```.\n",
    "\n",
    "Though, if the derived ```class``` were to have a method named ```setLength()```, then the compiler will use it first.\n",
    "\n",
    "The new method however does not inherit the previous method's acess specifier, and uses the access specifier given in its own class. This enables one to redefine a method or make it ```private``` in a derived ```class```.\n",
    "\n",
    "### Keyword? ```using```. Access Approved.\n",
    "\n",
    "To access a method of a ```class``` outside of its scope, we have mentioned that you need to use the ```::``` operator. Alongside the ```using``` keyword, you can also access a ```protected``` base member inside the derived ```class```.\n",
    "\n",
    "The keyword ```using``` will change the access according to the access specifier it is under in the derived's scope."
   ]
  },
  {
   "cell_type": "code",
   "execution_count": 28,
   "metadata": {},
   "outputs": [
    {
     "name": "stdout",
     "output_type": "stream",
     "text": [
      "I am the base\n",
      "I am derived\n",
      "I am hidden!\n"
     ]
    }
   ],
   "source": [
    "class Base {\n",
    "    public:\n",
    "        void identify(){ cout << \"I am the base\\n\"; };\n",
    "    protected:\n",
    "        void hidden(){ cout << \"I am hidden!\\n\"; };\n",
    "};\n",
    "\n",
    "class Derived: public Base{\n",
    "    public:\n",
    "        void identify(){ cout << \"I am derived\\n\";};\n",
    "    \n",
    "        using Base::hidden;\n",
    "};\n",
    "\n",
    "Base b;\n",
    "Derived d;\n",
    "\n",
    "b.identify();\n",
    "d.identify();\n",
    "\n",
    "// b.hidden();\n",
    "d.hidden();\n"
   ]
  },
  {
   "cell_type": "markdown",
   "metadata": {},
   "source": [
    "**Exercise 1: Velocity is a time derivative of the position vector. Construct classes for a Cartesian point and a time point, then classes for the time vector and the displacement vector, and finally a velocity vector.**\n",
    "\n",
    "Tip: Make sure there is no overlapping with method naming. The vector ```class``` would be inheriting from both the time and displacement vectors."
   ]
  },
  {
   "cell_type": "code",
   "execution_count": null,
   "metadata": {},
   "outputs": [],
   "source": []
  },
  {
   "cell_type": "markdown",
   "metadata": {},
   "source": [
    "**Optional Exercise: Mesons are composed of two quarks. Using the Eightfold Way diagram below, construct two classes for quarks and mesons. The quark ```class``` should take in the basic attributes. Show the strangeness and electric charge of the resulting meson.**\n",
    "\n",
    "<img src=\"./images/meson-octet.png\" width=350>\n",
    "\n"
   ]
  },
  {
   "cell_type": "code",
   "execution_count": null,
   "metadata": {},
   "outputs": [],
   "source": []
  },
  {
   "cell_type": "markdown",
   "metadata": {},
   "source": [
    "# Overload: Use It Until It Crashes\n",
    "\n"
   ]
  },
  {
   "cell_type": "code",
   "execution_count": null,
   "metadata": {},
   "outputs": [],
   "source": []
  }
 ],
 "metadata": {
  "kernelspec": {
   "display_name": "ROOT C++",
   "language": "c++",
   "name": "root"
  },
  "language_info": {
   "codemirror_mode": "text/x-c++src",
   "file_extension": ".C",
   "mimetype": " text/x-c++src",
   "name": "c++"
  }
 },
 "nbformat": 4,
 "nbformat_minor": 4
}

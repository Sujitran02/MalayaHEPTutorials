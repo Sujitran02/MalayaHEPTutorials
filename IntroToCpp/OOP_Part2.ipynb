{
 "cells": [
  {
   "cell_type": "markdown",
   "metadata": {},
   "source": [
    "# Encapsulation: Why so ```private```?"
   ]
  },
  {
   "cell_type": "markdown",
   "metadata": {},
   "source": [
    "As shown before, class member variables are commonly made ```private``` for the sake of simplicity for the user. **Encapsulation** is basically hiding away the intricate details of the object from the user, making them using it only via a ```public``` interface. \n",
    "\n",
    "<img src=\"./images/encapsulation.png\">\n",
    "\n",
    "Though, some programmers may argue that it only makes thing complex to hide certain members from the users. Practically, a complex ```class``` may have sensitive members, that if a user makes a mistake, it might endanger other operations as well.\n",
    "\n",
    "Example:"
   ]
  },
  {
   "cell_type": "code",
   "execution_count": 12,
   "metadata": {},
   "outputs": [
    {
     "name": "stdout",
     "output_type": "stream",
     "text": [
      " A circle of radius 5 has an area of 78.55\n"
     ]
    }
   ],
   "source": [
    "class Circle{\n",
    "    private:\n",
    "        float radius;\n",
    "        float pi = 3.142;\n",
    "    \n",
    "    public:\n",
    "        Circle(float r)       { radius = r;};\n",
    "        void setRad(float s)  { radius = s; };\n",
    "        float getRad()        { return radius; };\n",
    "        float Circum()        { return 2*pi*radius; };\n",
    "        float Area()          { return pi*radius*radius; }; \n",
    "};\n",
    "\n",
    "Circle bolat(5);\n",
    "\n",
    "cout << \" A circle of radius \" << bolat.getRad() << \" has an area of \" << bolat.Area() << endl;\n"
   ]
  },
  {
   "cell_type": "markdown",
   "metadata": {},
   "source": [
    "In the example above, if a user mistakenly accesses the value of pi (given that its ```public```), then it would give of wrong values for the following member functions.\n",
    "\n",
    "Another benefit would be that, any naming changes to  ```private``` member variable naming would not need to be propagated to dependent programs. If ```radius``` was ```public``` and a program explicitly called it, a naming change would crash the program unless it is propagated as well.\n",
    "\n",
    "This limited nature also helps debugging, where a problem can be localized in the class itself and not to dependent programs.\n",
    "\n",
    "## Access functions: ```private``` Backdoors\n",
    "\n",
    "Sometimes, a ```class``` may need for its member variable to be accessed. Hence, access functions. An example would be the ```getRad()```  and the ```setRad()``` functions in the previous example.\n",
    "\n",
    "A general rule of thumb: if the user does not have any neccessary need to access a ```private``` member, do not bother to put access functions.\n",
    "\n",
    "# Inheritance: ```protected``` Heirlooms\n",
    "\n",
    "A lot of times, a ```class``` is defined in terms of others, which makes it easy to maintain. This behaviour enhances reusability and compartmentalizes debugging problems. It may also run faster.\n",
    "\n",
    "A ```class```, instead of having repeating members, can inherit from other classes. The inherited ```class``` is the **base** while the inheriting one is **derived**.\n",
    "\n",
    "In terms of object relationsip, the **derived** ```class``` **\"is a\" base** ```class```. Like the example below, the Right-Triangle **is a** Triangle which also **is a** shape. The square **is a** form of rectangle and so on.\n",
    "\n",
    "<img src=\"./images/ShapesInheritance.gif\">\n",
    "\n",
    "### Type of inheritance:\n",
    "\n",
    "* **Single inheritance:** A ```class``` derived from a single base\n",
    "* **Multiple inheritance:** A ```class``` derived from multiple bases\n",
    "* **Multilevel inheritance:** A ```class``` derived from another derivative\n",
    "* **Hierarchical inheritance:** Multiple classes derived from a ```class```\n",
    "* **Hybrid inheritance:** Combinations of other inheritances\n",
    "\n",
    "\n",
    "<img src=\"./images/types-of-inheritance.png\">\n",
    "\n",
    "A derived ```class``` can access non-```private``` members of the base. This is where the ```protected``` access specifier you learnt before comes in.\n",
    "\n",
    "Derivatives though do not inherit constructors, destructors, overloaded operators and ```friend``` functions from the base.\n",
    "\n",
    "The syntax for the inheritance is as follows:\n",
    "    \n",
    "    // single inheritance\n",
    "    class derived_name: access_specifier base_name {} \n",
    "    \n",
    "    // multiple inheritance\n",
    "    class derived_name: access base1, access base2, .....\n",
    "\n",
    "**Note:** Usually, ```protected``` members are written last, but it does not really matter."
   ]
  },
  {
   "cell_type": "code",
   "execution_count": 22,
   "metadata": {},
   "outputs": [
    {
     "name": "stdout",
     "output_type": "stream",
     "text": [
      "Area of the rectangle: 30\n",
      "Area of the rectangle: 35\n"
     ]
    }
   ],
   "source": [
    "// base class\n",
    "class Shape2D {    \n",
    "    public:\n",
    "        // base constructor\n",
    "        Shape2D(double w, double l){\n",
    "            width  = w;\n",
    "            length = l;\n",
    "        };\n",
    "    \n",
    "        // base methods\n",
    "        void setWidth(double w)  { width  = w;};\n",
    "        void setLength(double l) { length = l;};\n",
    "        double getWidth()  { return width; };\n",
    "        double getLength() { return length; };\n",
    "    \n",
    "    protected:\n",
    "        // base attributes\n",
    "        double width;\n",
    "        double length;\n",
    "};\n",
    "\n",
    "// since a quadrilateral class is redundant, we will skip it\n",
    "\n",
    "// Derived class\n",
    "class Rectangle: public Shape2D {\n",
    "    private:\n",
    "        // derived attributes\n",
    "        string name = \"rectangle\";\n",
    "    \n",
    "    public:    \n",
    "        // derived constructor\n",
    "        Rectangle(double w, double l) : Shape2D(w, l){}\n",
    "    \n",
    "        // derived methods\n",
    "        double Area()    { return width*length; };\n",
    "        string getName() { return name; };\n",
    "    \n",
    "};\n",
    "\n",
    "Rectangle box(5, 6);\n",
    "cout << \"Area of the \" << box.getName() << \": \" << box.Area() << endl;\n",
    "box.setLength(7);\n",
    "cout << \"Area of the \" << box.getName() << \": \" << box.Area() << endl;\n"
   ]
  },
  {
   "cell_type": "markdown",
   "metadata": {},
   "source": [
    "The access specifier mentioned before the base class in the derived class definition will determine the mode of inheritance, though ```public``` inheritance is the most widely used while the rest are rarely found. As mentioned in the previous notebook, ```private``` members can not be accessed outside of the class and thus are not inherited.\n",
    "\n",
    "### Modes of inheritance:\n",
    "\n",
    "* **Public**: ```public``` base members become ```public``` derived members, and so does the ```protected``` members.\n",
    "* **Protected**: Both member types become ```protected``` members.\n",
    "* **Private**: Both member types become ```private``` members.\n",
    "\n",
    "The ```protected``` mode has little usage, but the ```private``` mode may be useful when a base class is needed only for internal implementation.\n",
    "\n",
    "## Override: Derived is the new Base\n",
    "\n",
    "As you have seen in the example above, a base member function can be called by a derived object. There are two cases above. When the ```setLength()``` method is called, the compiler looks up the derived ```class``` first before moving to the base ```class``` to find it. When the ```Area()``` method is called on the other hand, the compiler uses the one immediately found in the derived ```class```.\n",
    "\n",
    "Though, if the derived ```class``` were to have a method named ```setLength()```, then the compiler will use it first.\n",
    "\n",
    "The new method however does not inherit the previous method's acess specifier, and uses the access specifier given in its own class. This enables one to redefine a method or make it ```private``` in a derived ```class```.\n",
    "\n",
    "### Keyword? ```using```. Access Approved.\n",
    "\n",
    "To access a method of a ```class``` outside of its scope, we have mentioned that you need to use the ```::``` operator. Alongside the ```using``` keyword, you can also access a ```protected``` base member inside the derived ```class```.\n",
    "\n",
    "The keyword ```using``` will change the access according to the access specifier it is under in the derived's scope."
   ]
  },
  {
   "cell_type": "code",
   "execution_count": 28,
   "metadata": {},
   "outputs": [
    {
     "name": "stdout",
     "output_type": "stream",
     "text": [
      "I am the base\n",
      "I am derived\n",
      "I am hidden!\n"
     ]
    }
   ],
   "source": [
    "class Base {\n",
    "    public:\n",
    "        void identify(){ cout << \"I am the base\\n\"; };\n",
    "    protected:\n",
    "        void hidden(){ cout << \"I am hidden!\\n\"; };\n",
    "};\n",
    "\n",
    "class Derived: public Base{\n",
    "    public:\n",
    "        void identify(){ cout << \"I am derived\\n\";};\n",
    "    \n",
    "        using Base::hidden;\n",
    "};\n",
    "\n",
    "Base b;\n",
    "Derived d;\n",
    "\n",
    "b.identify();\n",
    "d.identify();\n",
    "\n",
    "// b.hidden();\n",
    "d.hidden();\n"
   ]
  },
  {
   "cell_type": "markdown",
   "metadata": {},
   "source": [
    "**Exercise 1: Velocity is a time derivative of the position vector. Construct classes for a Cartesian point and a time point, then classes for the time vector and the displacement vector, and finally a velocity vector.**\n",
    "\n",
    "Tip: Make sure there is no overlapping with method naming. The vector ```class``` would be inheriting from both the time and displacement vectors."
   ]
  },
  {
   "cell_type": "code",
   "execution_count": null,
   "metadata": {},
   "outputs": [],
   "source": []
  },
  {
   "cell_type": "markdown",
   "metadata": {},
   "source": [
    "**Optional Exercise: Mesons are composed of two quarks. Using the Eightfold Way diagram below, construct two classes for quarks and mesons. The quark ```class``` should take in the basic attributes. Show the strangeness and electric charge of the resulting meson.**\n",
    "\n",
    "<img src=\"./images/meson-octet.png\" width=350>\n",
    "\n"
   ]
  },
  {
   "cell_type": "code",
   "execution_count": null,
   "metadata": {},
   "outputs": [],
   "source": []
  },
  {
   "cell_type": "markdown",
   "metadata": {},
   "source": [
    "# Overload: Use It Until It Crashes\n",
    "\n",
    "## Function Overloading\n",
    "\n",
    "One feature of C++ is that you are able to create multiple functions with the same name, as long as they have different parameteres.\n",
    "\n",
    "**Note:** Due to the limitations of the ```cling``` interpreter, one function can only be defined in a single cell at a time, hence the 3 cells below for a single example.\n"
   ]
  },
  {
   "cell_type": "code",
   "execution_count": 12,
   "metadata": {},
   "outputs": [],
   "source": [
    "void takeInput(int    x){ cout << \"This function takes in an int type\\n\"; };"
   ]
  },
  {
   "cell_type": "code",
   "execution_count": 13,
   "metadata": {},
   "outputs": [],
   "source": [
    "void takeInput(float  x){ cout << \"This function takes in a float type\\n\"; };"
   ]
  },
  {
   "cell_type": "code",
   "execution_count": 16,
   "metadata": {},
   "outputs": [
    {
     "name": "stdout",
     "output_type": "stream",
     "text": [
      "This function takes in an int type\n",
      "This function takes in a float type\n",
      "This function takes in 2 float types\n"
     ]
    }
   ],
   "source": [
    "void takeInput(float x, float y){ cout << \"This function takes in 2 float types\\n\"; };\n",
    "\n",
    "int x = 5;\n",
    "float y = 5, z = 5, ai = 5;\n",
    "\n",
    "takeInput(x);\n",
    "takeInput(y);\n",
    "takeInput(z, ai);"
   ]
  },
  {
   "cell_type": "markdown",
   "metadata": {},
   "source": [
    "The compiler is able to avoid naming conflict by checking out the arguments placed in it and the number of arguments as well as shown in the example above. This only works with different parameters, not different function types. So, if you have multiple functions with the same name & input but only different types, it cannot compile. Example:\n",
    "\n",
    "```\n",
    "void takeInput();a\n",
    "int  takeInput();\n",
    "```\n",
    "\n",
    "## Operator Overloading\n",
    "\n",
    "Operators in C++ essentially are implemented as functions, thus is able to be overloaded as well. A line ```x + y``` can be understood as ```operator+(x, y)```. This can be useful if you want to add operators to the utility of a ```class```.\n",
    "\n",
    "Though, the following operators cannot be overloaded:\n",
    "* Conditional operator: ```? :```\n",
    "* Scope operator: ```::```\n",
    "* Member selector: ```.```\n",
    "* Member Pointer Selector: ```.*```\n",
    "* ```typeid```\n",
    "* Casting operators, e.g: ```(type) expression```\n",
    "\n",
    "The syntax for operator overloading for a class is as follows, with the addition operator ```+```:\n",
    "\n",
    "```\n",
    "class MyClass {\n",
    "    private:\n",
    "        int x;\n",
    "    public:\n",
    "        int getVal(){ return x };\n",
    "    \n",
    "        MyClass operator+(const MyClass &c1, const MyClass &c2){\n",
    "            return MyClass( c1.getVal() + c2.getVal() );\n",
    "        };\n",
    "}\n",
    "```\n",
    "\n",
    "Thus, an operation ``` MyClass(5) + MyClass(6)``` can be compiled.\n",
    "\n",
    "Since operators are essentially functions, you can add in as many interpretations as you want with the requirement that they have different parameters. This comes in when you want to do something like adding two different data types where one of them is user-defined. Example:\n",
    "\n",
    "```\n",
    "MyClass(5) + 5;\n",
    "5 + MyClass(5);\n",
    "```\n",
    "\n",
    "The order of parameters plays an important role, so a programmer needs to consider these cases. A more detailed explanation on how to overload certain operators can be glossed over in the Internet.\n",
    "\n",
    "# Shapeshifters: Polymorphism\n",
    "\n",
    "When a ```class``` inherits another, a pointer to the derivative is type-compatible with the base. How would we use this feature?\n",
    "\n",
    "Remember how a ```class``` can also have a pointer of its own? When inheritance comes into play, it gets a bit complicated. Let's see the example below."
   ]
  },
  {
   "cell_type": "code",
   "execution_count": 20,
   "metadata": {},
   "outputs": [
    {
     "name": "stdout",
     "output_type": "stream",
     "text": [
      "16\n",
      "8\n",
      "25\n",
      "12.5\n"
     ]
    }
   ],
   "source": [
    "// base class\n",
    "class Polygon {\n",
    "    public:        \n",
    "        void setVal(float x, float y){width = x; length = y;};\n",
    "        void setWid(float x){ width  = x; };\n",
    "        void setLen(float x){ length = x; };\n",
    "    \n",
    "    protected:\n",
    "        float width, length;\n",
    "};\n",
    "\n",
    "// derived class 1\n",
    "class Rectangle: public Polygon{\n",
    "    public:\n",
    "        float area(){ return width*length; };\n",
    "};\n",
    "\n",
    "// derived class 2\n",
    "class Triangle: public Polygon{\n",
    "    public:\n",
    "        float area(){ return 0.5*width*length; };\n",
    "};\n",
    "\n",
    "// class declaration\n",
    "Rectangle rect;\n",
    "Triangle  tri;\n",
    "\n",
    "// pointer declaration and address assignment\n",
    "Polygon* rectptr = &rect;\n",
    "Polygon* triptr  = &tri;\n",
    "\n",
    "// setting the values of the class objects directly\n",
    "rect.setVal(4, 4);\n",
    "tri.setVal(4, 4);\n",
    "\n",
    "// output\n",
    "cout << rect.area() << \"\\n\";\n",
    "cout << tri.area() << \"\\n\";\n",
    "\n",
    "// setting the values of the class objects via their pointers\n",
    "rectptr->setVal(5, 5);\n",
    "triptr->setVal(5, 5);\n",
    "\n",
    "// output\n",
    "cout << rect.area() << \"\\n\";\n",
    "cout << tri.area() << \"\\n\";"
   ]
  },
  {
   "cell_type": "markdown",
   "metadata": {},
   "source": [
    "Notice how ```setVal()``` works the same directly or via pointers, but it is only possible for the pointers to access the methods inherited from ```Polygon``` and not the derived classes, because it is not a ```Rectangle``` or a ```Triangle``` object. Hence, why the ```area()``` method only works when we call them directly from ```tri``` and ```rect``` respectively."
   ]
  },
  {
   "cell_type": "code",
   "execution_count": 22,
   "metadata": {},
   "outputs": [],
   "source": [
    "// this does not work as the Polygon class has no area() method\n",
    "// cout << rectptr->area() << \"\\n\";\n",
    "// cout << triptr->area()  << \"\\n\";"
   ]
  },
  {
   "cell_type": "markdown",
   "metadata": {},
   "source": [
    "One simple workaround would be to implement another ```area()``` method in the base ```Polygon```, but remember that ```Triangle``` and ```Rectangle``` implements it differently (because the equation is different).\n",
    "\n",
    "## Here and there, and everywhere: ```virtual``` members\n",
    "\n",
    "By using the ```virtual``` keyword, we can bypass this problem given that the base ```class``` has the base method first.\n",
    "\n",
    "Declaring a member ```virtual``` enables it to be redefined in a derived ```class```. Of course, a normal redifinition works fine, but this the only way a method can be accessed from a reference of the base. This is how a ```class``` becomes polymorphic.\n",
    "\n",
    "**Try it out:** Remove the keyword ```virtual``` from the example below and see what it shows."
   ]
  },
  {
   "cell_type": "code",
   "execution_count": 54,
   "metadata": {},
   "outputs": [
    {
     "name": "stdout",
     "output_type": "stream",
     "text": [
      "16\n",
      "8\n"
     ]
    }
   ],
   "source": [
    "class Polygon2 {\n",
    "    public:         \n",
    "        void   setVal(float x, float y){width = x; length = y;};\n",
    "        void   setWid(float x)         { width  = x; };\n",
    "        void   setLen(float x)         { length = x; };        \n",
    "        float  getWid()                { return width ; };\n",
    "        float  getLen()                { return length; };\n",
    "        string getName()               { return name; }\n",
    "    \n",
    "        // we add this line to the base class\n",
    "        virtual float area(){ return 0; };\n",
    "    \n",
    "    protected:\n",
    "        float width, length;\n",
    "        string name;\n",
    "};\n",
    "\n",
    "// derived class 1\n",
    "class Rectangle2: public Polygon2{\n",
    "    private:\n",
    "        string name = \"Rectangle\";\n",
    "    public:\n",
    "        float  area()   { return width*length; };\n",
    "        string getName(){ return name; };\n",
    "};\n",
    "\n",
    "// derived class 2\n",
    "class Triangle2: public Polygon2{\n",
    "    private:\n",
    "        string name = \"Triangle\";\n",
    "    public:\n",
    "        float area(){ return 0.5*width*length; };\n",
    "        string getName(){ return name; };\n",
    "};\n",
    "\n",
    "// class declaration\n",
    "Rectangle2 rect2;\n",
    "Triangle2  tri2;\n",
    "\n",
    "// pointer declaration and address assignment\n",
    "Polygon2* rectptr2 = &rect2;\n",
    "Polygon2* triptr2  = &tri2;\n",
    "\n",
    "// setting the values of the class objects directly\n",
    "rect2.setVal(4, 4);\n",
    "tri2.setVal(4, 4);\n",
    "\n",
    "\n",
    "// this now works\n",
    "cout << rectptr2->area() << \"\\n\";\n",
    "cout << triptr2->area()  << \"\\n\";\n",
    "\n"
   ]
  },
  {
   "cell_type": "markdown",
   "metadata": {},
   "source": [
    "A function is called pure ```virtual``` when its defined with ```= 0```.\n",
    "\n",
    "```\n",
    "virtual float area() = 0;\n",
    "```\n",
    "\n",
    "A ```class``` that has at least one pure ```virtual``` function is an abstract base ```class```.  Essentially, the function has no definition. One downside is that an abstract ```class``` cannot initialize an object, but it still can initialize a pointer.\n",
    "\n",
    "So, if ```Polygon``` is an abstract ```class```, then ``` Polygon poly;``` is invalid, while ``` Polygon* polyptr;``` is valid.\n",
    "\n",
    "\n",
    "\n"
   ]
  },
  {
   "cell_type": "markdown",
   "metadata": {},
   "source": [
    "**Exercise 2: Construct a base ```class``` for Particles, where it stores the 4-vector informations, and proceed from there for the following hierarchies.**\n",
    "\n",
    "<img src=\"./images/particles.jpg\">"
   ]
  },
  {
   "cell_type": "code",
   "execution_count": null,
   "metadata": {},
   "outputs": [],
   "source": []
  },
  {
   "cell_type": "code",
   "execution_count": null,
   "metadata": {},
   "outputs": [],
   "source": []
  },
  {
   "cell_type": "code",
   "execution_count": null,
   "metadata": {},
   "outputs": [],
   "source": []
  },
  {
   "cell_type": "code",
   "execution_count": null,
   "metadata": {},
   "outputs": [],
   "source": []
  }
 ],
 "metadata": {
  "kernelspec": {
   "display_name": "ROOT C++",
   "language": "c++",
   "name": "root"
  },
  "language_info": {
   "codemirror_mode": "text/x-c++src",
   "file_extension": ".C",
   "mimetype": " text/x-c++src",
   "name": "c++"
  }
 },
 "nbformat": 4,
 "nbformat_minor": 4
}

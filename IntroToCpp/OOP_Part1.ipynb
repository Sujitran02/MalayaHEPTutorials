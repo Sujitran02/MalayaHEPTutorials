{
 "cells": [
  {
   "cell_type": "markdown",
   "metadata": {},
   "source": [
    "# Introduction\n",
    "\n",
    "Object Oriented Programming (OOP) is considered the core of C++ programming. Its versatility and power in handling data is far better than the procedural programming you learnt before.\n",
    "\n",
    "In general, OOP is programming where the structures and functions of the data types is defined by the programmers instead. From that, more complex relations can be built between objects such that one object inherits attributes from another.\n",
    "\n",
    "The advantages are:\n",
    "\n",
    "* Fast and easy execution\n",
    "* A clear structure\n",
    "* Reduces repeatability when coding\n",
    "* Makes debugging & modifications easier\n",
    "\n",
    "The image below summarises the hierarchy of complexity within OOP, and we will go through them step by step.\n",
    "\n",
    "<img src=\"./images/java-oops.png\">\n"
   ]
  },
  {
   "cell_type": "markdown",
   "metadata": {},
   "source": [
    "## First Steps: ```struct```ural Basis\n",
    "\n",
    "Sometimes a number of data is concentrated on a single point, just like how a single person has a lot of characteristics. Each person has varying height, weight, blood type and birth date, but the type of data is similar to one another. It makes sense to group them around the \"person\" instead of parsing it one by one. This is where **structures** come in, a stepping stone before we move to the OOP **class**.\n",
    "\n",
    "```struct``` is a data type that you yourself define, that can combine a number of other data types. Like the example before, a person has these attributes:\n",
    "\n",
    "* Height\n",
    "* Weight\n",
    "* Blood type\n",
    "* Birthdate\n",
    "* etc....\n",
    "\n",
    "<img src=\"./images/person.jpg\" width=350>\n",
    "\n",
    "\n",
    "So how do we go to define them? Example:"
   ]
  },
  {
   "cell_type": "code",
   "execution_count": 12,
   "metadata": {},
   "outputs": [],
   "source": [
    "// struct definition\n",
    "struct person{\n",
    "    string  name;\n",
    "    float   height;\n",
    "    float   weight;\n",
    "    string  bloodType;\n",
    "};\n",
    "\n",
    "// struct declaration\n",
    "struct person Joey;     // declaring a person called Joey\n",
    "struct person Syakir;   // declaring a person called Syakir"
   ]
  },
  {
   "cell_type": "markdown",
   "metadata": {},
   "source": [
    "To access the ```struct``` members, we use the ```.``` operator. Accessing them enables us to change them and use them as outputs."
   ]
  },
  {
   "cell_type": "code",
   "execution_count": 21,
   "metadata": {},
   "outputs": [
    {
     "name": "stdout",
     "output_type": "stream",
     "text": [
      "The height of Afiq is 162\n",
      "The weight of Syakir is 65\n"
     ]
    }
   ],
   "source": [
    "// inserting the values into the structs\n",
    "Joey.name      = \"Afiq\";\n",
    "Joey.bloodType = \"B+\";\n",
    "Joey.height    = 162;\n",
    "Joey.weight    = 60;\n",
    "\n",
    "Syakir.name      = \"Syakir\";\n",
    "Syakir.bloodType = \"A-\";\n",
    "Syakir.height    = 175;\n",
    "Syakir.weight   = 65;\n",
    "\n",
    "// printing out the info from the previous structs\n",
    "cout << \"The height of \" << Joey.name   << \" is \" << Joey.height   << endl;\n",
    "cout << \"The weight of \" << Syakir.name << \" is \" << Syakir.weight << endl;"
   ]
  },
  {
   "cell_type": "markdown",
   "metadata": {},
   "source": [
    "**Exercise 1: Construct a ```struct``` with your basic information.**"
   ]
  },
  {
   "cell_type": "code",
   "execution_count": null,
   "metadata": {},
   "outputs": [],
   "source": []
  },
  {
   "cell_type": "markdown",
   "metadata": {},
   "source": [
    "### Passing a ```struct``` as a Function Argument\n",
    "\n",
    "Just like other data types, you can declare a function by using ```struct``` as one of the parameters. This is useful when you're dealing with multiple parameters, so instead of filling them one by one you can just type in a ```struct```."
   ]
  },
  {
   "cell_type": "code",
   "execution_count": 28,
   "metadata": {},
   "outputs": [
    {
     "name": "stdout",
     "output_type": "stream",
     "text": [
      "Joey's BMI: 22.8624\n",
      "Syakir's BMI: 21.2245\n"
     ]
    }
   ],
   "source": [
    "// function definition\n",
    "float BMI (person name){\n",
    "    // BMI = weight/(height^2)\n",
    "    return name.weight / pow(name.height/100, 2);\n",
    "};\n",
    "\n",
    "// printing output\n",
    "cout << \"Joey's BMI: \"   << BMI(Joey)   << endl;\n",
    "cout << \"Syakir's BMI: \" << BMI(Syakir) << endl;"
   ]
  },
  {
   "cell_type": "markdown",
   "metadata": {},
   "source": [
    "**Exercise 1.1: With the ```struct``` you made before, print them out in a separate function**\n",
    "\n",
    "Hint: Use ```void``` for the function type, it does not need to return anything."
   ]
  },
  {
   "cell_type": "code",
   "execution_count": null,
   "metadata": {},
   "outputs": [],
   "source": []
  },
  {
   "cell_type": "markdown",
   "metadata": {},
   "source": [
    "## Interlude: A Pointer Pointing to a Point\n",
    "\n",
    "Before we delve a bit more into OOP, it is good to have a short talk on pointers. If you have not known yet, each variable stores data in the memory, and it has its own address that can be accessed using the ```&``` operator."
   ]
  },
  {
   "cell_type": "code",
   "execution_count": 1,
   "metadata": {},
   "outputs": [
    {
     "name": "stdout",
     "output_type": "stream",
     "text": [
      "The value of the variable: 10\n",
      "The memory address of the variable value: 0x7f5705d70018\n"
     ]
    }
   ],
   "source": [
    "// variable declaration\n",
    "int a = 10;\n",
    "\n",
    "// printing value & address of variable\n",
    "cout << \"The value of the variable: \" << a  << endl;\n",
    "cout << \"The memory address of the variable value: \" << &a << endl;"
   ]
  },
  {
   "cell_type": "markdown",
   "metadata": {},
   "source": [
    "<img src=\"./images/pointers-in-c.png\">\n",
    "\n",
    "\n",
    "In order to use memory addresses we do not need to declare another variable to store the memory address itself, that is the function of pointers. Pointers are variables that store memory addresses."
   ]
  },
  {
   "cell_type": "code",
   "execution_count": 6,
   "metadata": {},
   "outputs": [
    {
     "name": "stdout",
     "output_type": "stream",
     "text": [
      "The value of the variable: 10\n",
      "The address of the variable: 0x7f5705d70018\n",
      "\n",
      "The variable address pointed to: 0x7f5705d70018\n",
      "The variable value pointed to: 10\n"
     ]
    }
   ],
   "source": [
    "// a pointer variable declaration, storing the address\n",
    "int* a_ptr = &a;        \n",
    "\n",
    "// printing outputs from the variable a\n",
    "\n",
    "cout << \"The value of the variable: \"   << a      << endl; // the variable itself\n",
    "cout << \"The address of the variable: \" << &a     << endl; // a direct output of the variable's memory address\n",
    "cout << \"\\n\";\n",
    "\n",
    "// printing outputs from the pointer of the variable, a_ptr\n",
    "\n",
    "cout << \"The variable address pointed to: \" << a_ptr  << endl; // output of the pointer\n",
    "cout << \"The variable value pointed to: \"   << *a_ptr << endl; // getting the variable's value using the pointer"
   ]
  },
  {
   "cell_type": "markdown",
   "metadata": {},
   "source": [
    "It is also possible to change the value of the variable via the pointer."
   ]
  },
  {
   "cell_type": "code",
   "execution_count": 7,
   "metadata": {},
   "outputs": [
    {
     "name": "stdout",
     "output_type": "stream",
     "text": [
      "The current value of the variable: 6\n",
      "The current value pointed to: 6\n"
     ]
    }
   ],
   "source": [
    "// changing the value of the variable a\n",
    "*a_ptr = 6;\n",
    "\n",
    "cout << \"The current value of the variable: \" << a      << endl;\n",
    "cout << \"The current value pointed to: \"     << *a_ptr << endl;"
   ]
  },
  {
   "cell_type": "markdown",
   "metadata": {},
   "source": [
    "### Pointer to ```struct```\n",
    "\n",
    "Just like other variables, pointers work with structures as well. Since ```struct``` has members, to access them we will use the ```->``` operator.\n",
    "\n",
    "Example:"
   ]
  },
  {
   "cell_type": "code",
   "execution_count": 11,
   "metadata": {},
   "outputs": [
    {
     "name": "stdout",
     "output_type": "stream",
     "text": [
      "162\n",
      "65\n"
     ]
    }
   ],
   "source": [
    "// struct pointers declaration\n",
    "struct person *joey_ptr = &Joey;   \n",
    "struct person *syak_ptr = &Syakir;\n",
    "\n",
    "// accessing the struct members\n",
    "cout << joey_ptr->height << endl;  \n",
    "cout << syak_ptr->weight << endl;"
   ]
  },
  {
   "cell_type": "markdown",
   "metadata": {},
   "source": [
    "**Exercise 2.1: Just like Exercise 1.1, print out the ```struct``` values, but use the pointer form instead.**"
   ]
  },
  {
   "cell_type": "code",
   "execution_count": null,
   "metadata": {},
   "outputs": [],
   "source": []
  },
  {
   "cell_type": "markdown",
   "metadata": {},
   "source": [
    "## Interlude: Useful Tips\n",
    "\n",
    "It might be tedious to type ```struct``` each time you want to declare one, so here the ```typedef``` keyword helps a lot.\n",
    "\n",
    "Also, if a ```struct``` is declared but its member isn't given a value, then it will give out a default value. For numeric data types, its 0.\n",
    "\n",
    "Example:"
   ]
  },
  {
   "cell_type": "code",
   "execution_count": 4,
   "metadata": {},
   "outputs": [
    {
     "name": "stdout",
     "output_type": "stream",
     "text": [
      "Tuesday temperature: 36.5\n",
      "Wednesday humidity: 0\n"
     ]
    }
   ],
   "source": [
    "// struct definition\n",
    "typedef struct{\n",
    "    string day;\n",
    "    float temp;\n",
    "    float humid;\n",
    "    float  windspeed;\n",
    "    string winddir;\n",
    "} Weather;\n",
    "\n",
    "// struct declaration\n",
    "Weather yesterday, today;\n",
    "\n",
    "// member value input\n",
    "today.day      = \"Wednesday\";\n",
    "yesterday.day  = \"Tuesday\";\n",
    "yesterday.temp = 36.5;\n",
    "\n",
    "// printing output\n",
    "cout << yesterday.day << \" temperature: \" << yesterday.temp  << endl;\n",
    "cout << today.day     << \" humidity: \" << yesterday.humid << endl;"
   ]
  },
  {
   "cell_type": "markdown",
   "metadata": {},
   "source": [
    "## Ready or Not: It's Time for ```class```\n",
    "\n",
    "Compared to ```struct```, ```class``` adds in more layers of complexity. But don't be scared, we'll go through them one by one. The main difference would be that you can add in functions. \n",
    "\n",
    "* **Variables** in classes are **attributes**\n",
    "* **Functions** are called **methods**.\n",
    "\n",
    "To access the ```class``` members, we use the ```.``` operator as well, but not all members are accessible like ```struct``` members. It depends on the **access specifier**, which we will take about later.\n",
    "\n",
    "**Note:** By convention, you should name your class starting with a capital letter."
   ]
  },
  {
   "cell_type": "code",
   "execution_count": 22,
   "metadata": {},
   "outputs": [
    {
     "name": "stdout",
     "output_type": "stream",
     "text": [
      "The class of 2017 has 50 students.\n"
     ]
    }
   ],
   "source": [
    "/*\n",
    "// The basic syntax of class:\n",
    "\n",
    "class class_name {\n",
    "    access_specifier:\n",
    "        // member variable declaration\n",
    "        // member function declaration\n",
    "};\n",
    "\n",
    "*/\n",
    "\n",
    "// class definition\n",
    "class Classroom {\n",
    "    public:\n",
    "    \n",
    "        // member variable declaration\n",
    "        int year;          // Year of class\n",
    "        int numStudent;    // Number of students\n",
    "        int numTeacher;    // Number of teachers\n",
    "    \n",
    "        // member functions declaration\n",
    "        void printInfo(void) {\n",
    "            cout << \"The class of \" << year << \" has \" << numStudent << \" students.\" << endl;\n",
    "        };\n",
    "};\n",
    "\n",
    "// class declaration\n",
    "Classroom SIF17;\n",
    "\n",
    "// taking input values\n",
    "SIF17.year = 2017;\n",
    "SIF17.numStudent = 50;\n",
    "\n",
    "// it is also possible to declare it like this\n",
    "// Classroom SIF17 {2017, 50};\n",
    "\n",
    "// using the class method\n",
    "SIF17.printInfo();\n"
   ]
  },
  {
   "cell_type": "markdown",
   "metadata": {},
   "source": [
    "It is also possible to define a method outside of the class, but it seems that it is not possible within this ROOTbook, so we are unable to show it here.\n",
    "\n",
    "It's syntax would be as follows, using the ```::``` operator:\n",
    "\n",
    "```\n",
    "class MyClass {\n",
    "    public:\n",
    "        void myMethod();\n",
    "};\n",
    "\n",
    "void MyClass::myMethod() {\n",
    "    cout << \"What's up?! << endl;\n",
    "};\n",
    "\n",
    "```\n",
    "\n",
    "**Note:** Due to the nature of the C++ compiler, it is not possible for a function to call another function that is defined after it. But this can be done with member functions in a ```class```.\n",
    "\n",
    "### Access Specifiers: Some Publicity and Privacy, Protection Too\n",
    "\n",
    "Classes have access specifiers that determine how its members can be accessed.\n",
    "\n",
    "* The ```public``` keyword essentially gives all access to the attributes of the ```class``` members, enabling the values to be accessible outside of the ```class```.\n",
    "* Conversely, ```private``` members are inaccessible outside of the ```class```.\n",
    "* Another specifier is ```protected```, where only inherited classes can access them. We will discuss them later in Inheritance.\n",
    "\n",
    "By nature, all ```struct``` members are public by default.\n",
    "\n",
    "If you did not specify ```public``` when declaring a ```class``` member, it automatically takes it as ```private``` instead. Later, in Encapsulation, we will see how private members can be accessed using a public method.\n",
    "\n",
    "**Note:** By convention, member variables are ```private``` while member functions are ```public```, unless needed.\n",
    "\n"
   ]
  },
  {
   "cell_type": "code",
   "execution_count": 23,
   "metadata": {},
   "outputs": [
    {
     "name": "stdout",
     "output_type": "stream",
     "text": [
      "The line is 10 metres long.\n",
      "The line is 10 metres long.\n"
     ]
    }
   ],
   "source": [
    "// class definition\n",
    "class Line {\n",
    "    private:\n",
    "        // attribute declaration\n",
    "        float length;\n",
    "    \n",
    "    public:     \n",
    "        // method declaration\n",
    "        void setLength(float x){ length = x; };\n",
    "        \n",
    "        float getLength(){ return length; };\n",
    "    \n",
    "        void printInfo(){ cout << \"The line is \" << length << \" metres long.\" << endl; };\n",
    "};\n",
    "\n",
    "// class declaration\n",
    "Line l1;\n",
    "\n",
    "// taking input value\n",
    "l1.setLength(10);\n",
    "\n",
    "// using class methods\n",
    "cout << \"The line is \" << l1.getLength() << \" metres long.\" << endl;\n",
    "l1.printInfo();\n",
    "\n",
    "// Note: It is not possible to access the private member outside of the class\n",
    "// Uncomment the line below, and see what error you will get.\n",
    "// cout << \"The line is \" << l1.length() << \" metres long.\" << endl;\n"
   ]
  },
  {
   "cell_type": "markdown",
   "metadata": {},
   "source": [
    "**Exercise 3: Construct a class to take information about houses for sale. Put in some methods you think might be useful for users.**\n",
    "\n",
    "<img src=\"./images/houses.jpg\" width=300>\n"
   ]
  },
  {
   "cell_type": "code",
   "execution_count": null,
   "metadata": {},
   "outputs": [],
   "source": [
    "\n"
   ]
  },
  {
   "cell_type": "markdown",
   "metadata": {},
   "source": [
    "### Constructors & Deconstructors\n",
    "\n",
    "It can be tedious, as you saw, if you need to declare stuff one by one even when you already made a ```class```. Here, we will use **constructors** and also their opposite, **destructors**.\n",
    "\n",
    "* They are special functions the user can utilize to initialize a function with certain parameters, and like other functions, they can be done outside of the ```class``` via the ```::``` operator.\n",
    "\n",
    "* A **copy constructor** can also be formed, if let's say you want to copy an object's attribute into another object.\n",
    "\n",
    "* You can also set so that the class has multiple constructors, called **constructor overloading**. A given class can have as many constructors as you want.\n",
    "\n",
    "* **Destructors** destroys the object and the data it carries as soon as the program exits its scope. But because of how ROOTbooks are configured, we are unable to show it here."
   ]
  },
  {
   "cell_type": "code",
   "execution_count": 24,
   "metadata": {},
   "outputs": [
    {
     "name": "stdout",
     "output_type": "stream",
     "text": [
      "the second constructer is running\n",
      "the copy constructer is running\n",
      "The student named Joey has a CGPA of 3.75\n",
      "The student's clone Joey has a CGPA of 3.75\n"
     ]
    }
   ],
   "source": [
    "// class definition\n",
    "class Student {\n",
    "    public:\n",
    "        // attribute declaration\n",
    "        string name;\n",
    "        int    studentId;\n",
    "        int    matricNum;\n",
    "        float  CGPA;\n",
    "    \n",
    "        // constructor methods\n",
    "        //first constructor, takes ID number only\n",
    "        Student(int id){\n",
    "            studentId = id;\n",
    "            cout << \"the first constructer is running\" << endl;\n",
    "\n",
    "        };\n",
    "    \n",
    "        // second constructor, takes in all details\n",
    "        Student(string nm, int id, int mn, float cg){\n",
    "            name      = nm;\n",
    "            studentId = id;\n",
    "            matricNum = mn;\n",
    "            CGPA      = cg;\n",
    "            cout << \"the second constructer is running\" << endl;\n",
    "        };\n",
    "    \n",
    "        // copy constructor\n",
    "        Student(const Student &obj){\n",
    "            name      = obj.name;\n",
    "            studentId = obj.studentId;\n",
    "            CGPA      = obj.CGPA;\n",
    "            matricNum = obj.matricNum;\n",
    "            cout << \"the copy constructer is running\" << endl;\n",
    "\n",
    "        };\n",
    "        \n",
    "    \n",
    "        // destructor method\n",
    "        ~Student(){};\n",
    "        \n",
    "};\n",
    "\n",
    "// class declaration\n",
    "Student joey(\"Joey\", 987654321, 100001, 3.75);\n",
    "Student joey_clone(joey);\n",
    "\n",
    "// printing output\n",
    "cout << \"The student named \"   << joey.name       << \" has a CGPA of \" << joey.CGPA       << endl;\n",
    "cout << \"The student's clone \" << joey_clone.name << \" has a CGPA of \" << joey_clone.CGPA << endl;"
   ]
  },
  {
   "cell_type": "markdown",
   "metadata": {},
   "source": [
    "**Note:** Notice how ```private``` members of an object can be accessed by another object of the same ```class```. This is because access control via the access specifiers in C++ works on a per-class basis, which means, when a function has access to ```private``` members, it can access those of any object from the same ```class```. As is ivisible in the copy constructor above.\n",
    "\n",
    "### This class has my ```friend``` \n",
    "\n",
    "Sometimes the functions might already be declared or defined outside of the class, so redefining it again would be redundant. So, we use the ```friend``` keyword when we want to declare a function as a part of the ```class```, which has access to all of the members. Another ```class```'s member functions can also be declared as ```friend``` functions.\n",
    "\n",
    "```\n",
    "    class class_name {\n",
    "        private:\n",
    "            // attribute declarations\n",
    "        public:\n",
    "            // attribute declarations\n",
    "            // method declarations\n",
    "            \n",
    "            // declaring a friend function\n",
    "            friend type function_name(parameters);\n",
    "            \n",
    "            // declaring friend functions from another class\n",
    "            friend class another_class;\n",
    "     };\n",
    "```\n",
    "\n",
    "### What's the ```pointer``` of  ```class``` ?\n",
    "\n",
    "Since classes are essentially objects that reside in the computer's memory, then it can also be pointed by pointers.\n",
    "\n",
    "### Member Initialized: A little bit more complicated constructor\n",
    "\n",
    "Classes can sometimes be interconnected, and one ```class``` may be an attribute of another. Its another way to define a constructor where a member needs a parameter for its declaration. The constructor's syntax is as follows:\n",
    "\n",
    "    class_name::class_name (int x, int y) : width(x), width(y) {};\n",
    "\n",
    "Here we will show how you can call in **another class as a member of another class**.\n",
    "\n",
    "\n",
    "\n"
   ]
  },
  {
   "cell_type": "code",
   "execution_count": 21,
   "metadata": {},
   "outputs": [
    {
     "name": "stdout",
     "output_type": "stream",
     "text": [
      "The cylinder's volume is 392.75\n",
      "The cylinder's volume is 392.75\n"
     ]
    }
   ],
   "source": [
    "// class definition\n",
    "class Circle {\n",
    "    private:\n",
    "        // attribute declaration\n",
    "        float radius;  \n",
    "    public:\n",
    "        // Constructor\n",
    "        Circle (float r) { radius = r; };\n",
    "    \n",
    "        // method declaration\n",
    "        float area() { return radius*radius*3.142; };\n",
    "};\n",
    "\n",
    "// this class will use the Circle class as one of its attributes\n",
    "class Cylinder {\n",
    "    private:\n",
    "        // attribute declaration\n",
    "        Circle base; // here, we call the Circle as an attribute of Cylinder\n",
    "        float height;\n",
    "    public:      \n",
    "        // constructor, using member intialization\n",
    "        Cylinder (float r, float h) : base(r), height(h) {}\n",
    "    \n",
    "        // method declaration\n",
    "        float volume() { return base.area() * height; };\n",
    "};\n",
    "\n",
    "// class declaration\n",
    "Cylinder tincan(5, 5);\n",
    "Cylinder *tincan_ptr = &tincan;   // pointer for the Cylinder class\n",
    "\n",
    "// printing output\n",
    "cout << \"The cylinder's volume is \" << tincan.volume()      << endl;\n",
    "cout << \"The cylinder's volume is \" << tincan_ptr->volume() << endl; // output using pointers"
   ]
  },
  {
   "cell_type": "markdown",
   "metadata": {},
   "source": [
    "**Exercise 4: Construct classes to describe 2-D objects (squares or triangles) and 3-D objects (cubes, cuboids or pyramids). These classes may use information from other classes or ```friend``` functions where you think necessary.**"
   ]
  },
  {
   "cell_type": "code",
   "execution_count": null,
   "metadata": {},
   "outputs": [],
   "source": []
  },
  {
   "cell_type": "markdown",
   "metadata": {},
   "source": [
    "**Exercise 5: Create a ```class``` for a point charge, where it takes in its charge (in terms of Coulombs) and its position in a 2-D plane. We should be able to extract the value of its exerted potential field and the force and direction it when another point charge is present.**\n",
    "\n",
    "<img src=\"./images/pointcharge.jpg\">\n"
   ]
  },
  {
   "cell_type": "code",
   "execution_count": null,
   "metadata": {},
   "outputs": [],
   "source": []
  }
 ],
 "metadata": {
  "kernelspec": {
   "display_name": "ROOT C++",
   "language": "c++",
   "name": "root"
  },
  "language_info": {
   "codemirror_mode": "text/x-c++src",
   "file_extension": ".C",
   "mimetype": " text/x-c++src",
   "name": "c++"
  }
 },
 "nbformat": 4,
 "nbformat_minor": 4
}

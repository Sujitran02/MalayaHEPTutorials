{
 "cells": [
  {
   "cell_type": "markdown",
   "metadata": {},
   "source": [
    "# INTRODUCTION TO C++"
   ]
  },
  {
   "cell_type": "markdown",
   "metadata": {},
   "source": [
    "C++ is a very common language for beginner programmers to learn, though Python has been taking the spotlight more these days. Its a powerful general-purpose, object oriented programming language. People use it to develop all sorts of systems and softwares, so knowing it will surely be handy. Managing your way through C++ is also enough for you to have the basics to go through with any other programming languages too. If you managed to understand its capabilities, you might see why certain programmers prefer its prowess compared to the simplicity afforded with Python.\n",
    "\n",
    "Now, enough talk. Let's get started!"
   ]
  },
  {
   "cell_type": "markdown",
   "metadata": {},
   "source": [
    "## Basic Syntax & Arithmetic\n",
    "\n",
    "If you're new to Jupyter Notebooks, to run a line of code just hit ```shift+enter```. Try out with the line below.\n",
    "\n",
    "### Comments\n",
    "\n",
    "Any line that starts with ```//``` are \"commented\" lines, which means the C++ compiler will ignore it and not run it. You can also comment out multiple lines, as shown in the example below.\n",
    "\n",
    "**Exercise 1: Run the specified lines, then modify the sentence below by using your name and age. Tell us a bit more about yourself.**"
   ]
  },
  {
   "cell_type": "code",
   "execution_count": 8,
   "metadata": {},
   "outputs": [
    {
     "name": "stdout",
     "output_type": "stream",
     "text": [
      "My name is Abu, and I am 235 years old\n"
     ]
    }
   ],
   "source": [
    "// this is a single line comment\n",
    "\n",
    "/*\n",
    "this is a multiple line comment\n",
    "you can word out your code so that you can understand what's going on\n",
    "its a common practice to properly comment your lines of code\n",
    "so that other programmers can understand what's going on\n",
    "you yourself might forget about it a few weeks later\n",
    "*/\n",
    "\n",
    "cout << \"My name is Abu, and I am 235 years old\" << endl;"
   ]
  },
  {
   "cell_type": "markdown",
   "metadata": {},
   "source": [
    "### Variables and Data Types\n",
    "\n",
    "As is common for programming languages, it is tiresome if a change in data requires a change to every line that original data was contained. So, we use variables. Variables are essentialy data containers, and there are specific containers for a given data type. Those containers also require a unique name.\n",
    "\n",
    "**Exercise 1.1: Modify the sentences below by changing the variable value.**"
   ]
  },
  {
   "cell_type": "code",
   "execution_count": 13,
   "metadata": {},
   "outputs": [
    {
     "name": "stdout",
     "output_type": "stream",
     "text": [
      "My name is 235 and I am Ali years old\n",
      "Ali is 235 years old."
     ]
    }
   ],
   "source": [
    "int    myAge  = 235;\n",
    "string myName = \"Ali\";\n",
    "\n",
    "cout << \"My name is \"<< myAge <<\" and I am \"<< myName << \" years old\" << endl;\n",
    "cout << myName << \" is \" << myAge << \" years old.\";\n",
    "\n"
   ]
  },
  {
   "cell_type": "markdown",
   "metadata": {},
   "source": [
    "There are certain rules to name a variable:\n",
    "\n",
    "* It can only be of alphanumeric values and an underscore ```_```.\n",
    "* Cannot begin with a number or an uppercase character.\n",
    "* Cannot be the same as certain keywords, such as ```int``` or ```string```.\n",
    "\n",
    "There are also certain naming conventions, like ```myName``` or ```my_Name```.\n"
   ]
  },
  {
   "cell_type": "code",
   "execution_count": null,
   "metadata": {},
   "outputs": [],
   "source": []
  },
  {
   "cell_type": "code",
   "execution_count": null,
   "metadata": {},
   "outputs": [],
   "source": []
  }
 ],
 "metadata": {
  "kernelspec": {
   "display_name": "ROOT C++",
   "language": "c++",
   "name": "root"
  },
  "language_info": {
   "codemirror_mode": "text/x-c++src",
   "file_extension": ".C",
   "mimetype": " text/x-c++src",
   "name": "c++"
  }
 },
 "nbformat": 4,
 "nbformat_minor": 4
}

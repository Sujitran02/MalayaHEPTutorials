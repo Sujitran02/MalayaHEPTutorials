{
 "cells": [
  {
   "cell_type": "markdown",
   "metadata": {},
   "source": [
    "\n",
    "\n",
    "<h1><center> INTRODUCTION TO C++</center></h1>\n",
    "\n",
    "<img src=\"./images/Cpp_logo.png\" width = 125>\n"
   ]
  },
  {
   "cell_type": "markdown",
   "metadata": {},
   "source": [
    "C++ is a very common language for beginner programmers to learn, though Python has been taking the spotlight more these days. Its a powerful general-purpose, object oriented programming language. People use it to develop all sorts of systems and softwares, so knowing it will surely be handy. Managing your way through C++ is also enough for you to have the basics to go through with any other programming languages too. If you managed to understand its capabilities, you might see why certain programmers prefer its prowess compared to the simplicity afforded with Python.\n",
    "\n",
    "Now, enough talk. Let's get started!\n",
    "\n",
    "**We will cover 4 basic stuff of programming here:**\n",
    "\n",
    "* Basic Syntax & Arithmetic\n",
    "* Flow Control\n",
    "* Functions\n",
    "* Arrays"
   ]
  },
  {
   "cell_type": "markdown",
   "metadata": {},
   "source": [
    "## BASIC SYNTAX AND ARITHMETIC\n",
    "\n",
    "If you're new to Jupyter Notebooks, to run a line of code just hit ```shift+enter```. Try out with the line below.\n",
    "\n",
    "### Semicolons & Blocks\n",
    "\n",
    "A line of code in C++ is called a statement, and each individual statement needs to be ended with a semicolon ```;```. Example:\n",
    "\n",
    "```\n",
    "this is a line;\n",
    "you can write like this;\n",
    "you can even write like this; this is a legit way to write;\n",
    "```\n",
    "\n",
    "A block on the other hand is a set of logically connected statements that are surrounded by braces. Example:\n",
    "\n",
    "```\n",
    "{\n",
    "// the code sits in here\n",
    "// this is a block of code\n",
    "}\n",
    "```\n",
    "\n",
    "But **don't worry, Jupyter does this for you**. Here, we will focus on the syntax primarily. Later in a more detailed session we will use a proper compiler and more proper syntax when writing.\n",
    "\n",
    "### Comments\n",
    "\n",
    "Any line that starts with ```//``` are \"commented\" lines, which means the C++ compiler will ignore it and not run it. You can also comment out multiple lines, as shown in the example below.\n",
    "\n",
    "**Exercise 1: Run the specified lines, then modify the sentence below by using your name and age. Tell us a bit more about yourself.**"
   ]
  },
  {
   "cell_type": "code",
   "execution_count": 1,
   "metadata": {},
   "outputs": [
    {
     "name": "stdout",
     "output_type": "stream",
     "text": [
      "My name is Abu, and I am 235 years old\n"
     ]
    }
   ],
   "source": [
    "// this is a single line comment\n",
    "\n",
    "/*\n",
    "this is a multiple line comment\n",
    "you can word out your code so that you can understand what's going on\n",
    "its a common practice to properly comment your lines of code\n",
    "so that other programmers can understand what's going on\n",
    "you yourself might forget about it a few weeks later\n",
    "*/\n",
    "\n",
    "cout << \"My name is Abu, and I am 235 years old\" << endl;"
   ]
  },
  {
   "cell_type": "markdown",
   "metadata": {},
   "source": [
    "### Variables and Data Types\n",
    "\n",
    "As is common for programming languages, it is tiresome if a change in data requires a change to every line that original data was contained. So, we use variables. Variables are essentialy data containers, and there are specific containers for a given data type. Those containers also require a unique name.\n",
    "\n",
    "**Exercise 1.1: Modify the sentences below by changing the variable value.**"
   ]
  },
  {
   "cell_type": "code",
   "execution_count": 2,
   "metadata": {},
   "outputs": [
    {
     "name": "stdout",
     "output_type": "stream",
     "text": [
      "My name is 235 and I am Ali years old\n",
      "Ali is 235 years old."
     ]
    }
   ],
   "source": [
    "int    myAge  = 235;\n",
    "string myName = \"Ali\";\n",
    "\n",
    "cout << \"My name is \"<< myAge <<\" and I am \"<< myName << \" years old\" << endl;\n",
    "cout << myName << \" is \" << myAge << \" years old.\";\n",
    "\n"
   ]
  },
  {
   "cell_type": "markdown",
   "metadata": {},
   "source": [
    "There are certain rules to name a variable:\n",
    "\n",
    "* It can only be of alphanumeric values and an underscore ```_```.\n",
    "* Cannot begin with a number or an uppercase character.\n",
    "* Cannot be the same as certain keywords, such as ```int``` or ```string```. Here is a complete list of keywords: [C++ Keywords](https://en.cppreference.com/w/cpp/keyword)\n",
    "\n",
    "There are also certain naming conventions, like ```myName``` or ```my_Name```.\n",
    "\n",
    "We mentioned before that there are specific data types when dealing with variables. The ones relevant for now are:\n",
    "\n",
    "    Text:    char   # character, stores single characters\n",
    "             string # string, a collection of characters forming words\n",
    "    Numeric: int    # integers, i.e. whole numbers\n",
    "             float  # floating-point numbers, i.e. decimals\n",
    "    Boolean: bool   # Boolean values, either True or False\n",
    " \n",
    "**Let's show some basic calculations. Try changing the numbers and mess around.**"
   ]
  },
  {
   "cell_type": "code",
   "execution_count": 3,
   "metadata": {},
   "outputs": [
    {
     "name": "stdout",
     "output_type": "stream",
     "text": [
      "d = 11\n",
      "e = -7\n",
      "Notice how the variable e rounds down because its an int not a float\n",
      "f = 51.84\n"
     ]
    }
   ],
   "source": [
    "int a, b, d, e;  // we need to declare the variables before using them\n",
    "float f;\n",
    "float c = 7.2;  // we can aslo declare them with a preset value\n",
    "a = 5; b = 6;   // or we can define them later like here\n",
    "\n",
    "d = a + b;\n",
    "e = a*c - b*c;\n",
    "f = c*c;\n",
    "\n",
    "cout << \"d = \" << d << endl;\n",
    "cout << \"e = \" << e << endl;\n",
    "cout << \"Notice how the variable e rounds down because its an int not a float\" << endl;\n",
    "cout << \"f = \" << f << endl;"
   ]
  },
  {
   "cell_type": "markdown",
   "metadata": {},
   "source": [
    "### Basic I/O (Input/Output)\n",
    "\n",
    "As you have seen a few times already, ```cout``` is a method to send formatted outputs to our display. It is used along with the ```<<``` operator.\n",
    "\n",
    "Correspondingly, the ```cin``` method takes in a formatted input from the user, and used along with the ```>>``` operator, but we wouldn't be using it for now.\n",
    "\n",
    "### Arithmetic Operators\n",
    "\n",
    "|Operator|Description|\n",
    "|------|------|\n",
    "|   ```+```  | Addition|\n",
    "|   ```-```  | Subtraction|\n",
    "|   ```*```  | Multiplication|\n",
    "|   ```/```  | Division|\n",
    "|   ```%```  | Modulo (Division remainder)|\n",
    "|   ```++```  | Increment (+1)|\n",
    "|   ```--```  | Decrement (-1)|\n",
    "\n",
    "### Mathematical Functions\n",
    "\n",
    "Some operations use functions instead, here we will list some of those.\n",
    "\n",
    "|Function|Description|\n",
    "|------|------|\n",
    "|   abs(x)  | Returns the absolute value of x|\n",
    "|   cos(x)  | Returns the cosine of x, in radians|\n",
    "|   sin(x)  | Returns the sine of x, in radians|\n",
    "|   tan(x)  | Returns the tangent of x, in radians|\n",
    "|   pow(x,y)  | Returns the value of x to the power of y|\n",
    "|   sqrt(x)  | Returns the square root of x|\n",
    "\n",
    "**Exercise 2: Find the root for the equation $0 = 8x^2 - 6x + 1.125$ using the quadratic formula.**\n"
   ]
  },
  {
   "cell_type": "code",
   "execution_count": null,
   "metadata": {},
   "outputs": [],
   "source": [
    "\n"
   ]
  },
  {
   "cell_type": "markdown",
   "metadata": {},
   "source": [
    "## FLOW CONTROL\n",
    "\n",
    "Simple programs might be just a few lines of code that run one after the other, but as complexity grows, the program may have multiple paths or may need to repeat operations. This can be tedious if we were to write it again and again for each repetition or path rendition. Hence, \"flow control\"\n",
    "\n",
    "### Selection: if, else if and else\n",
    "\n",
    "The ```if``` keyword can be used to execute a block of code if the conditions required are fulfilled. The ```else if``` offers a second path if the first path set by ```if``` is not available, with its own set of conditions. If all the previous conditions are not met, then an ```else``` path can be used to cover the remaining conditions.\n",
    "\n",
    "<img src=\"./images/elif.png\" />\n",
    "\n",
    "**Try out the example below, and mess around**"
   ]
  },
  {
   "cell_type": "code",
   "execution_count": 5,
   "metadata": {},
   "outputs": [
    {
     "name": "stdout",
     "output_type": "stream",
     "text": [
      "100 is smaller than 120\n"
     ]
    }
   ],
   "source": [
    "int value1, value2;\n",
    "value1 = 100;\n",
    "value2 = 120;\n",
    "\n",
    "if ( value1 > value2 ) { cout << value1 << \" is larger than \" << value2 << endl;}\n",
    "else if ( value1 < value2)\n",
    "{\n",
    "    cout << value1 << \" is smaller than \" << value2 << endl;\n",
    "}\n",
    "else\n",
    "    cout << value1 << \" is equal to \" << value2 << endl; // this is valid for single line statements only"
   ]
  },
  {
   "cell_type": "markdown",
   "metadata": {},
   "source": [
    "### Relational Operators\n",
    "\n",
    "Flow control statements utilize Boolean values, and these use a different set of operators compared to numeric values. Relational operators take in numeric or string values, and return a Boolean value.\n",
    "\n",
    "|Operator|Description|\n",
    "|------|------|\n",
    "|   x == y  | Returns ```True``` if x equals to y, else ```False```|\n",
    "|   x != y  | Returns ```True``` if x is not equal to y, else ```False```|\n",
    "|   x < y   | Returns ```True``` if x is smaller than y, else ```False```|\n",
    "|   x > y   | Returns ```True``` if x is larger than y, else ```False```|\n",
    "|   x <= y  | Returns ```True``` if x is smaller than or equal to y, else ```False```|\n",
    "|   x >= y  | Returns ```True``` if x is larger than or equal to y, else ```False```|\n",
    "\n",
    "\n",
    "### Logical Operators\n",
    "\n",
    "When dealing with Boolean values themselves, we will use logical operators.\n",
    "\n",
    "|Operator|Description|\n",
    "|------|------|\n",
    "| !x       | Returns ```False``` if x is ```True```, and vice versa |\n",
    "| x && y   | Returns ```True``` if x AND y are both ```True```, and vice versa |\n",
    "| x $||$ y | Returns ```True``` if x OR y is ```True```, and vice versa |\n",
    "\n",
    "**Exercise 3: Construct a simple flow control statement to see whether a student is above 18 years old and a part of the Physics department.**"
   ]
  },
  {
   "cell_type": "code",
   "execution_count": null,
   "metadata": {},
   "outputs": [],
   "source": []
  },
  {
   "cell_type": "markdown",
   "metadata": {},
   "source": [
    "### Iteration Statements: Loops\n",
    "\n",
    "While ```if``` statements are used to designate multiple paths, loop statements are used to repeat a block of code as long as the conditions are fulfilled.\n",
    "\n",
    "### while Loops\n",
    "\n",
    "The simplest kind of loop, ```while``` repeats a statement as long as the condition is ```True```. When it becomes ```False```, the loop exits and continues to the next statement.\n",
    "\n",
    "<img src=\"./images/while.jpg\" />\n",
    "\n",
    "Example:"
   ]
  },
  {
   "cell_type": "code",
   "execution_count": 6,
   "metadata": {},
   "outputs": [
    {
     "name": "stdout",
     "output_type": "stream",
     "text": [
      "10, 9, 8, 7, 6, 5, 4, 3, 2, 1, Liftoff!!\n"
     ]
    }
   ],
   "source": [
    "int n = 10;\n",
    "\n",
    "while (n > 0){\n",
    "    cout << n << \", \";\n",
    "    --n; // decrement operator, reduces n by 1\n",
    "}\n",
    "\n",
    "cout << \"Liftoff!!\" << endl;"
   ]
  },
  {
   "cell_type": "markdown",
   "metadata": {},
   "source": [
    "**Exercise 4: Using the Fibonacci sequence, print out the numbers up to 1000 by using the ```while``` loop.**\n",
    "\n",
    "Hint:\n",
    "\n",
    "$F_n = F_{n-1} + F_{n-2}$"
   ]
  },
  {
   "cell_type": "code",
   "execution_count": null,
   "metadata": {},
   "outputs": [],
   "source": []
  },
  {
   "cell_type": "markdown",
   "metadata": {},
   "source": [
    "### do-while Loops\n",
    "\n",
    "They are similar to the ```while``` loops, but just in a different order.\n",
    "\n",
    "<img src=\"./images/dowhile.jpg\" />\n",
    "\n",
    "Example:"
   ]
  },
  {
   "cell_type": "code",
   "execution_count": 7,
   "metadata": {},
   "outputs": [
    {
     "name": "stdout",
     "output_type": "stream",
     "text": [
      "1, 2, 3, 4, 5, 6, 7, 8, 9, 10, Ready or not, here I come!\n"
     ]
    }
   ],
   "source": [
    "int m = 1;\n",
    "\n",
    "do{\n",
    "    cout << m << \", \";\n",
    "    ++m;\n",
    "} while (m <= 10);\n",
    "    \n",
    "cout << \"Ready or not, here I come!\" << endl;"
   ]
  },
  {
   "cell_type": "markdown",
   "metadata": {},
   "source": [
    "### for Loops\n",
    "\n",
    "The main difference between ```while``` loops and ```for``` loops is that the latter has a specific location for initialization and \"increase\" operations where the checked value can be manipulated.\n",
    "\n",
    "<img src=\"./images/for.png\" />\n",
    "\n",
    "**Exercise 5: Given the ```for``` loop body below, recreate the previous countdown and countup loops before.**"
   ]
  },
  {
   "cell_type": "code",
   "execution_count": 8,
   "metadata": {},
   "outputs": [],
   "source": [
    "/*\n",
    "for ( initialize a value; loop conditions; value changing statement){\n",
    "    // insert the code here\n",
    "}\n",
    "\n",
    "*/"
   ]
  },
  {
   "cell_type": "markdown",
   "metadata": {},
   "source": [
    "**Exercise 5.1: Given the Rydberg constant, $R = 1.097e7 m^{-1}$, show the wavelength of hydrogen specctrum lines for the Lyman series. Exit the ```for``` loop when $n_2 = 5$. Use ```if``` and ```else``` statements where necessary.**\n",
    "\n",
    "Hint:\n",
    "\n",
    "$\\frac{1}{\\lambda} = R(\\frac{1}{n_1^2} - \\frac{1}{n_2^2})$"
   ]
  },
  {
   "cell_type": "code",
   "execution_count": null,
   "metadata": {},
   "outputs": [],
   "source": []
  },
  {
   "cell_type": "markdown",
   "metadata": {},
   "source": [
    "## FUNCTIONS\n",
    "\n",
    "You can divide your programs into independent segment to perform individual tasks. This is useful is that task is repeated multiple times. C++ already has some built-in functions in the standard library, like the mathematical functions you saw before.\n",
    "\n",
    "A function is basically a group of statements under a given name that can be called upon when needed. The syntax is as follows:\n",
    "\n",
    "    return_type function_name (type parameter1, type parameter2, ... ){\n",
    "        type value;\n",
    "        value = parameter1 + parameter2;\n",
    "        return value;\n",
    "    }\n",
    "    \n",
    "* ```return_type``` is the type of value the function will return\n",
    "* ```function_name``` is the name of the function we will use to call\n",
    "* ``` parameters``` are the arguments you will pass to the functions that will be used, they will appear as a regular variable declaration\n",
    "\n",
    "**Exercise 6: Create a specific function to calculate the root of a quadratic equation, then use it to find the root of $6x^2 - 3x + 4$.**"
   ]
  },
  {
   "cell_type": "code",
   "execution_count": null,
   "metadata": {},
   "outputs": [],
   "source": []
  },
  {
   "cell_type": "markdown",
   "metadata": {},
   "source": [
    "### void Functions\n",
    "\n",
    "```void``` is another data type we have not talked about yet. You can declare a function using ```void``` if the function does not need to return a value. It can also be used to specify that the function takes in no arguments, but and empty parameter list also does the job.\n",
    "\n",
    "Example:\n"
   ]
  },
  {
   "cell_type": "code",
   "execution_count": 9,
   "metadata": {},
   "outputs": [
    {
     "name": "stdout",
     "output_type": "stream",
     "text": [
      "It's a function but it returns nothing\n"
     ]
    }
   ],
   "source": [
    "void nothing(){\n",
    "    cout << \"It's a function but it returns nothing\" << endl;\n",
    "}\n",
    "\n",
    "nothing()"
   ]
  },
  {
   "cell_type": "markdown",
   "metadata": {},
   "source": [
    "### Recursion\n",
    "\n",
    "Recursions are functions that call themselves. If done not properly, it could result in an endless loop. It is useful for certain tasks such as sorting or calculating factorials, which we will do later.\n",
    "\n",
    "Example:"
   ]
  },
  {
   "cell_type": "code",
   "execution_count": 10,
   "metadata": {},
   "outputs": [
    {
     "name": "stdout",
     "output_type": "stream",
     "text": [
      "n = 1\n",
      "Inside the function\n",
      "n = 2\n",
      "Inside the function\n",
      "n = 3\n",
      "Inside the function\n",
      "n = 4\n",
      "Inside the function\n",
      "n = 5\n",
      "Inside the function\n",
      "n = 6\n",
      "Inside the function\n",
      "n = 7\n",
      "Inside the function\n",
      "n = 8\n",
      "Inside the function\n",
      "n = 9\n",
      "Inside the function\n",
      "Now exiting the function\n"
     ]
    }
   ],
   "source": [
    "void recursiveFunction (int n){\n",
    "    cout << \"n = \" << n << endl;\n",
    "    ++n;\n",
    "    cout << \"Inside the function\" << endl;\n",
    "    if (n < 10){recursiveFunction(n);}\n",
    "    else{\n",
    "        cout << \"Now exiting the function\" << endl;\n",
    "    };\n",
    "}\n",
    "\n",
    "recursiveFunction(1)"
   ]
  },
  {
   "cell_type": "markdown",
   "metadata": {},
   "source": [
    "**Exercise 6.1: Using recursive functions, write a function to find the factorial of an integer.**\n",
    "\n",
    "Hint:\n",
    "$n! = n*(n-1)*(n-2)*....*3*2*1$\n",
    "\n",
    "<img src=\"./images/recursion_factorial.png\" />\n"
   ]
  },
  {
   "cell_type": "code",
   "execution_count": null,
   "metadata": {},
   "outputs": [],
   "source": []
  },
  {
   "cell_type": "markdown",
   "metadata": {},
   "source": [
    "## ARRAYS\n",
    "\n",
    "Handling real world data may involve manipulation of large datasets like those you see in Excel spreadsheets. This is where arrays come in. They are a variable that can store multiple values of the same type. Its declaration is as follows:\n",
    "\n",
    "    type array_name [number of elements];\n",
    "    int anArray [6];\n",
    "    \n",
    "In the example above, we declared a variable ```anArray``` that can store 6 values of ```int```. When declared, the values are unintialized, so the user has to specify them. This can be done during declaration as well.\n",
    "\n",
    "    int anArray[6] = {1, 2, 3, 4, 5, 6};\n",
    "    \n",
    "You can also let C++ figure out the number of elements in an array without specifying it.\n",
    "\n",
    "    int anArray[] {1, 2, 3}\n",
    "\n",
    "To access a value in an array, just call it by its index (which starts from 0).\n",
    "\n",
    "    x = anArray[2] // this accesses the third value\n",
    "    \n",
    "To declare multidimensional arrays, just add another number of elements.\n",
    "\n",
    "    int anArray[5][5];\n",
    "\n",
    "This will initialize a 5 x 5 array, and to access a value is as similar as before.\n",
    "\n",
    "Example:"
   ]
  },
  {
   "cell_type": "code",
   "execution_count": 14,
   "metadata": {},
   "outputs": [
    {
     "name": "stdout",
     "output_type": "stream",
     "text": [
      "The numbers in the array are: \n",
      "1.23 4.56 7.89 \n",
      "Total Sum = 13.68\n",
      "Average   = 4.56\n"
     ]
    }
   ],
   "source": [
    "int e = 3;\n",
    "float num[3] = {1.23, 4.56, 7.89};\n",
    "float sum = 0;\n",
    "float count = 0;\n",
    "float average;\n",
    "\n",
    "cout << \"The numbers in the array are: \" << endl;\n",
    "\n",
    "for (int i = 0; i < e ; i++ ){\n",
    "    cout << num[i] << \" \";\n",
    "    sum += num[i]; // this is another way of writing sum = sum + num\n",
    "    ++count;\n",
    "}\n",
    "\n",
    "cout << endl;\n",
    "cout << \"Total Sum = \" << sum << endl;\n",
    "cout << \"Average   = \" << sum/count << endl;"
   ]
  },
  {
   "cell_type": "markdown",
   "metadata": {},
   "source": [
    "Another example for multidimensional arrays:"
   ]
  },
  {
   "cell_type": "code",
   "execution_count": 4,
   "metadata": {},
   "outputs": [
    {
     "name": "stdout",
     "output_type": "stream",
     "text": [
      "The numbers in the array are: \n",
      "1 2 3 4 5 6 \n",
      "Total Sum = 21\n",
      "Average   = 3.5\n"
     ]
    }
   ],
   "source": [
    "int row = 3; int col = 2;\n",
    "float mun[3][2] = {{1,2}, {3, 4}, {5, 6}};\n",
    "float sum1 = 0;\n",
    "float count1 = 0;\n",
    "float average1;\n",
    "\n",
    "cout << \"The numbers in the array are: \" << endl;\n",
    "\n",
    "for (int r = 0; r < row; r++ ){\n",
    "    for (int c = 0; c < col; c++){\n",
    "        cout << mun[r][c] << \" \";\n",
    "        sum1 += mun[r][c]; // this is another way of writing sum = sum + num\n",
    "        ++count1;\n",
    "    }    \n",
    "}\n",
    "\n",
    "cout << endl;\n",
    "cout << \"Total Sum = \" << sum1 << endl;\n",
    "cout << \"Average   = \" << sum1/count1 << endl;"
   ]
  },
  {
   "cell_type": "markdown",
   "metadata": {},
   "source": [
    "<img src=\"./images/resistors.jpg\" />\n",
    "\n",
    "Electricity transmission cables. On the left is a cable comprising $n + 1$ sections in total. On the right, this is viewed as $n$ sections with resistance $R_n$ in parallel with resistance $s$, both in series with resistance $r$.\n",
    "\n",
    "**Problem: A single long overhead electricity transmission cable is supported on poles at regular intervals. Neglecting the resistance of the Earth, calculate the resistance when number of poles $n = 50$. Given $r = 100$ and $s = 10000$**\n",
    "\n",
    "Hint:\n",
    "\n",
    "$R_{n+1} = r + \\frac{sR_n}{s+R_n}$"
   ]
  },
  {
   "cell_type": "code",
   "execution_count": null,
   "metadata": {},
   "outputs": [],
   "source": []
  }
 ],
 "metadata": {
  "kernelspec": {
   "display_name": "ROOT C++",
   "language": "c++",
   "name": "root"
  },
  "language_info": {
   "codemirror_mode": "text/x-c++src",
   "file_extension": ".C",
   "mimetype": " text/x-c++src",
   "name": "c++"
  }
 },
 "nbformat": 4,
 "nbformat_minor": 4
}

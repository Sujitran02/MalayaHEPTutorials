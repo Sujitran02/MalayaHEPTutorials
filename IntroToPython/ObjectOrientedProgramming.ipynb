{
 "cells": [
  {
   "cell_type": "markdown",
   "metadata": {},
   "source": [
    "# INTRODUCTION\n",
    "\n",
    "Being one of the more modern programming languages, Python supports the object oriented paradigm.\n",
    "\n",
    "In general, OOP is programming such that the structures and functions of the data types is defined by the programmers instead. From that, more complex relations can be built between objects such that one object inherits attributes from another.\n",
    "\n",
    "The advantages are:\n",
    "\n",
    "* Fast and easy execution\n",
    "* A clear structure\n",
    "* Reduces repeatability when coding\n",
    "* Makes debugging & modifications easier\n",
    "\n",
    "The image below summarises the hierarchy of complexity within OOP, and we will go through them step by step.\n",
    "\n",
    "<img src=\"./images/java-oops.png\">\n",
    "\n",
    "## Object\n",
    "\n",
    "An object is an instantiation of a ```class``` when it is defined. Before this you have used objects all around, such as ```int``` objects, ```str``` objects and so on. But after this, we will learn to use self-defined classes.\n",
    "\n",
    "## Class\n",
    "\n",
    "A ```class```, as we mentioned before, is basically a skeleton for the object. Think of a response form, where the content is not yet written. We, the responders, or in the case of programming, will fill out its content.\n",
    "\n",
    "### Creating a Class\n",
    "\n",
    "To define a ```class```, use the exact keyword:"
   ]
  },
  {
   "cell_type": "code",
   "execution_count": 22,
   "metadata": {},
   "outputs": [],
   "source": [
    "class MySelf:\n",
    "    name = \"Joey\"\n",
    "    age = 22\n",
    "    \n",
    "    def SaySomething(self):\n",
    "        return \"Hi, everyone!\"\n",
    "    "
   ]
  },
  {
   "cell_type": "markdown",
   "metadata": {},
   "source": [
    "Here, we defined a ```class``` called `Student` that has a single member, that is `name` that carries the value `\"Joey\"`.\n",
    "\n",
    "### Accessing Members\n",
    "\n",
    "In this case, `name` is a `class` variable as it is defined within it. To access members, use the `.` operator."
   ]
  },
  {
   "cell_type": "code",
   "execution_count": 25,
   "metadata": {},
   "outputs": [
    {
     "name": "stdout",
     "output_type": "stream",
     "text": [
      "Hi, everyone!\n",
      "My name is Joey and I am 22 years old\n"
     ]
    }
   ],
   "source": [
    "var = MySelf()\n",
    "\n",
    "print(var.SaySomething())\n",
    "print(\"My name is\", var.name, \"and I am\", var.age, \"years old\")"
   ]
  },
  {
   "cell_type": "markdown",
   "metadata": {},
   "source": [
    "The variable `var` in that sense was defined as a `Student` object. Classes can also contain functions, which we call as **methods**. In the previous example, the `class` function `SaySomething` is a method of `Student`. The standard syntax:\n",
    "\n",
    "```\n",
    "class className:\n",
    "    # class atrribute\n",
    "    \n",
    "    def methodName(self, param1, param2, ...):\n",
    "        # function body\n",
    "```\n",
    "\n",
    "### Constructors\n",
    "\n",
    "Another specific example for methods are **constructors**, they essentially initialize the `class` when you create them."
   ]
  },
  {
   "cell_type": "code",
   "execution_count": 31,
   "metadata": {},
   "outputs": [
    {
     "name": "stdout",
     "output_type": "stream",
     "text": [
      "Class Circle is created with r = 4.1\n",
      "Area of circle with r = 4.1 is 52.81701999999999\n",
      "\n",
      "Class Circle is created with r = 5.999\n",
      "Perimeter of circle with r = 5.999 is 37.697716\n"
     ]
    }
   ],
   "source": [
    "class Circle:\n",
    "    # class attribute\n",
    "    pi = 3.142\n",
    "    \n",
    "    # class methods\n",
    "    \n",
    "    ## constructors\n",
    "    def __init__(self, radius):\n",
    "        print(\"Class Circle is created with r =\", radius)\n",
    "        self.radius = radius\n",
    "        \n",
    "    ## other generic methods\n",
    "    def area(self):\n",
    "        return Circle.pi*(self.radius**2)\n",
    "    \n",
    "    def perim(self):\n",
    "        return 2*Circle.pi*self.radius\n",
    "    \n",
    "    def getRad(self):\n",
    "        return self.radius\n",
    "\n",
    "    def setRad(self, r):\n",
    "        self.radius = r\n",
    "    \n",
    "c1 = Circle(4.1)\n",
    "print(\"Area of circle with r =\", c1.getRad(), \"is\", c1.area())\n",
    "print(\"\")\n",
    "c2 = Circle(5.999)\n",
    "print(\"Perimeter of circle with r =\", c2.getRad(), \"is\", c2.perim())\n"
   ]
  },
  {
   "cell_type": "markdown",
   "metadata": {},
   "source": [
    "The `class` above has a few interesting things. First, you have `pi` which will be a variable that is shared for all instances of a class. This value can be accessed within and without the ```class```.\n",
    "\n",
    "Second, you have the method `__init__()`, which is the constructor mentioned before. When a `Circle` is defined, it's instance takes in a value of `radius` that will be unique to it.\n",
    "\n",
    "The latter two methods are just like normal functions, with the exception of having `self` as it's first argument. \n",
    "\n",
    "### Access Functions\n",
    "\n",
    "In Python, the concept of private or protected members in not as clear as in C++. Though, to follow normal practice, its good to specify access functions that return the values of the class attributes or even change them.\n",
    "\n",
    "An example for the `Circle` class above would be `getRad()` that returns the value of the radius and `setRad()` that enables users to change the radius.\n",
    "\n",
    "```\n",
    "def getRad(self):\n",
    "    return self.radius\n",
    "\n",
    "def setRad(self, r):\n",
    "    self.radius = r\n",
    "```\n",
    "\n",
    "**Exercise 1: Create a `class` for spheres.**"
   ]
  },
  {
   "cell_type": "code",
   "execution_count": null,
   "metadata": {},
   "outputs": [],
   "source": []
  },
  {
   "cell_type": "markdown",
   "metadata": {},
   "source": [
    "### Class or Instance Variables\n",
    "\n",
    "The way variables or attributes are defined in a `class` is important, as it determines whether that variable belongs to every object of that `class` or the variable belongs to an instance only. For example:"
   ]
  },
  {
   "cell_type": "code",
   "execution_count": 42,
   "metadata": {},
   "outputs": [
    {
     "name": "stdout",
     "output_type": "stream",
     "text": [
      "1\n",
      "2\n",
      "3\n",
      "\n",
      "1\n",
      "1\n",
      "1\n"
     ]
    }
   ],
   "source": [
    "class classVar:\n",
    "    count = 0\n",
    "    def __init__(self):\n",
    "        classVar.count += 1\n",
    "\n",
    "class instVar:\n",
    "    def __init__(self):\n",
    "        self.count = 0\n",
    "        self.count += 1\n",
    "\n",
    "cv1 = classVar()\n",
    "print(cv1.count)\n",
    "cv2 = classVar()\n",
    "print(cv2.count)\n",
    "cv3 = classVar()\n",
    "print(cv3.count)\n",
    "\n",
    "print(\"\")\n",
    "\n",
    "iv1 = instVar()\n",
    "print(iv1.count)\n",
    "iv2 = instVar()\n",
    "print(iv2.count)\n",
    "iv3 = instVar()\n",
    "print(iv3.count)"
   ]
  },
  {
   "cell_type": "markdown",
   "metadata": {},
   "source": [
    "In the example above, `count` is placed as a `class` variable in `classVar` as it is defined outside the constructor while in `instVar` it is an instance variable as it is defined within the constructor.\n",
    "\n",
    "When `classVar` is declared 3 times until `cv3`, the value of `count` has updated 3 times while for `instVar` objects they remain with the value given during initialization, which is 1.\n",
    "\n",
    "Therefore, it is important to take note where you define a variable within a `class`.\n",
    "\n",
    "### Destructors\n",
    "\n",
    "When not needed anymore (like when a program ends), Python automatically deletes the objects to free up memory. This can be done by the user by using the `del` keyword.\n",
    "\n",
    "```\n",
    "del obj\n",
    "```\n",
    "\n",
    "## Inheritance\n",
    "\n",
    "A lot of times, a ```class``` is defined in terms of others, which makes it easy to maintain. This behaviour enhances reusability and compartmentalizes debugging problems. It may also run faster.\n",
    "\n",
    "A ```class```, instead of having repeating members, can inherit from other classes. The inherited ```class``` is the **base** while the inheriting one is **derived**.\n",
    "\n",
    "In terms of object relationsip, the **derived** ```class``` **\"is a\" base** ```class```. Like the example below, the Right-Triangle **is a** Triangle which also **is a** shape. The square **is a** form of rectangle and so on.\n",
    "\n",
    "Though, Python has some notable differences with respect to other languages.\n",
    "\n",
    "<img src=\"./images/ShapesInheritance.gif\">\n"
   ]
  },
  {
   "cell_type": "code",
   "execution_count": 2,
   "metadata": {},
   "outputs": [
    {
     "name": "stdout",
     "output_type": "stream",
     "text": [
      "I am the base!\n",
      "I am derived!\n"
     ]
    }
   ],
   "source": [
    "class baseClass:\n",
    "    def __init__(self):\n",
    "        print(\"I am the base!\")\n",
    "    \n",
    "    def origin(self):\n",
    "        print(\"I am from the base!\")\n",
    "    \n",
    "    def identify(self):\n",
    "        print(\"Base!\")\n",
    "        \n",
    "class derivedClass(baseClass):\n",
    "    def __init__(self):\n",
    "        print(\"I am derived!\")\n",
    "        \n",
    "    def identify(self):\n",
    "        print(\"Derived!\")\n",
    "        \n",
    "a = baseClass()\n",
    "b = derivedClass()"
   ]
  },
  {
   "cell_type": "markdown",
   "metadata": {},
   "source": [
    "### Function Overriding\n",
    "\n",
    "The derived class essentially takes in the attributes and members from the base class as a part of its own. One downside about Python is that the a function in the derived `class` overrides a function with the same name from the base. Example:"
   ]
  },
  {
   "cell_type": "code",
   "execution_count": 3,
   "metadata": {},
   "outputs": [
    {
     "name": "stdout",
     "output_type": "stream",
     "text": [
      "Base!\n",
      "Derived!\n",
      "I am from the base!\n"
     ]
    }
   ],
   "source": [
    "a.identify()\n",
    "\n",
    "# the latter function overrides the first\n",
    "b.identify()\n",
    "\n",
    "# a function inherited and not overriden \n",
    "b.origin()"
   ]
  },
  {
   "cell_type": "markdown",
   "metadata": {},
   "source": [
    "Even when the derived `class` inherits everything else, a new definition is taken in whenever it is made.\n",
    "\n",
    "### Multiple Inheritance\n",
    "\n",
    "A single `class` can inherit from multiple classes. It is as simple as:\n",
    "\n",
    "```\n",
    "class className(base1, base2, base3, ...):\n",
    "    # class attributes\n",
    "    # class methods\n",
    "```\n",
    "\n",
    "**Exercise 2: Create a class `Shape` that takes in length and width value and has access functions. Create two more classes `Triangle` and `Rectangle` that inherits from them. Insert a function to calculate their area.**"
   ]
  },
  {
   "cell_type": "code",
   "execution_count": null,
   "metadata": {},
   "outputs": [],
   "source": []
  },
  {
   "cell_type": "markdown",
   "metadata": {},
   "source": [
    "## Function Overloading\n",
    "\n",
    "Function overloading is creating functions with the same name but takes in different parameters and may return or execute different programs from each other.\n",
    "\n",
    "This concept works differently in Python due to how it runs, so in a sense there can never be true function overloading because a later defined function will override any other function before. \n",
    "\n",
    "### Overloading Built-in Functions\n",
    "\n",
    "Take the `len()` method for example, it is supposed to return the number of members in a sequence data type."
   ]
  },
  {
   "cell_type": "code",
   "execution_count": 50,
   "metadata": {},
   "outputs": [
    {
     "name": "stdout",
     "output_type": "stream",
     "text": [
      "4\n",
      "3\n"
     ]
    }
   ],
   "source": [
    "arr = [1, 2, 3, 4]\n",
    "string = \"Hi!\"\n",
    "\n",
    "print(len(arr))\n",
    "print(len(string))"
   ]
  },
  {
   "cell_type": "markdown",
   "metadata": {},
   "source": [
    "This may not work for user-defined classes, so we can overload them to accomodate. In the previous examples, we have actually overloaded the initialization function, `__init__()`, a few times already."
   ]
  },
  {
   "cell_type": "code",
   "execution_count": 51,
   "metadata": {},
   "outputs": [
    {
     "name": "stdout",
     "output_type": "stream",
     "text": [
      "The class has 4 students\n"
     ]
    }
   ],
   "source": [
    "class Classroom:\n",
    "    def __init__(self, sL, tN):\n",
    "        self.studentList = list(sL)\n",
    "        self.teacherName = tN\n",
    "    \n",
    "    def len(self):\n",
    "        return len(self.studentList)\n",
    "    \n",
    "students = [\"Omar\", \"Mohammed\", \"Feng\", \"Nesan\"]\n",
    "\n",
    "c1 = Classroom(students, \"Joey\")\n",
    "print(\"The class has\", c1.len(), \"students\")"
   ]
  },
  {
   "cell_type": "markdown",
   "metadata": {},
   "source": [
    "If we were to just call the ```len()``` method without overloading, an error would pop up since `Classroom` was not a built-in class.\n",
    "\n",
    "### Overloading User-Defined Functions\n",
    "\n",
    "The only way to overload a user-defined function is to create a logic that caters for all the considered cases. The function parameters takes in any value, then the logic sorts out what is needed to be executed depending on the parameters given.\n",
    "\n",
    "Below is a bit complicated example I made on purpose.\n"
   ]
  },
  {
   "cell_type": "code",
   "execution_count": 52,
   "metadata": {},
   "outputs": [
    {
     "name": "stdout",
     "output_type": "stream",
     "text": [
      "what's up boyy!!!\n",
      "pspspsp\n",
      "Hi Syahira\n"
     ]
    }
   ],
   "source": [
    "class Person:\n",
    "    species = \"human\"\n",
    "    \n",
    "    def __init__(self, name):\n",
    "        self.name = name\n",
    "\n",
    "    def getName(self):\n",
    "        return self.name\n",
    "\n",
    "class Weeb:\n",
    "    species = \"furries\"\n",
    "    \n",
    "    def __init__(self, name):\n",
    "        self.name = name\n",
    "\n",
    "    def getName(self):\n",
    "        return self.name\n",
    "    \n",
    "class myHomies:\n",
    "    def __init__(self, homosList):\n",
    "        self.homosList = homosList\n",
    "    \n",
    "    def Greetings(self, who):\n",
    "        if who.species == \"furries\":\n",
    "            print(\"pspspsp\")\n",
    "        else:\n",
    "            if who in self.homosList:\n",
    "                print(\"what's up boyy!!!\")\n",
    "            else:\n",
    "                print(\"Hi\", who.getName())\n",
    "                \n",
    "\n",
    "nesan  = Person(\"Nesan\")\n",
    "harith = Person(\"Harith\")\n",
    "zaim   = Person(\"Zaim\")\n",
    "homos  = [nesan, harith, zaim]\n",
    "            \n",
    "mh = myHomies(homos)\n",
    "\n",
    "sya = Person(\"Syahira\")\n",
    "mai = Weeb(\"Mai Sakurajima\")\n",
    "\n",
    "# myHomies.Greetings(nesan)\n",
    "# myHomies.Greetings(mai)\n",
    "\n",
    "mh.Greetings(nesan)\n",
    "mh.Greetings(mai)\n",
    "mh.Greetings(sya)"
   ]
  },
  {
   "cell_type": "markdown",
   "metadata": {},
   "source": [
    "The method `Greetings()` took into consideration whether the passed object is from which of the two classes, and more logical conditions after that. This is how technically function overloading is done in Python."
   ]
  }
 ],
 "metadata": {
  "kernelspec": {
   "display_name": "Python 3",
   "language": "python",
   "name": "python3"
  },
  "language_info": {
   "codemirror_mode": {
    "name": "ipython",
    "version": 3
   },
   "file_extension": ".py",
   "mimetype": "text/x-python",
   "name": "python",
   "nbconvert_exporter": "python",
   "pygments_lexer": "ipython3",
   "version": "3.8.8"
  }
 },
 "nbformat": 4,
 "nbformat_minor": 4
}

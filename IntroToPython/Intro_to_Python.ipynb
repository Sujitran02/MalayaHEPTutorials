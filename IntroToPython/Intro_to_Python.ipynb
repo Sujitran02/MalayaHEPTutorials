{
 "cells": [
  {
   "cell_type": "markdown",
   "metadata": {},
   "source": [
    "<h1><center> INTRODUCTION TO PYTHON</center></h1>\n",
    "\n",
    "<img src=\"./images/python-logo.png\" width=300>"
   ]
  },
  {
   "cell_type": "markdown",
   "metadata": {},
   "source": [
    "When it comes to programming these days, one word you will hear a lot from people is \"Python\". A simple and easy to learn programming language, that has a very large library and an elegant syntax, coupled with its dynamic nature, making it one of the go-to languages for people to start learn programming.\n",
    "\n",
    "Science has been pushing Python to the limit these days, so learning it would prove extremely valuable. In this beginner's tutorial, we will cover the basics of programming with Python. Here, it is assumed that you have no experience in programming with it.\n",
    "\n",
    "**The topics of this tutorial include:**\n",
    "* Basic Syntax and Arithmetic\n",
    "* Flow Control\n",
    "* Functions\n",
    "* Arrays\n",
    "\n",
    "**Note:** For those who are using Jupyter Notebooks for the first time, to run a cell just hit ```shift+enter```. The information and processes from the previous cell will then be passed on the next.\n"
   ]
  },
  {
   "cell_type": "markdown",
   "metadata": {},
   "source": [
    "# Overview\n",
    "\n",
    "Compared to other programming languages, Python has a few key features.\n",
    "\n",
    "* **Interpreted:** Everything is processed line by line during runtime, which means it requires no pre-compilation\n",
    "* **Interactive:** An interactive version, iPython, is available if you want to write it interactively\n",
    "* **OOP:** Python, like C++, can support the Object Oriented Programming style, which we will cover in a later tutorial\n",
    "* **Simplicity**: Python just looks, and is, clean.\n",
    "\n",
    "# Basic Syntax\n",
    "\n",
    "## Keywords\n",
    "\n",
    "Before writing your own lines of code, you need to know that a few words are reserved and cannot be used outside of their presribed usage. We will go through what this means later in Variables. Here are those words:\n",
    "\n",
    "<img src=\"./images/keywords.png\">\n",
    "\n",
    "## Code Blocks\n",
    "\n",
    "In Python, lines of code can be grouped into blocks, and these blocks are marked by indentation. There are three main rules:\n",
    "\n",
    "* Blocks can contain other blocks\n",
    "* A block starts when the indentation increases\n",
    "* A block ends when an indentation decreases\n",
    "\n",
    "```\n",
    "Block A\n",
    "Block A\n",
    "    Block A.1\n",
    "    Block A.1\n",
    "        Block A.2\n",
    "Block A\n",
    "```\n",
    "\n",
    "Hence, indentations play a crucial role in Python compared to other languages. Indentations also help make the code much more readable for users.\n",
    "\n",
    "Before we move on, let's start with a basic example.\n",
    "\n",
    "## Comments\n",
    "\n",
    "Like other programming languages, Python can comment out lines of code using ```#```. When a line is commented, the Python interpreter ignores it, which means it will not run. To comment multiple lines, enclose them with ` \"\"\" `.\n",
    "\n",
    "**Exericse 1: Change the sentence below, describe yourself in a single line.**"
   ]
  },
  {
   "cell_type": "code",
   "execution_count": 13,
   "metadata": {},
   "outputs": [
    {
     "name": "stdout",
     "output_type": "stream",
     "text": [
      "My name is Yuki, and I am 15 years old!\n"
     ]
    }
   ],
   "source": [
    "\"\"\"\n",
    "Below, is a simple statement.\n",
    "It prints out a sentence.\n",
    "\"\"\"\n",
    "\n",
    "# remove the comment in the line below, and run it\n",
    "#print(\"Hi, everyone!\")\n",
    "print(\"My name is Yuki, and I am 15 years old!\")\n"
   ]
  },
  {
   "cell_type": "markdown",
   "metadata": {},
   "source": [
    "## Semicolon\n",
    "\n",
    "You can fit in two statements in a single line, by separating them using the ```;```."
   ]
  },
  {
   "cell_type": "code",
   "execution_count": 14,
   "metadata": {},
   "outputs": [
    {
     "name": "stdout",
     "output_type": "stream",
     "text": [
      "This is statement 1.\n",
      "This is statement 2.\n"
     ]
    }
   ],
   "source": [
    "print(\"This is statement 1.\"); print(\"This is statement 2.\")"
   ]
  },
  {
   "cell_type": "markdown",
   "metadata": {},
   "source": [
    "# VARIABLES\n",
    "\n",
    "Variables are data containers, that points to a memory location. There are different types of variables for a given data type, and this is where Python shows its prowess.\n",
    "\n",
    "## Duck-Typing\n",
    "\n",
    "Compared to other languages, Python does not require you to specify what data type the container will be holding. The variable is created the moment a value is assigned to it. The interpreter immediately guesses what type it needs to store or use in an operation.\n",
    "\n",
    "## Data Types, Variable Naming and Assignment\n",
    "\n",
    "Among the built-in data types in Python are:\n",
    "* **Text:** ```string```, they are enclosed by ```\"``` or ```'```.\n",
    "* **Numeric:** ```int```, ```float```, ```complex```, basically any numbers\n",
    "* **Boolean:** ```bool```, the values ```True``` and ```False```\n",
    "\n",
    "While naming the variables, there are specific rules:\n",
    "* The name starts with a letter or ```_```, not with a number\n",
    "* Besides the first character, the name can contain other alpha-numeric characters\n",
    "* The names are case-sensitive and unique, they cannot share with one another\n",
    "\n",
    "By convention, variables usually start with lowercase letters while uppercase letters are used to separate the concatenated words. This can also be done using ```_```. Example: ```myName``` or ```my_name```.\n",
    "\n",
    "**Exercise 1.1: By using variables, print the same output as Exercise 1.**\n",
    "\n"
   ]
  },
  {
   "cell_type": "code",
   "execution_count": 25,
   "metadata": {},
   "outputs": [
    {
     "name": "stdout",
     "output_type": "stream",
     "text": [
      "My name is Yuki and I am 15 years old\n",
      "\n",
      "To store a multiline string,\n",
      "enclose the sentence with three quotation marks\n",
      "like this one\n",
      "\n"
     ]
    }
   ],
   "source": [
    "name = \"Yuki\" # this stores a string value\n",
    "age  = 15     # this stores a numeric value\n",
    "\n",
    "longSentence = \"\"\"To store a multiline string,\n",
    "enclose the sentence with three quotation marks\n",
    "like this one\n",
    "\"\"\"\n",
    "\n",
    "print(\"My name is\", name, \"and I am\", age, \"years old\" )\n",
    "print(\"\") # to separate the two outputs\n",
    "print(longSentence)"
   ]
  },
  {
   "cell_type": "markdown",
   "metadata": {},
   "source": [
    "As you have seen above, the containers are assigned value by the ```=``` operator. You can assign multiple variables at the same time. You can also know what type of data is stored by using the ```type()``` operator."
   ]
  },
  {
   "cell_type": "code",
   "execution_count": 17,
   "metadata": {},
   "outputs": [
    {
     "name": "stdout",
     "output_type": "stream",
     "text": [
      "5 5\n",
      "6.55 Hi!\n",
      "<class 'str'>\n"
     ]
    }
   ],
   "source": [
    "x = y = 5            # assigning many variables a single value\n",
    "a, b = 6.55, \"Hi!\"   # assigning many variables with different values\n",
    "\n",
    "print(x, y)\n",
    "print(a, b)\n",
    "print(type(b))"
   ]
  },
  {
   "cell_type": "markdown",
   "metadata": {},
   "source": [
    "## I/O (Input/Output) and Type Conversion\n",
    "\n",
    "It is already visible that the ```print()``` method is how you show output. Conversely to take in input, we use the ```input()``` method. By design, ```input()``` takes in a ```string``` value so to change it to a desired value we can change them.\n",
    "\n",
    "To change a data type to a string, use the ```str()``` operator, while to change it to numeric values we use the ```int()``` and ```float()``` method. Not all ```string``` can be converted to a number, if it contains a non-numeric character."
   ]
  },
  {
   "cell_type": "code",
   "execution_count": 23,
   "metadata": {},
   "outputs": [
    {
     "name": "stdout",
     "output_type": "stream",
     "text": [
      "Insert a number:7.8\n",
      "The variable has a value 7.8 and data type <class 'float'>\n"
     ]
    }
   ],
   "source": [
    "num = float(input(\"Insert a number:\"))\n",
    "\n",
    "print(\"The variable has a value\", num, \"and data type\", type(num))"
   ]
  },
  {
   "cell_type": "markdown",
   "metadata": {},
   "source": [
    "# BASIC ARITHMETIC"
   ]
  },
  {
   "cell_type": "code",
   "execution_count": null,
   "metadata": {},
   "outputs": [],
   "source": []
  }
 ],
 "metadata": {
  "kernelspec": {
   "display_name": "Python 3",
   "language": "python",
   "name": "python3"
  },
  "language_info": {
   "codemirror_mode": {
    "name": "ipython",
    "version": 3
   },
   "file_extension": ".py",
   "mimetype": "text/x-python",
   "name": "python",
   "nbconvert_exporter": "python",
   "pygments_lexer": "ipython3",
   "version": "3.8.3"
  }
 },
 "nbformat": 4,
 "nbformat_minor": 4
}

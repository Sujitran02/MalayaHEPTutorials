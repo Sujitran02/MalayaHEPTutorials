{
 "cells": [
  {
   "cell_type": "markdown",
   "metadata": {},
   "source": [
    "<h1><center> INTRODUCTION TO PYTHON</center></h1>\n",
    "\n",
    "<img src=\"./images/python-logo.png\" width=300>"
   ]
  },
  {
   "cell_type": "markdown",
   "metadata": {},
   "source": [
    "When it comes to programming these days, one word you will hear a lot from people is \"Python\". A simple and easy to learn programming language, that has a very large library and an elegant syntax, coupled with its dynamic nature, making it one of the go-to languages for people to start learn programming.\n",
    "\n",
    "Science has been pushing Python to the limit these days, so learning it would prove extremely valuable. In this beginner's tutorial, we will cover the basics of programming with Python. Here, it is assumed that you have no experience in programming with it.\n",
    "\n",
    "**Disclaimer**: Do take note that this tutorial only serves to teach users the syntax and concepts, not how actual work is done and does not attempt to be comprehensive.\n",
    "\n",
    "**The topics of this tutorial include:**\n",
    "* Basic Syntax and Arithmetic\n",
    "* Flow Control\n",
    "* Functions\n",
    "* Arrays\n",
    "\n",
    "**Note:** For those who are using Jupyter Notebooks for the first time, to run a cell just hit ```shift+enter```. The information and processes from the previous cell will then be passed on the next.\n"
   ]
  },
  {
   "cell_type": "markdown",
   "metadata": {},
   "source": [
    "# Overview\n",
    "\n",
    "Compared to other programming languages, Python has a few key features.\n",
    "\n",
    "* **Interpreted:** Everything is processed line by line during runtime, which means it requires no pre-compilation\n",
    "* **Interactive:** An interactive version, iPython, is available if you want to write it interactively\n",
    "* **OOP:** Python, like C++, can support the Object Oriented Programming style, which we will cover in a later tutorial\n",
    "* **Simplicity**: Python just looks, and is, clean.\n",
    "\n",
    "# Basic Syntax\n",
    "\n",
    "## Keywords\n",
    "\n",
    "Before writing your own lines of code, you need to know that a few words are reserved and cannot be used outside of their presribed usage. We will go through what this means later in Variables. Here are those words:\n",
    "\n",
    "<img src=\"./images/keywords.png\">\n",
    "\n",
    "## Comments\n",
    "\n",
    "Like other programming languages, Python can comment out lines of code using ```#```. When a line is commented, the Python interpreter ignores it, which means it will not run. To comment multiple lines, enclose them with ` \"\"\" `.\n",
    "\n",
    "Before we move on, let's start with a basic example.\n",
    "\n",
    "**Exericse 1: Change the sentence below, describe yourself in a single line.**"
   ]
  },
  {
   "cell_type": "code",
   "execution_count": 2,
   "metadata": {},
   "outputs": [
    {
     "name": "stdout",
     "output_type": "stream",
     "text": [
      "My name is Yuki, and I am 15 years old!\n"
     ]
    }
   ],
   "source": [
    "\"\"\"\n",
    "The first line below is commented out (this one too) by placing the \"hash\" (#) character in front of it.\n",
    "To 'uncomment' a line, just remove the '#'.\n",
    "One can also use a keyboard shortcut to comment/uncomment lines, via 'CTRL+/'.\n",
    "\"\"\"\n",
    "\n",
    "# print(\"Hi, everyone!\")\n",
    "print(\"My name is Yuki, and I am 15 years old!\")"
   ]
  },
  {
   "cell_type": "markdown",
   "metadata": {},
   "source": [
    "## Semicolon\n",
    "\n",
    "Python interprets a single line of code as a single statement. Though, you can fit in two statements in a single line, by separating them using the ```;```."
   ]
  },
  {
   "cell_type": "code",
   "execution_count": 3,
   "metadata": {},
   "outputs": [
    {
     "name": "stdout",
     "output_type": "stream",
     "text": [
      "This is statement 1.\n",
      "This is statement 2.\n",
      "This is statement 3\n"
     ]
    }
   ],
   "source": [
    "print(\"This is statement 1.\"); print(\"This is statement 2.\"); print(\"This is statement 3\")"
   ]
  },
  {
   "cell_type": "markdown",
   "metadata": {},
   "source": [
    "# VARIABLES\n",
    "\n",
    "Variables are containers, that stores an assigned value and also points to a specific memory location. There are different types of variables for a given data type.\n",
    "\n",
    "### Note: Duck-Typing\n",
    "\n",
    "Compared to other languages, Python does not require you to specify what data type the container will be holding. The variable is created the moment a value is assigned to it. The interpreter immediately guesses what type it needs to store or use in an operation.\n",
    "\n",
    "## Data Types\n",
    "\n",
    "Among the built-in data types in Python are:\n",
    "* **Text:** ```string```, they are enclosed by ```\"``` or ```'```.\n",
    "* **Numeric:** ```int```, ```float```, ```complex```, basically any numbers\n",
    "* **Boolean:** ```bool```, the values ```True``` and ```False```\n",
    "\n",
    "## Naming Conventions\n",
    "\n",
    "While naming the variables, there are specific rules:\n",
    "* The name starts with a letter or ```_```, not with a number\n",
    "* Besides the first character, the name can contain other alpha-numeric characters\n",
    "* The names are case-sensitive and unique, they cannot share with one another\n",
    "\n",
    "By convention, variables usually start with lowercase letters while uppercase letters are used to separate the concatenated words. \n",
    "\n",
    "This can also be done using ```_```. Example: ```myName``` or ```my_name```.\n",
    "\n",
    "## Value Assignment\n",
    "\n",
    "When a variable is declared, a value (be it of any data type) can be assigned using the assignment operator, ```=```.\n",
    "\n",
    "**Exercise 1.1: By using variables, print the same output as Exercise 1.**\n",
    "\n"
   ]
  },
  {
   "cell_type": "code",
   "execution_count": 25,
   "metadata": {},
   "outputs": [
    {
     "name": "stdout",
     "output_type": "stream",
     "text": [
      "My name is Yuki and I am 15 years old\n",
      "\n",
      "To store a multiline string,\n",
      "enclose the sentence with three quotation marks\n",
      "like this one\n",
      "\n"
     ]
    }
   ],
   "source": [
    "# this variable is assigned a string value\n",
    "name = \"Yuki\" \n",
    "\n",
    "# this variable is assigned a numeric value\n",
    "age  = 15     \n",
    "\n",
    "#this variable is assigned a multiline string value\n",
    "longSentence = \"\"\"To store a multiline string,\n",
    "enclose the sentence with three quotation marks\n",
    "like this one\n",
    "\"\"\"\n",
    "\n",
    "# output\n",
    "print(\"My name is\", name, \"and I am\", age, \"years old\" )\n",
    "print(longSentence)"
   ]
  },
  {
   "cell_type": "markdown",
   "metadata": {},
   "source": [
    "## Multiple Assignments, ```type()``` operator\n",
    "\n",
    "You also can assign multiple variables in a single line. \n",
    "\n",
    "What data type a variable is storing can be identified too by using the ```type()``` operator."
   ]
  },
  {
   "cell_type": "code",
   "execution_count": 9,
   "metadata": {},
   "outputs": [
    {
     "name": "stdout",
     "output_type": "stream",
     "text": [
      "x =  5    y =  5\n",
      "a =  6.55 b =  Hi!\n",
      "The variable b stores the data type:  <class 'str'>\n"
     ]
    }
   ],
   "source": [
    "# assigning multiple variables a single value\n",
    "# here, both x and y are assigned the same value 5\n",
    "x = y = 5            \n",
    "\n",
    "# assigning multiple variables with different values\n",
    "# here, a is assigned the value 6.55 while b is assigned the value \"Hi!\"\n",
    "a, b = 6.55, \"Hi!\"   \n",
    "\n",
    "print(\"x = \", x, \"   y = \", y)\n",
    "print(\"a = \", a, \"b = \", b)\n",
    "print(\"The variable b stores the data type: \", type(b))"
   ]
  },
  {
   "cell_type": "markdown",
   "metadata": {},
   "source": [
    "## String Manipulation\n",
    "\n",
    "Aside from just normal sentences, there are a few syntaxes that allow for in-line string manipulation."
   ]
  },
  {
   "cell_type": "code",
   "execution_count": 12,
   "metadata": {},
   "outputs": [
    {
     "name": "stdout",
     "output_type": "stream",
     "text": [
      "Yesn't\n",
      "Yesn't\n",
      "\"He said\", she said.\n",
      "\"She said\", he said\n",
      "Line 1\n",
      "Line 2\n",
      "C:\\Desktop\\nope\n",
      "This line will be glued to this line\n"
     ]
    }
   ],
   "source": [
    "# to use a single quote (') within a string, one can write (\\')\n",
    "print('Yesn\\'t')\n",
    "\n",
    "# or one can use double quotes instead when writing the string\n",
    "print(\"Yesn't\")\n",
    "\n",
    "# the same vice versa\n",
    "print('\\\"He said\\\", she said.')\n",
    "print('\"She said\", he said')\n",
    "\n",
    "# you can also push a string into a new line, using (\\n)\n",
    "print(\"Line 1\\nLine 2\")\n",
    "\n",
    "# in the case you want to use '\\n' in a string, and not be interpreted as the newline operator\n",
    "print(r\"C:\\Desktop\\nope\")\n",
    "\n",
    "# you can also write two string literals side by side, and it will still be considered as one\n",
    "print(\n",
    "\"This line will be glued\"\n",
    "\" to this line\"\n",
    ")"
   ]
  },
  {
   "cell_type": "markdown",
   "metadata": {},
   "source": [
    "## I/O (Input/Output) and Type Conversion\n",
    "\n",
    "It is already visible that the ```print()``` method is how you show output. Conversely to take in input, we use the ```input()``` method. By design, ```input()``` takes in a ```string``` value so to change it to a desired value we can change them.\n",
    "\n",
    "To change a data type to a string, use the ```str()``` operator, while to change it to numeric values we use the ```int()``` and ```float()``` method. Not all ```string``` can be converted to a number, if it contains a non-numeric character."
   ]
  },
  {
   "cell_type": "code",
   "execution_count": 23,
   "metadata": {},
   "outputs": [
    {
     "name": "stdout",
     "output_type": "stream",
     "text": [
      "Insert a number:7.8\n",
      "The variable has a value 7.8 and data type <class 'float'>\n"
     ]
    }
   ],
   "source": [
    "num = float(input(\"Insert a number:\"))\n",
    "\n",
    "print(\"The variable has a value\", num, \"and data type\", type(num))"
   ]
  },
  {
   "cell_type": "markdown",
   "metadata": {},
   "source": [
    "# BASIC MATHEMATICS\n",
    "\n",
    "Apart from printing out strings, Python is also well-sufficient to carry out mathematical operations, even the complex ones. We will go through the syntax below.\n",
    "\n",
    "## Arithmetic Operators\n",
    "\n",
    "Basic arithmetic operations can be carried out straightforwardly using the appropriate operators, as listed below.\n",
    "\n",
    "|Operator|Description|\n",
    "|------|------|\n",
    "|   ```+```  | Addition|\n",
    "|   ```-```  | Subtraction|\n",
    "|   ```*```  | Multiplication|\n",
    "|   ```/```  | Division|\n",
    "|   ```%```  | Modulo (Division remainder)|\n",
    "|   ```**```  | Exponentiation|\n",
    "\n",
    "These operators can also be coupled with ```=``` to update a variable with an operation, such as:\n",
    "\n",
    "|Operator|Example|Note|\n",
    "|------|------|------|\n",
    "|   ```+=```  | x += 5| x = x + 5 |\n",
    "|   ```-=```  | x -= 5| x = x - 5 |\n",
    "|   ```*=```  | x `*`= 5 | x = x `*` 5 | \n",
    "|   ```/= ```  | x /= 5| x = x / 5 |"
   ]
  },
  {
   "cell_type": "code",
   "execution_count": 10,
   "metadata": {},
   "outputs": [
    {
     "name": "stdout",
     "output_type": "stream",
     "text": [
      "4\n",
      "2\n",
      "54\n",
      "9.0\n",
      "1\n",
      "64\n",
      "11.0\n",
      "\n",
      "a = 5\n",
      "a =  10\n",
      "a =  5\n",
      "a =  10\n",
      "a =  5.0\n"
     ]
    }
   ],
   "source": [
    "# Addition\n",
    "print(2+2)\n",
    "\n",
    "# Subtraction\n",
    "print(5-3)\n",
    "\n",
    "# Multiplication\n",
    "print(6*9)\n",
    "\n",
    "# Division\n",
    "print(108/12)\n",
    "\n",
    "# Modulo\n",
    "print(17%4)\n",
    "\n",
    "# Exponentiation\n",
    "print(8**2)\n",
    "\n",
    "# Order of operations\n",
    "print(1+5*(4/2))\n",
    "\n",
    "# Updating variable\n",
    "\n",
    "a = 5\n",
    "print(\"\\na =\", a)\n",
    "a+=5\n",
    "print(\"a = \", a)\n",
    "a-=5\n",
    "print(\"a = \", a)\n",
    "a*=2\n",
    "print(\"a = \", a)\n",
    "a/=2\n",
    "print(\"a = \", a)"
   ]
  },
  {
   "cell_type": "markdown",
   "metadata": {},
   "source": [
    "**Exercise 2: With what you have learnt, find the root for the equation $0 = 8x^2 - 6x + 1.125$ using the quadratic formula.**"
   ]
  },
  {
   "cell_type": "code",
   "execution_count": 3,
   "metadata": {},
   "outputs": [],
   "source": [
    "# start by declaring variables\n",
    "\n",
    "# then, carry out the calculations\n"
   ]
  },
  {
   "cell_type": "markdown",
   "metadata": {},
   "source": [
    "**EXTRA:** Just as the addition operator ```+``` is used to add two numerical values, they can also be used to *concatenate* strings together. The ```*``` operator on the other hand, can be used to repeat strings."
   ]
  },
  {
   "cell_type": "code",
   "execution_count": 11,
   "metadata": {},
   "outputs": [
    {
     "name": "stdout",
     "output_type": "stream",
     "text": [
      "Hello World!\n",
      "Hello World!Hello World!Hello World!\n"
     ]
    }
   ],
   "source": [
    "str1 = \"Hello\"\n",
    "str2 = \"World!\"\n",
    "str3 = str1+\" \"+str2 \n",
    "\n",
    "print(str3)\n",
    "print(str3*3)"
   ]
  },
  {
   "cell_type": "markdown",
   "metadata": {},
   "source": [
    "# FLOW CONTROL\n",
    "\n",
    "Simple programs might be just a few lines of code that run one after the other, but as complexity grows, the program may have multiple paths or may need to repeat operations. This can be tedious if we were to write it again and again for each repetition or path rendition. Hence, \"flow control\"\n",
    "\n",
    "## Code Blocks\n",
    "\n",
    "In Python, lines of code can be grouped into blocks, and these blocks are marked by indentation. There are three main rules:\n",
    "\n",
    "* Blocks can contain other blocks\n",
    "* A block starts when the indentation increases\n",
    "* A block ends when an indentation decreases\n",
    "\n",
    "```\n",
    "Block A\n",
    "Block A\n",
    "    Block A.1\n",
    "    Block A.1\n",
    "        Block A.1.1\n",
    "Block A\n",
    "```\n",
    "\n",
    "Hence, indentations play a crucial role in Python compared to other languages. Indentations also help make the code much more readable for users.\n",
    "\n",
    "## Selection: if, elif and else\n",
    "\n",
    "The ```if``` keyword can be used to execute a block of code if the conditions required are fulfilled. The ```elif``` offers a second path if the first path set by ```if``` is not available, with its own set of conditions. If all the previous conditions are not met, then an ```else``` path can be used to cover the remaining conditions.\n",
    "\n",
    "<img src=\"./images/elif.png\" />\n",
    "\n",
    "## Comparison Operators\n",
    "\n",
    "Flow control statements utilize Boolean values, and these use a different set of operators compared to numeric values. Relational operators take in numeric or string values, and return a Boolean value.\n",
    "\n",
    "|Operator|Description|\n",
    "|------|------|\n",
    "|   x == y  | Returns ```True``` if x equals to y, else ```False```|\n",
    "|   x != y  | Returns ```True``` if x is not equal to y, else ```False```|\n",
    "|   x < y   | Returns ```True``` if x is smaller than y, else ```False```|\n",
    "|   x > y   | Returns ```True``` if x is larger than y, else ```False```|\n",
    "|   x <= y  | Returns ```True``` if x is smaller than or equal to y, else ```False```|\n",
    "|   x >= y  | Returns ```True``` if x is larger than or equal to y, else ```False```|\n"
   ]
  },
  {
   "cell_type": "code",
   "execution_count": 8,
   "metadata": {},
   "outputs": [
    {
     "name": "stdout",
     "output_type": "stream",
     "text": [
      "Insert number: 7.8555\n",
      "Insert number: 8.999\n",
      "x is not equal to y\n",
      "x is not equal to y\n"
     ]
    }
   ],
   "source": [
    "x = float(input(\"Insert number: \"))\n",
    "y = float(input(\"Insert number: \"))\n",
    "          \n",
    "if x == y: \n",
    "    print(\"x equals to y\")\n",
    "else:\n",
    "    print(\"x is not equal to y\")\n",
    "          \n",
    "# you can also write it in a ternary form\n",
    "print(\"x equals to y\") if x == y else print(\"x is not equal to y\")"
   ]
  },
  {
   "cell_type": "markdown",
   "metadata": {},
   "source": [
    "## Logical Operators\n",
    "\n",
    "When dealing with Boolean values themselves, we will use logical operators.\n",
    "\n",
    "|Operator|Description|\n",
    "|------|------|\n",
    "| not x       | Returns ```False``` if x is ```True```, and vice versa |\n",
    "| x and y   | Returns ```True``` if x AND y are both ```True```, and vice versa |\n",
    "| x or y | Returns ```True``` if x OR y is ```True```, and vice versa |"
   ]
  },
  {
   "cell_type": "code",
   "execution_count": 9,
   "metadata": {},
   "outputs": [
    {
     "name": "stdout",
     "output_type": "stream",
     "text": [
      "One of the variables have a different value\n"
     ]
    }
   ],
   "source": [
    "x = y = 10\n",
    "z = 11\n",
    "\n",
    "if x == y and y == z: \n",
    "    print(\"All variables have the same value\")\n",
    "elif x == y or (y == z or x == z): \n",
    "    print(\"One of the variables have a different value\")\n",
    "else:\n",
    "    print(\"All variables have different values\")\n"
   ]
  },
  {
   "cell_type": "markdown",
   "metadata": {},
   "source": [
    "## Membership Operators\n",
    "\n",
    "Membership operators check if a value (be it a number, character, string, or list) is inside a sequence variable (lists, dictionaries, strings). We will learn more on that later.\n",
    "\n",
    "|Operator|Description|\n",
    "|------|------|\n",
    "| x in y      | Returns ```True``` if x's value is inside y |\n",
    "| x not in y   | Returns ```True``` if x's value is inside y |"
   ]
  },
  {
   "cell_type": "code",
   "execution_count": 10,
   "metadata": {},
   "outputs": [
    {
     "name": "stdout",
     "output_type": "stream",
     "text": [
      "I know her!\n"
     ]
    }
   ],
   "source": [
    "string = \"My name is Yuki!\"\n",
    "\n",
    "print(\"I know her!\") if \"Yuki\" in string else print(\"I don't know her!\")"
   ]
  },
  {
   "cell_type": "markdown",
   "metadata": {},
   "source": [
    "## Identity Operators\n",
    "\n",
    "Identity operators check if the two objects are indeed the same, even when they have similar values. Variables with the same numeric values are the same object, but sequence objects are not necessarily the same. Objects are the same when they have the same memory location, that can be checked with the ```id()``` method.\n",
    "\n",
    "**Note:** This can be confusing if you are new, so you can just skip it!\n",
    "\n",
    "|Operator|Description|\n",
    "|------|------|\n",
    "| x is y      | Returns ```True``` if x and y are the same object |\n",
    "| x is not y   |Returns ```True``` if x and y are not the same object |"
   ]
  },
  {
   "cell_type": "code",
   "execution_count": 23,
   "metadata": {},
   "outputs": [
    {
     "name": "stdout",
     "output_type": "stream",
     "text": [
      "var1 is var2\n",
      "var1 location:  139925071109168\n",
      "var2 location:  139925071109168\n",
      " \n",
      "var3 is var4\n",
      "var3 location:  139925173476736 type:  <class 'int'>\n",
      "var4 location:  139925173476736 type:  <class 'int'>\n",
      " \n",
      "var4 is not var5\n",
      "var4 location:  139925173476736 type:  <class 'int'>\n",
      "var5 location:  139925071117072 type:  <class 'float'>\n",
      " \n",
      "var1 is not var6\n",
      "var1 location:  139925071109168\n",
      "var6 location:  139925070306288\n"
     ]
    }
   ],
   "source": [
    "var1 = var2 = \"hi!\"\n",
    "\n",
    "# variables assigned together are the same objects\n",
    "print(\"var1 is var2\") if var1 is var2 else print(\"var1 is not var2\")\n",
    "print(\"var1 location: \", id(var1))\n",
    "print(\"var2 location: \", id(var2))\n",
    "print(\" \")\n",
    "\n",
    "var3 = 5; var4 = 5;\n",
    "var5 = 5.0\n",
    "\n",
    "# numeric variables with the same value are the same object\n",
    "print(\"var3 is var4\") if var3 is var4 else print(\"var3 is not var4\")\n",
    "print(\"var3 location: \", id(var3), \"type: \", type(var3))\n",
    "print(\"var4 location: \", id(var4), \"type: \", type(var4))\n",
    "print(\" \")\n",
    "\n",
    "# though there are exceptions to the case, where var5 is assigned as a float\n",
    "print(\"var4 is var5\") if var4 is var5 else print(\"var4 is not var5\")\n",
    "print(\"var4 location: \", id(var4), \"type: \", type(var4))\n",
    "print(\"var5 location: \", id(var5), \"type: \", type(var5))\n",
    "print(\" \")\n",
    "\n",
    "var6 = \"hi!\"\n",
    "\n",
    "# even with the same value, they are in fact different objects\n",
    "print(\"var1 is var6\") if var1 is var6 else print(\"var1 is not var6\")\n",
    "print(\"var1 location: \", id(var1))\n",
    "print(\"var6 location: \", id(var6))"
   ]
  },
  {
   "cell_type": "markdown",
   "metadata": {},
   "source": [
    "**Exercise 3: Construct a simple flow control statement to see whether a student is above 18 years old and a part of the Physics department.**"
   ]
  },
  {
   "cell_type": "code",
   "execution_count": null,
   "metadata": {},
   "outputs": [],
   "source": []
  },
  {
   "cell_type": "markdown",
   "metadata": {},
   "source": [
    "## Iteration Statements: Loops\n",
    "\n",
    "While ```if``` statements are used to designate multiple paths, loop statements are used to repeat a block of code as long as the conditions are fulfilled.\n",
    "\n",
    "### while Loops\n",
    "\n",
    "The simplest kind of loop, ```while``` repeats a statement as long as the condition is ```True```. When it becomes ```False```, the loop exits and continues to the next statement.\n",
    "\n",
    "<img src=\"./images/while.jpg\" />\n",
    "\n",
    "Example:"
   ]
  },
  {
   "cell_type": "code",
   "execution_count": 20,
   "metadata": {},
   "outputs": [
    {
     "name": "stdout",
     "output_type": "stream",
     "text": [
      "10, 9, 8, 7, 6, 5, 4, 3, 2, 1, Liftoff!\n"
     ]
    }
   ],
   "source": [
    "n = 10\n",
    "\n",
    "while(n > 0):\n",
    "    print(n, end = \", \")\n",
    "    n -= 1\n",
    "\n",
    "print(\"Liftoff!\")"
   ]
  },
  {
   "cell_type": "markdown",
   "metadata": {},
   "source": [
    "**Exercise 4: Using the Fibonacci sequence, print out the numbers up to 1000 by using the ```while``` loop.**\n",
    "\n",
    "Hint:\n",
    "\n",
    "$F_n = F_{n-1} + F_{n-2}$"
   ]
  },
  {
   "cell_type": "code",
   "execution_count": null,
   "metadata": {},
   "outputs": [],
   "source": []
  },
  {
   "cell_type": "markdown",
   "metadata": {},
   "source": [
    "### for Loops\n",
    "\n",
    "The ```for``` loops in Python works differently, in a sense that they iterate over a sequence. This can be a ```list``` or a ```range()``` object.\n",
    "\n",
    "The ```range()``` object has a few initializations:\n",
    "\n",
    "* range(n): Number goes from 0 until n-1 with step = 1\n",
    "* range(n, m): Number goes from n until m-1 with step = 1\n",
    "* range(n, m, step): Number goes from n until m-1 with specified step size\n",
    "\n",
    "If the step size is not specified, it will default to 1."
   ]
  },
  {
   "cell_type": "code",
   "execution_count": 23,
   "metadata": {},
   "outputs": [
    {
     "name": "stdout",
     "output_type": "stream",
     "text": [
      "10, 9, 8, 7, 6, 5, 4, 3, 2, 1, Liftoff!\n"
     ]
    }
   ],
   "source": [
    "for i in range(10, 0, -1):\n",
    "    print(i, end = \", \")\n",
    "\n",
    "print(\"Liftoff!\")"
   ]
  },
  {
   "cell_type": "markdown",
   "metadata": {},
   "source": [
    "**Exercise 5: Given the Rydberg constant, $R = 1.097e7 m^{-1}$, show the wavelength of hydrogen specctrum lines for the Lyman series. Exit the ```for``` loop when $n_2 = 5$. Use ```if``` and ```else``` statements where necessary.**\n",
    "\n",
    "Hint:\n",
    "\n",
    "$\\frac{1}{\\lambda} = R(\\frac{1}{n_1^2} - \\frac{1}{n_2^2})$"
   ]
  },
  {
   "cell_type": "code",
   "execution_count": null,
   "metadata": {},
   "outputs": [],
   "source": []
  },
  {
   "cell_type": "markdown",
   "metadata": {},
   "source": [
    "## ```break``` and ```continue``` statements\n",
    "\n",
    "Sometimes, you may want to exit a loop mid-way due to some conditions. This can be done using the above statements.\n",
    "\n",
    "```break``` statement exits out of the current loop immediately, while ```continue``` skips the current loop operation to the next value."
   ]
  },
  {
   "cell_type": "code",
   "execution_count": 31,
   "metadata": {},
   "outputs": [
    {
     "name": "stdout",
     "output_type": "stream",
     "text": [
      "0 2 4 6 8 10 12 14 16 18 "
     ]
    }
   ],
   "source": [
    "# print even numbers only\n",
    "\n",
    "for i in range(20):\n",
    "    if i%2 == 0:\n",
    "        print(i, end = \" \")\n",
    "    else: \n",
    "        continue\n"
   ]
  },
  {
   "cell_type": "markdown",
   "metadata": {},
   "source": [
    "## Nested Loops\n",
    "\n",
    "Nothing much, just loops inside loops.\n",
    "\n",
    "<img src=\"./images/nested.png\" width = 400>"
   ]
  },
  {
   "cell_type": "code",
   "execution_count": 39,
   "metadata": {},
   "outputs": [
    {
     "name": "stdout",
     "output_type": "stream",
     "text": [
      "i = 0  j = 0 1 2 3 \n",
      "i = 1  j = 0 1 2 3 \n",
      "i = 2  j = 0 1 2 3 \n"
     ]
    }
   ],
   "source": [
    "for i in range(3):\n",
    "    print(\"i =\", i, \" j = \", end = \"\")\n",
    "    \n",
    "    for j in range(20):\n",
    "        if j > 3: \n",
    "            print(\"\")\n",
    "            break\n",
    "        else: print(j, end = \" \")\n",
    "    "
   ]
  },
  {
   "cell_type": "markdown",
   "metadata": {},
   "source": [
    "# FUNCTIONS\n",
    "\n",
    "There might be a single operation that needs to be run multiple times in different instances, so writing them again and again can be tiring. You have already been using a function all this time, namely the ```print()``` function. It takes in a value and then prints it out as an output.\n",
    "\n",
    "You can define a function of your own, by using the ```def``` keyword. Function naming follows the same rules as variable naming. The syntax is as follows:\n",
    "\n",
    "```\n",
    "def function_name(arg1, arg2, ...):\n",
    "    lines of code\n",
    "```\n",
    "\n",
    "The function can contain as many arguments as possible, and it can also contain none.\n",
    "\n",
    "Take the Fibonacci sequence you did above as an example:"
   ]
  },
  {
   "cell_type": "code",
   "execution_count": 46,
   "metadata": {},
   "outputs": [
    {
     "name": "stdout",
     "output_type": "stream",
     "text": [
      "0 1 1 2 3 5 8 \n",
      "0 1 1 2 3 5 8 13 21 \n",
      "0 1 1 2 3 5 8 13 21 34 55 \n"
     ]
    }
   ],
   "source": [
    "# define the function\n",
    "def Fib(n):\n",
    "    a, b = 0, 1\n",
    "    \n",
    "    while a < n:\n",
    "        print(a, end = \" \")\n",
    "        a, b = b, a + b\n",
    "    print(\"\")\n",
    "    \n",
    "# calling the function\n",
    "Fib(10)\n",
    "Fib(30)\n",
    "Fib(60)"
   ]
  },
  {
   "cell_type": "markdown",
   "metadata": {},
   "source": [
    "In the example above, we defined a function called ```Fib``` that takes in a single argument ```n```. This function returns nothing, as the ```return``` keyword was not specified.\n",
    "\n",
    "**Exercise 6: Create a specific function to calculate the root of a quadratic equation, then use it to find the root of $6x^2 - 3x + 4$.**"
   ]
  },
  {
   "cell_type": "code",
   "execution_count": null,
   "metadata": {},
   "outputs": [],
   "source": []
  },
  {
   "cell_type": "markdown",
   "metadata": {},
   "source": [
    "## Recursion\n",
    "\n",
    "Recursions are functions that call themselves. If done not properly, it could result in an endless loop. It is useful for certain tasks such as sorting or calculating factorials, which we will do later.\n",
    "\n",
    "Example:"
   ]
  },
  {
   "cell_type": "code",
   "execution_count": 52,
   "metadata": {},
   "outputs": [
    {
     "name": "stdout",
     "output_type": "stream",
     "text": [
      "Inside the function\n",
      "n = 0\n",
      "sum = 0\n",
      "\n",
      "Inside the function\n",
      "n = 1\n",
      "sum = 1\n",
      "\n",
      "Inside the function\n",
      "n = 2\n",
      "sum = 3\n",
      "\n",
      "Inside the function\n",
      "n = 3\n",
      "sum = 6\n",
      "\n",
      "Inside the function\n",
      "n = 4\n",
      "sum = 10\n",
      "\n",
      "Inside the function\n",
      "n = 5\n",
      "sum = 15\n",
      "\n",
      "Inside the function\n",
      "n = 6\n",
      "sum = 21\n",
      "\n",
      "Inside the function\n",
      "n = 7\n",
      "sum = 28\n",
      "\n",
      "Inside the function\n",
      "n = 8\n",
      "sum = 36\n",
      "\n",
      "Inside the function\n",
      "n = 9\n",
      "sum = 45\n",
      "\n",
      "Now exiting the function\n"
     ]
    }
   ],
   "source": [
    "s = 0\n",
    "\n",
    "def recursiveFunc(n, s):\n",
    "    print(\"Inside the function\")\n",
    "    print(\"n =\", n)\n",
    "    s += n\n",
    "    n += 1\n",
    "    print(\"sum =\", s)\n",
    "    print(\"\")\n",
    "    \n",
    "    if n < 10: recursiveFunc(n, s)\n",
    "    else: \n",
    "        print(\"Now exiting the function\")\n",
    "\n",
    "recursiveFunc(0, s)"
   ]
  },
  {
   "cell_type": "markdown",
   "metadata": {},
   "source": [
    "**Exercise 6.1: Using recursive functions, write a function to find the factorial of an integer.**\n",
    "\n",
    "For this exercise, we will need to use the ```return``` keyword to indicate what the function will be returning.\n",
    "\n",
    "Hint:\n",
    "$n! = n*(n-1)*(n-2)*....*3*2*1$\n",
    "\n",
    "<img src=\"./images/recursion_factorial.png\" />"
   ]
  },
  {
   "cell_type": "code",
   "execution_count": null,
   "metadata": {},
   "outputs": [],
   "source": []
  },
  {
   "cell_type": "markdown",
   "metadata": {},
   "source": [
    "# SEQUENCE DATA TYPES\n",
    "\n",
    "There are four, namely **List, Dictionary, Tuple & Set** but we will only focus on the first two.\n",
    "\n",
    "## Lists\n",
    "\n",
    "A number of variables or data values can be collected together in a collection called a ```list```. This type is **ordered**, in a sense that the first member will be the first to be called when iterated, and **changeable**, which means the members can be changed after declaration. Lists are enclosed by square brackets ```[...]```.\n",
    "\n",
    "As mentioned before, sequence data types are iterable with ```for``` loops."
   ]
  },
  {
   "cell_type": "code",
   "execution_count": 74,
   "metadata": {},
   "outputs": [
    {
     "name": "stdout",
     "output_type": "stream",
     "text": [
      "['yuki', 'tom', 'piko', 'rango', 'mako']\n",
      "<class 'list'>\n",
      "\n",
      "Iterating through the list members\n",
      "yuki tom piko rango mako "
     ]
    }
   ],
   "source": [
    "nameList = [\"yuki\", \"tom\", \"piko\", \"rango\", \"mako\"]\n",
    "print(nameList)\n",
    "print(type(nameList))\n",
    "\n",
    "print(\"\\nIterating through the list members\")\n",
    "for name in nameList:\n",
    "    print(name, end = \" \")"
   ]
  },
  {
   "cell_type": "markdown",
   "metadata": {},
   "source": [
    "### Accesing ```list``` Members\n",
    "\n",
    "To access their members, we need to refer to their index numbers, which start from 0. The variable ```nameList``` for example has 3 members, where index 0 refers to the member ```\"yuki\"```.\n",
    "\n",
    "Negative indexing also works, but it starts from -1. So if you were to call -1, it will give ```\"piko\"``` instead."
   ]
  },
  {
   "cell_type": "code",
   "execution_count": 65,
   "metadata": {},
   "outputs": [
    {
     "name": "stdout",
     "output_type": "stream",
     "text": [
      "tom\n",
      "piko\n"
     ]
    }
   ],
   "source": [
    "print(nameList[1])  # positive indexing\n",
    "print(nameList[-3]) # negative indexing"
   ]
  },
  {
   "cell_type": "markdown",
   "metadata": {},
   "source": [
    "### Number of Members\n",
    "\n",
    "To know the length of the ```list``` or the number of members, we use the ```len()``` method.\n",
    "\n",
    "### Slicing Lists\n",
    "\n",
    "Following from that, you can slice the ```list``` into smaller forms by referring to their index numbers, as shown below:"
   ]
  },
  {
   "cell_type": "code",
   "execution_count": 76,
   "metadata": {},
   "outputs": [
    {
     "name": "stdout",
     "output_type": "stream",
     "text": [
      "['tom', 'piko', 'rango'] has 3 members\n"
     ]
    }
   ],
   "source": [
    "# slicing the original list from index 1 until index 3\n",
    "smallList = nameList[1:4]\n",
    "\n",
    "print(smallList, \"has\", len(smallList), \"members\")"
   ]
  },
  {
   "cell_type": "markdown",
   "metadata": {},
   "source": [
    "## Strings as Sequence Data Types\n",
    "\n",
    "Strings by nature are also a collection of characters, so you can iterate through them and also slice them accordingly."
   ]
  },
  {
   "cell_type": "code",
   "execution_count": 95,
   "metadata": {},
   "outputs": [
    {
     "name": "stdout",
     "output_type": "stream",
     "text": [
      "P y t h o n \n",
      "\n",
      "Python\n",
      "Pytho\n",
      "Pyth\n",
      "Pyt\n",
      "Py\n",
      "P\n",
      "Py\n",
      "Pyt\n",
      "Pyth\n",
      "Pytho\n",
      "Python\n"
     ]
    }
   ],
   "source": [
    "lang = \"Python\"\n",
    "\n",
    "# iterating through the string\n",
    "for char in lang:\n",
    "    print(char, end = \" \")\n",
    "\n",
    "# slicing through the string\n",
    "print(\"\\n\")\n",
    "for i in range(-len(lang), len(lang)+1):\n",
    "    if i != 0 and i != 1:\n",
    "        print(lang[0:i]) if i >= 0 else print(lang[0:abs(i)])\n",
    "    "
   ]
  },
  {
   "cell_type": "markdown",
   "metadata": {},
   "source": [
    "## Dictionaries\n",
    "\n",
    "In contrast to ```list```, dictionaries are **unordered** and each member is referenced by a **key** instead of an index. Just like how you would go through a word dictionary by looking for the words.\n",
    "\n",
    "Example:"
   ]
  },
  {
   "cell_type": "code",
   "execution_count": 97,
   "metadata": {},
   "outputs": [
    {
     "name": "stdout",
     "output_type": "stream",
     "text": [
      "{'name': 'Afiq', 'age': 22, 'year': 1998}\n",
      "<class 'dict'>\n",
      "\n",
      "Key: name Value: Afiq\n",
      "Key: age Value: 22\n",
      "Key: year Value: 1998\n"
     ]
    }
   ],
   "source": [
    "Joey = {\n",
    "    \"name\" : \"Afiq\",\n",
    "    \"age\"  : 22,\n",
    "    \"year\" : 1998\n",
    "}\n",
    "\n",
    "print(Joey)\n",
    "print(type(Joey))\n",
    "print(\"\")\n",
    "\n",
    "# accesing dict members\n",
    "for key in Joey:\n",
    "    print(\"Key:\", key, \"Value:\", Joey[key])"
   ]
  },
  {
   "cell_type": "markdown",
   "metadata": {},
   "source": [
    "## Nested Lists and Dictionaries\n",
    "\n",
    "Just like loops, nested lists and dictionaries are just lists and dictionaries that have lists and dictionaries within them."
   ]
  },
  {
   "cell_type": "code",
   "execution_count": 100,
   "metadata": {},
   "outputs": [
    {
     "name": "stdout",
     "output_type": "stream",
     "text": [
      "4.0\n"
     ]
    }
   ],
   "source": [
    "Students = {\n",
    "    \"Joey\" :{\n",
    "        \"CGPA\": 3.75\n",
    "    },\n",
    "    \n",
    "    \"Tee\" :{\n",
    "        \"CGPA\": 4.00\n",
    "    }\n",
    "}\n",
    "\n",
    "print(Students[\"Tee\"][\"CGPA\"])"
   ]
  },
  {
   "cell_type": "markdown",
   "metadata": {},
   "source": [
    "Nested lists can act as multidimensional arrays, which are useful in mathemtical calculations especially in physics."
   ]
  },
  {
   "cell_type": "code",
   "execution_count": 102,
   "metadata": {},
   "outputs": [
    {
     "name": "stdout",
     "output_type": "stream",
     "text": [
      "14\n",
      "-3\n"
     ]
    }
   ],
   "source": [
    "def dotProduct(a, b):\n",
    "    return a[0]*b[0] + a[1]*b[1]\n",
    "\n",
    "def crossProduct(a, b):\n",
    "    return a[0]*b[1] - a[1]*b[0]\n",
    "\n",
    "# 2 vectors in a list\n",
    "vect = [[1, 2], [4, 5]]\n",
    "\n",
    "dot = dotProduct(vect[0], vect[1])\n",
    "cro = crossProduct(vect[0], vect[1])\n",
    "\n",
    "print(dot)\n",
    "print(cro)"
   ]
  },
  {
   "cell_type": "markdown",
   "metadata": {},
   "source": [
    "# MODULES\n",
    "\n",
    "When programming, you may want to use certain functions in multiple programs or the number of user-defined functions maybe too much such that it clutters the main body. A common practice would be to place those definitions in a separate script, and later **import** them as **modules**.\n",
    "\n",
    "A module is basically a file containing Python definitions and statements. You can create your own module, or use the massive library of modules made for Python.\n",
    "\n",
    "Among the commonly used ones in science are:\n",
    "* Numpy\n",
    "* Scipy\n",
    "* Matplotlib\n",
    "* Scikit-learn\n",
    "* Keras\n",
    "\n",
    "We'll take a look at Numpy and Matplotlib, numerical and plottng packages respectively.\n",
    "\n",
    "There are two ways to import.\n",
    "\n",
    "``` \n",
    "import module_name as module_nickname\n",
    "from module_name import function_name\n",
    "```\n",
    "\n",
    "The first one can be called via:\n",
    "\n",
    "```\n",
    "module_nickname.imported_method()\n",
    "```\n",
    "while the latter is called directly without referencing the module name:\n",
    "```\n",
    "imported_module\n",
    "```"
   ]
  },
  {
   "cell_type": "code",
   "execution_count": 5,
   "metadata": {},
   "outputs": [
    {
     "data": {
      "image/png": "[encoded data removed]",
      "text/plain": [
       "<Figure size 432x288 with 1 Axes>"
      ]
     },
     "metadata": {
      "needs_background": "light"
     },
     "output_type": "display_data"
    }
   ],
   "source": [
    "import numpy as np\n",
    "import matplotlib.pyplot as mpl\n",
    "\n",
    "# create two sets of arrays \n",
    "x = np.arange(-10, 10+0.1, 0.1)\n",
    "y = [i**2 for i in x]\n",
    "\n",
    "# plotting\n",
    "mpl.plot(x, y, 'b')\n",
    "mpl.xlabel(\"x\")\n",
    "mpl.ylabel(\"f(x)\")\n",
    "mpl.show()"
   ]
  },
  {
   "cell_type": "markdown",
   "metadata": {},
   "source": [
    "There are tons of other modules out there for you to explore! Try experimenting them one by one, and see which suits your needs."
   ]
  },
  {
   "cell_type": "markdown",
   "metadata": {},
   "source": [
    "<img src=\"./images/resistors.jpg\" />\n",
    "\n",
    "Electricity transmission cables. On the left is a cable comprising $n + 1$ sections in total. On the right, this is viewed as $n$ sections with resistance $R_n$ in parallel with resistance $s$, both in series with resistance $r$.\n",
    "\n",
    "**Problem: A single long overhead electricity transmission cable is supported on poles at regular intervals. Neglecting the resistance of the Earth, calculate the resistance when number of poles $n = 50$. Given $r = 100$ and $s = 10000$**\n",
    "\n",
    "Hint:\n",
    "\n",
    "$R_{n+1} = r + \\frac{sR_n}{s+R_n}$"
   ]
  },
  {
   "cell_type": "code",
   "execution_count": null,
   "metadata": {},
   "outputs": [],
   "source": []
  }
 ],
 "metadata": {
  "kernelspec": {
   "display_name": "Python 3 (ipykernel)",
   "language": "python",
   "name": "python3"
  },
  "language_info": {
   "codemirror_mode": {
    "name": "ipython",
    "version": 3
   },
   "file_extension": ".py",
   "mimetype": "text/x-python",
   "name": "python",
   "nbconvert_exporter": "python",
   "pygments_lexer": "ipython3",
   "version": "3.9.7"
  }
 },
 "nbformat": 4,
 "nbformat_minor": 4
}

{
 "cells": [
  {
   "cell_type": "markdown",
   "metadata": {},
   "source": [
    "<h1><center>DATA ANALYSIS WITH RDATAFRAME</center></h1>\n",
    "<h2><center>ROOT's High Level Declarative Analysis Interface</center></h2>\n",
    "\n",
    "RDataFrame is ROOT's way of data analysis at larger speeds compared to the older way via TTreeReader. It follows the declarative programming paradigm, where you essentially tell the program **what** you want (in a pseudo-sequential manner) rather than **how** you want, to the program. The program then does all the work for you. This simplifies thing a lot!\n",
    "\n",
    "Previously, you might tell the program how to do stuff. Loop this, check that, then do this before doing that. Now, you mainly tell it, I want this.\n",
    "\n",
    "RDataFrame also has the ability to benefit from multithreading, running multiple processes at the same time, vastly reducing the amount of time to carry out an analysis. Remember that reducing a 1 second job by 0.2 second might seem small, but if that job is scaled up by orders of magnitude, a 20% improvement in speed matters a lot.\n",
    "\n",
    "The type of operations involved with RDataFrame are **transformations** where you manipulate data and **actions** where you produce the results.\n",
    "\n",
    "\n",
    "Let's start off with the basics. It is recommended that you try this out in an independent macro, as Notebooks are not the right environment to carry out events that produce outputs."
   ]
  },
  {
   "cell_type": "code",
   "execution_count": 1,
   "metadata": {},
   "outputs": [
    {
     "name": "stdout",
     "output_type": "stream",
     "text": [
      "Welcome to JupyROOT 6.22/00\n"
     ]
    }
   ],
   "source": [
    "import ROOT\n",
    "\n",
    "# Enabling ROOT's implicit multi-threading\n",
    "ROOT.EnableImplicitMT()"
   ]
  },
  {
   "cell_type": "markdown",
   "metadata": {},
   "source": [
    "Before moving forward, we need to check the TTrees again on its content. They will be important later on."
   ]
  },
  {
   "cell_type": "code",
   "execution_count": 2,
   "metadata": {},
   "outputs": [
    {
     "name": "stdout",
     "output_type": "stream",
     "text": [
      "******************************************************************************\n",
      "*Tree    :mumu      : mumu                                                   *\n",
      "*Entries :    10798 : Total =          528511 bytes  File  Size =     402480 *\n",
      "*        :          : Tree compression factor =   1.30                       *\n",
      "******************************************************************************\n",
      "*Br    0 :evtWeight_Final : evtWeight_Final/F                                *\n",
      "*Entries :    10798 : Total  Size=      43881 bytes  File Size  =      31654 *\n",
      "*Baskets :        2 : Basket Size=      32000 bytes  Compression=   1.37     *\n",
      "*............................................................................*\n",
      "*Br    1 :passMassVCand : passMassVCand/O                                    *\n",
      "*Entries :    10798 : Total  Size=      11389 bytes  File Size  =       2281 *\n",
      "*Baskets :        1 : Basket Size=      32000 bytes  Compression=   4.77     *\n",
      "*............................................................................*\n",
      "*Br    2 :passDeepTagWMD2p5HP : passDeepTagWMD2p5HP/O                        *\n",
      "*Entries :    10798 : Total  Size=      11419 bytes  File Size  =       2479 *\n",
      "*Baskets :        1 : Basket Size=      32000 bytes  Compression=   4.39     *\n",
      "*............................................................................*\n",
      "*Br    3 :passDeepTagWMD1p0HP : passDeepTagWMD1p0HP/O                        *\n",
      "*Entries :    10798 : Total  Size=      11419 bytes  File Size  =       2526 *\n",
      "*Baskets :        1 : Basket Size=      32000 bytes  Compression=   4.31     *\n",
      "*............................................................................*\n",
      "*Br    4 :passDeepTagWMD0p5HP : passDeepTagWMD0p5HP/O                        *\n",
      "*Entries :    10798 : Total  Size=      11419 bytes  File Size  =       2476 *\n",
      "*Baskets :        1 : Basket Size=      32000 bytes  Compression=   4.40     *\n",
      "*............................................................................*\n",
      "*Br    5 :ZVCand_mass : ZVCand_mass/F                                        *\n",
      "*Entries :    10798 : Total  Size=      43857 bytes  File Size  =      36368 *\n",
      "*Baskets :        2 : Basket Size=      32000 bytes  Compression=   1.19     *\n",
      "*............................................................................*\n",
      "*Br    6 :ZCand_pt  : ZCand_pt/F                                             *\n",
      "*Entries :    10798 : Total  Size=      43839 bytes  File Size  =      37867 *\n",
      "*Baskets :        2 : Basket Size=      32000 bytes  Compression=   1.14     *\n",
      "*............................................................................*\n",
      "*Br    7 :VCand_pt  : VCand_pt/F                                             *\n",
      "*Entries :    10798 : Total  Size=      43839 bytes  File Size  =      38176 *\n",
      "*Baskets :        2 : Basket Size=      32000 bytes  Compression=   1.14     *\n",
      "*............................................................................*\n",
      "*Br    8 :VCand_mass_tag : VCand_mass_tag/F                                  *\n",
      "*Entries :    10798 : Total  Size=      43875 bytes  File Size  =      37478 *\n",
      "*Baskets :        2 : Basket Size=      32000 bytes  Compression=   1.16     *\n",
      "*............................................................................*\n",
      "*Br    9 :VCand_deepTagMD_WvsQCD : VCand_deepTagMD_WvsQCD/F                  *\n",
      "*Entries :    10798 : Total  Size=      43923 bytes  File Size  =      25666 *\n",
      "*Baskets :        2 : Basket Size=      32000 bytes  Compression=   1.69     *\n",
      "*............................................................................*\n",
      "*Br   10 :ZCand_eta : ZCand_eta/F                                            *\n",
      "*Entries :    10798 : Total  Size=      43845 bytes  File Size  =      40127 *\n",
      "*Baskets :        2 : Basket Size=      32000 bytes  Compression=   1.08     *\n",
      "*............................................................................*\n",
      "*Br   11 :ZCand_phi : ZCand_phi/F                                            *\n",
      "*Entries :    10798 : Total  Size=      43845 bytes  File Size  =      40201 *\n",
      "*Baskets :        2 : Basket Size=      32000 bytes  Compression=   1.08     *\n",
      "*............................................................................*\n",
      "*Br   12 :ZCand_mass : ZCand_mass/F                                          *\n",
      "*Entries :    10798 : Total  Size=      43851 bytes  File Size  =      35951 *\n",
      "*Baskets :        2 : Basket Size=      32000 bytes  Compression=   1.21     *\n",
      "*............................................................................*\n",
      "*Br   13 :VCand_phi : VCand_phi/F                                            *\n",
      "*Entries :    10798 : Total  Size=      43845 bytes  File Size  =      30094 *\n",
      "*Baskets :        2 : Basket Size=      32000 bytes  Compression=   1.44     *\n",
      "*............................................................................*\n",
      "*Br   14 :VCand_mass : VCand_mass/F                                          *\n",
      "*Entries :    10798 : Total  Size=      43851 bytes  File Size  =      37592 *\n",
      "*Baskets :        2 : Basket Size=      32000 bytes  Compression=   1.15     *\n",
      "*............................................................................*\n"
     ]
    }
   ],
   "source": [
    "f    = ROOT.TFile(\"./rootfiles/signal.root\", \"OPEN\")\n",
    "tree = f.Get(\"mumu\")\n",
    "tree.Print()"
   ]
  },
  {
   "cell_type": "markdown",
   "metadata": {},
   "source": [
    "Each of those branches stores values from each event, and those values can be manipulated to do selections or cuts. \n",
    "\n",
    "# First Step: Load the DataFrame\n",
    "\n",
    "First off, we need to initialize a data-frame and load a tree in it"
   ]
  },
  {
   "cell_type": "code",
   "execution_count": 3,
   "metadata": {},
   "outputs": [
    {
     "name": "stdout",
     "output_type": "stream",
     "text": [
      "A data frame built on top of the mumu dataset.\n"
     ]
    }
   ],
   "source": [
    "df = ROOT.RDataFrame(\"mumu\", \"./rootfiles/signal.root\")\n",
    "\n",
    "print(df)"
   ]
  },
  {
   "cell_type": "markdown",
   "metadata": {},
   "source": [
    "It is also possible to load multiple trees into a single data-frame using TChain.\n",
    "\n",
    "```\n",
    "df = ROOT.RDataFrame(chain)\n",
    "```\n",
    "\n",
    "# Filter(): Thinning the Dataset\n",
    "\n",
    "By using the ```filter()``` method, we can remove events that do not fit into the filter. Unless necessary, each filter is advised to be in a container of its own and not a redefinition of the main container. After filtering, we can count the number of events in a given dataframe. The filter uses the standard writing way that you would use with TCut.\n",
    "\n",
    "**Try:** Change around the filters and see what number of events you will get."
   ]
  },
  {
   "cell_type": "code",
   "execution_count": 4,
   "metadata": {},
   "outputs": [
    {
     "name": "stdout",
     "output_type": "stream",
     "text": [
      "Original number of events/entries in the tree:  10798\n",
      "Number of events/entries in the tree after filter:  439\n"
     ]
    }
   ],
   "source": [
    "print(\"Original number of events/entries in the tree: \", df.Count().GetValue())\n",
    "\n",
    "# filtering the number of events with an arbitrary filter\n",
    "df_filter = df.Filter(\"(VCand_mass>70)&&(ZCand_mass<80)\")\n",
    "print(\"Number of events/entries in the tree after filter: \", df_filter.Count().GetValue())"
   ]
  },
  {
   "cell_type": "markdown",
   "metadata": {},
   "source": [
    "**Nota Belle:** Technically, due to how RDataFrame is designed to be, this is not how your are supposed to write a program with it. This is done practically for the sake of demonstration. As mentioned before, RDataFrame is declarative. A lot of the methods are **lazy actions**, i.e. you only write it first but the program only executes it when one of their results is accessed for the first time by **instant actions**.\n",
    "\n",
    "A good practice would be to declare all transformations and actions before accessing their results (by drawing the histograms, checking the ```Count()``` value, saving the object), thus the program will run it in one go.\n",
    "\n",
    "In the example above, the filter cuts of events that do not fit the bill. This is useful when you want to make a cutflow, because the the filtered data-frame can be filtered again, and so on.\n",
    "\n",
    "# Define(): Custom Columns\n",
    "\n",
    "During your analysis, you might want to use a combination of variables to manipulate the dataset, and these combinations might be have repeating members or can be impractically long if you want to use ```filter()```. Here, you can define your own columns, essentially creating a new variable."
   ]
  },
  {
   "cell_type": "code",
   "execution_count": 5,
   "metadata": {},
   "outputs": [
    {
     "name": "stdout",
     "output_type": "stream",
     "text": [
      "Number of events/entries in the tree with custom filter:  10531\n",
      "Number of events/entries in the tree with custom filter:  16\n"
     ]
    }
   ],
   "source": [
    "# defining arbitrary new variables\n",
    "df = df.Define(\"randVar1\", \"(ZCand_mass>75)&&(ZCand_mass<105)\")\n",
    "df = df.Define(\"randVar2\", \"(VCand_pt/100)*(ZCand_pt/100)\")\n",
    "\n",
    "# using the variable to filter events\n",
    "df_filter = df.Filter(\"randVar1\")\n",
    "print(\"Number of events/entries in the tree with custom filter: \", df_filter.Count().GetValue())\n",
    "\n",
    "df_filter = df.Filter(\"randVar2 > 100\")\n",
    "print(\"Number of events/entries in the tree with custom filter: \", df_filter.Count().GetValue())"
   ]
  },
  {
   "cell_type": "markdown",
   "metadata": {},
   "source": [
    "When you define a new variable, the variable's final value depends on the expression you give. The variable ```randVar1``` returns a Boolean flag while ```randVar2``` returns a numeric value instead.\n",
    "\n",
    "# Range(): A Range of Events Only\n",
    "\n",
    "When multi-threading is not enabled (the line ```EnableImplicitMT()``` was not called), the ```Range()``` method can be called. This method limits the processing of the number of events on a range of entries. This might be useful if you want to see if a certain combination of variables result in an interesting distribution, without running on all of the samples. Rather than running on all 50,000 events in a tree, a 5,000 event distribution might be enough for evaluation.\n",
    "\n",
    "```\n",
    "# running on n events\n",
    "df_m = df.Range(n)\n",
    "\n",
    "# running from event 50 until event 100\n",
    "df_n = df.Range(50, 100)\n",
    "\n",
    "# running on event 50 and onwards\n",
    "df_o = df.Range(50, 0)\n",
    "\n",
    "# picking an event for every 10\n",
    "df_p = Range(0, 1000, 10)\n",
    "```\n",
    "\n",
    "# Histo1D(): Fill a Histogram\n",
    "\n",
    "Previously, you have to run through a TTreeReader, then produce the histogram. Right now, the ```Histo1D``` method immediately outputs the histogram for a specific distribution."
   ]
  },
  {
   "cell_type": "code",
   "execution_count": 6,
   "metadata": {},
   "outputs": [],
   "source": [
    "ROOT.gStyle.SetOptStat(0)"
   ]
  },
  {
   "cell_type": "code",
   "execution_count": 7,
   "metadata": {},
   "outputs": [
    {
     "data": {
      "image/png": "[encoded data removed]",
      "text/plain": [
       "<IPython.core.display.Image object>"
      ]
     },
     "metadata": {},
     "output_type": "display_data"
    }
   ],
   "source": [
    "h1 = df.Histo1D(\"ZCand_mass\")\n",
    "h2 = df.Histo1D(\"VCand_mass\")\n",
    "\n",
    "for h in [h1, h2]: \n",
    "    h.GetXaxis().SetTitle(\"Mass\")\n",
    "    h.SetMaximum(h.GetMaximum()*1.5)\n",
    "    h.SetMarkerStyle(20)\n",
    "    \n",
    "h1.SetMarkerColor(ROOT.kRed)\n",
    "h2.SetMarkerColor(ROOT.kBlue)\n",
    "    \n",
    "lgd = ROOT.TLegend(0.65, 0.7, 0.85, 0.8)\n",
    "lgd.AddEntry(h1.GetValue(), \"ZCand\", \"lp\")\n",
    "lgd.AddEntry(h2.GetValue(), \"VCand\", \"lp\")\n",
    "    \n",
    "canv = ROOT.TCanvas(\"canv\", \"canv\", 600, 600)\n",
    "\n",
    "h1.Draw(\"E1\")\n",
    "h2.Draw(\"E1 SAME\")\n",
    "lgd.Draw()\n",
    "canv.Draw()"
   ]
  },
  {
   "cell_type": "markdown",
   "metadata": {},
   "source": [
    "# Snapshot(): Saving Another Tree\n",
    "\n",
    "Sometimes, you may want to use the tree again post-analysis for other usages such as fitting or more studies. Thus, saving a portion of the tree would be a great feature."
   ]
  },
  {
   "cell_type": "code",
   "execution_count": 14,
   "metadata": {},
   "outputs": [
    {
     "name": "stdout",
     "output_type": "stream",
     "text": [
      "TFile**\t\tsnapshotFile.root\tsnapshotFile.root\n",
      " TFile*\t\tsnapshotFile.root\tsnapshotFile.root\n",
      "  KEY: TTree\toutputTree;1\toutputTree\n"
     ]
    }
   ],
   "source": [
    "# list out the variables you want to save\n",
    "varList = [\"ZCand_mass\", \"VCand_mass\"]\n",
    "\n",
    "# feed the list into a vector\n",
    "branchVec = ROOT.vector('string')()\n",
    "for var in varList: branchVec.push_back(var)\n",
    "\n",
    "outTreeName = \"outputTree\"\n",
    "outFileName = \"snapshotFile.root\"\n",
    "df.Snapshot(outTreeName, outFileName, branchVec)\n",
    "\n",
    "f = ROOT.TFile(outFileName, \"OPEN\")\n",
    "f.ls()"
   ]
  },
  {
   "cell_type": "code",
   "execution_count": 15,
   "metadata": {},
   "outputs": [
    {
     "name": "stdout",
     "output_type": "stream",
     "text": [
      "******************************************************************************\n",
      "*Tree    :outputTree: outputTree                                             *\n",
      "*Entries :    10798 : Total =           88092 bytes  File  Size =      74052 *\n",
      "*        :          : Tree compression factor =   1.18                       *\n",
      "******************************************************************************\n",
      "*Br    0 :ZCand_mass : ZCand_mass/F                                          *\n",
      "*Entries :    10798 : Total  Size=      43863 bytes  File Size  =      35964 *\n",
      "*Baskets :        2 : Basket Size=      32000 bytes  Compression=   1.21     *\n",
      "*............................................................................*\n",
      "*Br    1 :VCand_mass : VCand_mass/F                                          *\n",
      "*Entries :    10798 : Total  Size=      43863 bytes  File Size  =      37604 *\n",
      "*Baskets :        2 : Basket Size=      32000 bytes  Compression=   1.15     *\n",
      "*............................................................................*\n"
     ]
    }
   ],
   "source": [
    "tr = f.Get(outTreeName)\n",
    "tr.Print()"
   ]
  },
  {
   "cell_type": "markdown",
   "metadata": {},
   "source": [
    "# Extra Functionalities\n",
    "\n",
    "## AsNumpy(): Converting into Numpy Arrays\n",
    "\n",
    "A function is built in to accomodate people who might find it easier using the common Python libraries instead of ROOT's layered functionality. With the default constructor, it passes to you a dictionary."
   ]
  },
  {
   "cell_type": "code",
   "execution_count": 108,
   "metadata": {},
   "outputs": [
    {
     "name": "stdout",
     "output_type": "stream",
     "text": [
      "{'passZmass': ndarray([True, True, True, True, True, True, True, True, True, True, True,\n",
      "         True, True, True, True, True], dtype=object), 'randomVar1': ndarray([True, True, True, True, True, True, True, True, True, True, True,\n",
      "         True, True, True, True, True], dtype=object), 'randomVar2': ndarray([161.66988, 126.17994, 103.62066, 169.28513, 241.00255, 130.15208,\n",
      "         165.47594, 102.5043 , 140.90009, 114.26621, 183.88396, 205.16101,\n",
      "         126.18669, 297.56964, 141.77438, 132.71228], dtype=float32), 'randVar1': ndarray([True, True, True, True, True, True, True, True, True, True, True,\n",
      "         True, True, True, True, True], dtype=object), 'randVar2': ndarray([161.66988, 126.17994, 103.62066, 169.28513, 241.00255, 130.15208,\n",
      "         165.47594, 102.5043 , 140.90009, 114.26621, 183.88396, 205.16101,\n",
      "         126.18669, 297.56964, 141.77438, 132.71228], dtype=float32), 'evtWeight_Final': ndarray([0.00778655, 0.01213918, 0.00881769, 0.00230862, 0.01164976,\n",
      "         0.01074764, 0.01211993, 0.01050487, 0.01257607, 0.00379154,\n",
      "         0.00704629, 0.01126697, 0.01061271, 0.00313375, 0.00889715,\n",
      "         0.01154095], dtype=float32), 'passMassVCand': ndarray([False, False, True, False, False, False, False, False, False,\n",
      "         False, True, False, False, False, True, False], dtype=object), 'passDeepTagWMD2p5HP': ndarray([False, False, False, False, False, False, True, False, False,\n",
      "         False, False, False, False, False, False, False], dtype=object), 'passDeepTagWMD1p0HP': ndarray([False, False, False, False, False, False, False, False, False,\n",
      "         False, False, False, False, False, False, False], dtype=object), 'passDeepTagWMD0p5HP': ndarray([False, False, False, False, False, False, False, False, False,\n",
      "         False, False, False, False, False, False, False], dtype=object), 'ZVCand_mass': ndarray([3940.7056, 2665.8835, 2259.1204, 2683.2017, 4140.8354, 2342.2651,\n",
      "         2661.7673, 2049.8032, 2498.3035, 2237.9563, 2713.483 , 2803.9775,\n",
      "         2211.6094, 3549.649 , 2367.8245, 2198.2136], dtype=float32), 'ZCand_pt': ndarray([1434.838  , 1478.1077 , 1014.81824, 1099.6494 , 1640.4965 ,\n",
      "          875.3723 , 1243.7848 , 1070.7977 , 1200.2288 ,  857.65186,\n",
      "         1050.0442 ,  926.5195 ,  990.4842 , 1611.0245 , 1190.1688 ,\n",
      "         1608.779  ], dtype=float32), 'VCand_pt': ndarray([1126.7466 ,  853.6587 , 1021.0761 , 1539.4463 , 1469.083  ,\n",
      "         1486.8197 , 1330.4226 ,  957.27045, 1173.9436 , 1332.3146 ,\n",
      "         1751.2021 , 2214.3193 , 1273.9899 , 1847.0833 , 1191.2124 ,\n",
      "          824.9254 ], dtype=float32), 'VCand_mass_tag': ndarray([210.5636  ,  49.574554,  72.51986 , 236.16875 ,  33.298225,\n",
      "          35.84319 ,  58.92111 , 151.99416 , 244.2194  ,  36.954933,\n",
      "          98.397125,  55.33683 , 122.374916,  37.47328 ,  84.240616,\n",
      "          43.547844], dtype=float32), 'VCand_deepTagMD_WvsQCD': ndarray([0.02322388, 0.4255371 , 0.26879883, 0.1998291 , 0.11138916,\n",
      "         0.01982117, 0.703125  , 0.09014893, 0.12792969, 0.29467773,\n",
      "         0.11682129, 0.15136719, 0.3803711 , 0.04428101, 0.04446411,\n",
      "         0.06082153], dtype=float32), 'ZCand_eta': ndarray([ 8.2102489e-01, -7.7086739e-02,  1.0876780e+00,  5.4554069e-01,\n",
      "         -6.4785546e-01, -1.9960876e-01, -9.1575786e-02,  1.5601173e-01,\n",
      "          1.3702499e+00,  1.1609157e+00, -2.9586717e-01, -2.0684339e-01,\n",
      "          4.0316617e-01, -1.2386374e-03, -9.8725253e-01,  3.3767888e-01],\n",
      "        dtype=float32), 'ZCand_phi': ndarray([ 1.4967427 , -0.66655725,  2.1268067 , -0.6333966 ,  2.8037128 ,\n",
      "          1.9789345 ,  2.2154558 , -3.0854278 , -1.6344829 , -0.694432  ,\n",
      "         -0.6003528 , -0.2947268 , -1.0355517 ,  2.0159118 ,  2.169302  ,\n",
      "         -2.1593087 ], dtype=float32), 'ZCand_mass': ndarray([91.00201 , 95.96479 , 75.88665 , 90.66665 , 95.375916, 91.36074 ,\n",
      "         82.13021 , 93.67992 , 86.39531 , 80.292206, 88.28841 , 87.66607 ,\n",
      "         95.88537 , 95.39208 , 88.189064, 91.92012 ], dtype=float32), 'VCand_phi': ndarray([-1.5661621 ,  2.1879883 , -0.9033203 ,  2.4819336 ,  0.13656616,\n",
      "         -1.6032715 , -0.72717285,  0.14355469,  1.4707031 ,  2.8657227 ,\n",
      "          2.8769531 , -2.9511719 ,  2.5185547 , -1.1921387 , -1.2658691 ,\n",
      "          1.6367188 ], dtype=float32), 'VCand_mass': ndarray([227.23883, 165.46742, 236.05115, 247.07469, 161.2286 , 103.32796,\n",
      "          85.28029, 207.89081, 269.78516, 105.93994, 171.6865 , 144.4067 ,\n",
      "         136.03023, 139.81807, 143.80133,  93.19475], dtype=float32)}\n"
     ]
    }
   ],
   "source": [
    "import numpy as np\n",
    "\n",
    "col = df_filter.AsNumpy()\n",
    "print(col)"
   ]
  },
  {
   "cell_type": "code",
   "execution_count": 50,
   "metadata": {},
   "outputs": [
    {
     "name": "stdout",
     "output_type": "stream",
     "text": [
      "[210.5636    49.574554  72.51986  236.16875   33.298225  35.84319\n",
      "  58.92111  151.99416  244.2194    36.954933  98.397125  55.33683\n",
      " 122.374916  37.47328   84.240616  43.547844]\n"
     ]
    }
   ],
   "source": [
    "print(col[\"VCand_mass_tag\"])"
   ]
  },
  {
   "cell_type": "markdown",
   "metadata": {},
   "source": [
    "This might be useful if you want to use Pandas along with other Python libraries, showing that HEP can actually be done independet of ROOT. It's just that the majority of experimental particle physicists use ROOT as their main framework.\n",
    "\n",
    "## Listing Column Names\n",
    "\n",
    "Printing out the data-frame or tree might be annoying to read through, as you have seen before. ```GetColumnNames()``` makes things a bit easier."
   ]
  },
  {
   "cell_type": "code",
   "execution_count": 77,
   "metadata": {},
   "outputs": [
    {
     "name": "stdout",
     "output_type": "stream",
     "text": [
      "{ \"passZmass\", \"randomVar1\", \"randomVar2\", \"randVar1\", \"randVar2\", \"evtWeight_Final\", \"passMassVCand\", \"passDeepTagWMD2p5HP\", \"passDeepTagWMD1p0HP\", \"passDeepTagWMD0p5HP\", \"ZVCand_mass\", \"ZCand_pt\", \"VCand_pt\", \"VCand_mass_tag\", \"VCand_deepTagMD_WvsQCD\", \"ZCand_eta\", \"ZCand_phi\", \"ZCand_mass\", \"VCand_phi\", \"VCand_mass\" }\n"
     ]
    }
   ],
   "source": [
    "colNames = df.GetColumnNames()\n",
    "print(colNames)"
   ]
  },
  {
   "cell_type": "markdown",
   "metadata": {},
   "source": [
    "## Graphs and 2-D Histograms\n",
    "\n",
    "You can also print out graphs, and 2-D histograms alongside 1-D histograms."
   ]
  },
  {
   "cell_type": "code",
   "execution_count": 89,
   "metadata": {},
   "outputs": [
    {
     "data": {
      "image/png": "[encoded data removed]",
      "text/plain": [
       "<IPython.core.display.Image object>"
      ]
     },
     "metadata": {},
     "output_type": "display_data"
    }
   ],
   "source": [
    "gr = df.Graph(\"ZCand_pt\", \"randVar2\")\n",
    "canv.Clear()\n",
    "gr.Draw(\"ap\")\n",
    "canv.Draw()"
   ]
  },
  {
   "cell_type": "code",
   "execution_count": 97,
   "metadata": {},
   "outputs": [
    {
     "data": {
      "image/png": "[encoded data removed]",
      "text/plain": [
       "<IPython.core.display.Image object>"
      ]
     },
     "metadata": {},
     "output_type": "display_data"
    }
   ],
   "source": [
    "# declare the histogram parameters into a tuple\n",
    "histo2DDec = (\"histoName\", \"histoTitle\", 40, -4, 4, 60, 60, 120)\n",
    "\n",
    "# feed the tuple inside, and the 2 variables you want to plot\n",
    "h3 = df.Histo2D(histo2DDec, \"ZCand_eta\", \"ZCand_mass\")\n",
    "canv.Clear()\n",
    "h3.Draw(\"colz\")\n",
    "canv.Draw()"
   ]
  },
  {
   "cell_type": "markdown",
   "metadata": {},
   "source": []
  }
 ],
 "metadata": {
  "kernelspec": {
   "display_name": "Python 3",
   "language": "python",
   "name": "python3"
  },
  "language_info": {
   "codemirror_mode": {
    "name": "ipython",
    "version": 3
   },
   "file_extension": ".py",
   "mimetype": "text/x-python",
   "name": "python",
   "nbconvert_exporter": "python",
   "pygments_lexer": "ipython3",
   "version": "3.8.3"
  }
 },
 "nbformat": 4,
 "nbformat_minor": 4
}

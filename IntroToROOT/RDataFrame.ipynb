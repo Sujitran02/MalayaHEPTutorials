{
 "cells": [
  {
   "cell_type": "markdown",
   "metadata": {},
   "source": [
    "<h1><center>DATA ANALYSIS WITH RDATAFRAME</center></h1>\n",
    "<h2><center>ROOT's High Level Declarative Analysis Interface</center></h2>\n",
    "\n",
    "RDataFrame is ROOT's way of data analysis at larger speeds compared to the older way via TTreeReader. It follows the declarative programming paradigm, where you essentially tell the program **what** you want (in a pseudo-sequential manner) rather than **how** you want, to the program. The program then does all the work for you. This simplifies thing a lot!\n",
    "\n",
    "Previously, you might tell the program how to do stuff. Loop this, check that, then do this before doing that. Now, you mainly tell it, I want this.\n",
    "\n",
    "RDataFrame also has the ability to benefit from multithreading, running multiple processes at the same time, vastly reducing the amount of time to carry out an analysis. Remember that reducing a 1 second job by 0.2 second might seem small, but if that job is scaled up by orders of magnitude, a 20% improvement in speed matters a lot.\n",
    "\n",
    "The type of operations involved with RDataFrame are **transformations** where you manipulate data and **actions** where you produce the results.\n"
   ]
  },
  {
   "cell_type": "code",
   "execution_count": null,
   "metadata": {},
   "outputs": [],
   "source": []
  }
 ],
 "metadata": {
  "kernelspec": {
   "display_name": "Python 3",
   "language": "python",
   "name": "python3"
  },
  "language_info": {
   "codemirror_mode": {
    "name": "ipython",
    "version": 3
   },
   "file_extension": ".py",
   "mimetype": "text/x-python",
   "name": "python",
   "nbconvert_exporter": "python",
   "pygments_lexer": "ipython3",
   "version": "3.8.3"
  }
 },
 "nbformat": 4,
 "nbformat_minor": 4
}

{
 "cells": [
  {
   "cell_type": "markdown",
   "metadata": {},
   "source": [
    "<h1><center> INTRODUCTION TO ROOT</center></h1>\n",
    "\n",
    "<img src=\"./images/root_logo.png\" width = 400>\n",
    "\n",
    "If you were hanging around some experimental particle physics, you might have heard someone mention about ROOT. ROOT is an OOP library, and acts as the main data analysis framework for High Energy Physics. Its usage has expanded, due to its versatility, to other fields as well, such as astronomy and data mining. If you want to be an experimental high energy physicist, you need to know ROOT.\n",
    "\n",
    "ROOT has a lot of stuff that we will go through over the course of this tutorial, that even some other data analysis libraries have only just adopted them recently.\n",
    "\n",
    "ROOT is compatible with Python and C++. Python has its simplicity and straightforwardness, while C++ is more powerful in terms of data handling and processing. So, it will be good if you can use ROOT in both languages.\n",
    "\n",
    "For this set of tutorial, we will mainly be using Python. \n",
    "\n",
    "This is where the magic begins. Firstly, import the library."
   ]
  },
  {
   "cell_type": "code",
   "execution_count": 1,
   "metadata": {},
   "outputs": [
    {
     "name": "stderr",
     "output_type": "stream",
     "text": [
      "/bin/bash: /home/afyqazraei/anaconda3/envs/RootEnv/lib/libtinfo.so.6: no version information available (required by /bin/bash)\n"
     ]
    },
    {
     "name": "stdout",
     "output_type": "stream",
     "text": [
      "Welcome to JupyROOT 6.24/02\n"
     ]
    }
   ],
   "source": [
    "import ROOT"
   ]
  },
  {
   "cell_type": "markdown",
   "metadata": {},
   "source": [
    "# Basic Math\n",
    "\n",
    "In terms of data type, ROOT has its own set of data types, but it still can accept and use normal data types. Let's start off with ROOT's basic mathematical class, **TMath**. Its full documentation can be found [here](https://root.cern.ch/doc/v612/namespaceTMath.html).\n",
    "\n",
    "TMath stores a lot of mathematical functions, some of them you may never end up using explicitly but is used a lot in the other implementations. "
   ]
  },
  {
   "cell_type": "code",
   "execution_count": 2,
   "metadata": {},
   "outputs": [
    {
     "name": "stdout",
     "output_type": "stream",
     "text": [
      "The area of the circle with radius  5  is  78.53981633974483\n"
     ]
    }
   ],
   "source": [
    "pi   = ROOT.TMath.Pi()\n",
    "rad  = 5\n",
    "area = pi*(rad**2)\n",
    "print(\"The area of the circle with radius \", rad, \" is \", area)"
   ]
  },
  {
   "cell_type": "code",
   "execution_count": 3,
   "metadata": {},
   "outputs": [
    {
     "name": "stdout",
     "output_type": "stream",
     "text": [
      "The error function value at x =  0.235 is  0.2603676022513831\n"
     ]
    }
   ],
   "source": [
    "x   = 0.235\n",
    "erf = ROOT.TMath.Erf(x)\n",
    "print(\"The error function value at x = \", x, \"is \", erf)"
   ]
  },
  {
   "cell_type": "code",
   "execution_count": 4,
   "metadata": {},
   "outputs": [
    {
     "name": "stdout",
     "output_type": "stream",
     "text": [
      "tanh( 0.2555 ) =  0.2500817370778593\n"
     ]
    }
   ],
   "source": [
    "y    = 0.2555\n",
    "tanh = ROOT.TMath.TanH(y)\n",
    "print(\"tanh(\", y, \") = \", tanh)"
   ]
  },
  {
   "cell_type": "markdown",
   "metadata": {},
   "source": [
    "As you can see above, ROOT handles well with normal data types. Though, in practicality you can interchange between using the widely used NumPy and SciPy libraries as well, which one you are comfortable with. Up next, is functions."
   ]
  },
  {
   "cell_type": "markdown",
   "metadata": {},
   "source": [
    "# TF1: 1-D Functions\n",
    "\n",
    "Now, we will see how powerful ROOT can be. **TF1** is a class specifically, to handle functions of a single variable. Full documentation [here](https://root.cern.ch/doc/master/classTF1.html).\n",
    "\n",
    "The function is controlled by the [TFormula](https://root.cern.ch/doc/master/classTFormula.html) expressions, but generally its straightforward.\n",
    "\n",
    "The basic syntax in Python is:\n",
    "\n",
    "```\n",
    "func = ROOT.TF1(name, formula, lower limit, upper limit, extra options)\n",
    "```\n"
   ]
  },
  {
   "cell_type": "code",
   "execution_count": null,
   "metadata": {},
   "outputs": [],
   "source": []
  },
  {
   "cell_type": "code",
   "execution_count": 5,
   "metadata": {},
   "outputs": [],
   "source": [
    "y = ROOT.TF1(\"function_y\", \"pow(x, 2)+5*x-4\", -10, 10)"
   ]
  },
  {
   "cell_type": "markdown",
   "metadata": {},
   "source": [
    "We will use the ```Eval()``` method to evaluate the function at a specific point, and draw it out. To draw something, we will need to draw it on a [TCanvas](https://root.cern.ch/doc/master/classTCanvas.html)."
   ]
  },
  {
   "cell_type": "code",
   "execution_count": 6,
   "metadata": {},
   "outputs": [
    {
     "name": "stdout",
     "output_type": "stream",
     "text": [
      "y(x = 5) is  46.0\n"
     ]
    },
    {
     "data": {
      "image/png": "[encoded data removed]",
      "text/plain": [
       "<IPython.core.display.Image object>"
      ]
     },
     "metadata": {},
     "output_type": "display_data"
    }
   ],
   "source": [
    "print(\"y(x = 5) is \", y.Eval(5))\n",
    "\n",
    "canv = ROOT.TCanvas(\"myCanv\", \"f(x) = x^2 + 5x -4\", 600, 400)\n",
    "y.Draw()\n",
    "\n",
    "canv.Draw()"
   ]
  },
  {
   "cell_type": "markdown",
   "metadata": {},
   "source": [
    "You can also define the function with empty parameters that can be filled afterwards. The parameters can then be set by the ```SetParameter()``` method."
   ]
  },
  {
   "cell_type": "code",
   "execution_count": 7,
   "metadata": {},
   "outputs": [
    {
     "data": {
      "image/png": "[encoded data removed]",
      "text/plain": [
       "<IPython.core.display.Image object>"
      ]
     },
     "metadata": {},
     "output_type": "display_data"
    }
   ],
   "source": [
    "y2 = ROOT.TF1(\"myFunc\", \"[0] - cos([1]*x)\", 0, 10)\n",
    "\n",
    "# setting the first parameter, then the second\n",
    "y2.SetParameter(0, 2)\n",
    "y2.SetParameter(1, 0.5)\n",
    "\n",
    "y2.Draw()\n",
    "canv.Draw()"
   ]
  },
  {
   "cell_type": "markdown",
   "metadata": {},
   "source": [
    "# TF2: 2-D Functions\n",
    "\n",
    "Following from **TF1**, **TF2** is just a 2-dimensional implementation of it. Just add another variable"
   ]
  },
  {
   "cell_type": "code",
   "execution_count": 8,
   "metadata": {},
   "outputs": [
    {
     "data": {
      "image/png": "[encoded data removed]",
      "text/plain": [
       "<IPython.core.display.Image object>"
      ]
     },
     "metadata": {},
     "output_type": "display_data"
    }
   ],
   "source": [
    "func = ROOT.TF2(\"f2\", \"sin(x)*cos(y)\", -5, 5, 0, 10)\n",
    "func.Draw()\n",
    "canv.Draw()"
   ]
  },
  {
   "cell_type": "markdown",
   "metadata": {},
   "source": [
    "# TGraph: Plotting Points\n",
    "\n",
    "The ROOT implementation to plot data points on a cartesian plane is the **TGraph** class. THe basic constructor is as follows:\n",
    "\n",
    "```\n",
    "gr1 = ROOT.TGraph(number of points)\n",
    "```\n"
   ]
  },
  {
   "cell_type": "code",
   "execution_count": 9,
   "metadata": {},
   "outputs": [
    {
     "data": {
      "image/png": "[encoded data removed]",
      "text/plain": [
       "<IPython.core.display.Image object>"
      ]
     },
     "metadata": {},
     "output_type": "display_data"
    }
   ],
   "source": [
    "import numpy as np\n",
    "\n",
    "xg    = np.arange(0, 10, 1)\n",
    "graph = ROOT.TGraph(len(xg))\n",
    "\n",
    "# plotting the point\n",
    "for i, xgi in enumerate(xg):\n",
    "    yg = y.Eval(xgi)\n",
    "    graph.SetPoint(i, xgi, yg)\n",
    "\n",
    "# plotting aesthetics\n",
    "canv.Clear()\n",
    "graph.SetMarkerColor(ROOT.kRed)\n",
    "graph.SetMarkerStyle(21)\n",
    "graph.SetMarkerSize(1)\n",
    "graph.Draw(\"AP\")\n",
    "\n",
    "canv.Draw()\n"
   ]
  },
  {
   "cell_type": "markdown",
   "metadata": {},
   "source": [
    "The plots are all customizable using the painter classes, such as TGraphPainter for TGraph and THistPainter for TH (which you will learn later). Side note, the most tiring part about HEP that every particle physicist will admit is plotting. Sigh.\n",
    "\n",
    "## Fitting TGraph with TF1\n",
    "\n",
    "There is a much more sophisticated fitting method available with ROOT via **RooFit**, but we will learn the basic one first. Suppose you have a set of points like the graph above. You can fit a line to it approximately.\n",
    "\n",
    "Here, we are fitting the previous graph with a 2nd order polynomial function. The result of the fit is a **TFitResult** object."
   ]
  },
  {
   "cell_type": "code",
   "execution_count": 10,
   "metadata": {},
   "outputs": [
    {
     "name": "stdout",
     "output_type": "stream",
     "text": [
      "\n",
      "****************************************\n",
      "Minimizer is Linear / Migrad\n",
      "Chi2                      =  6.76567e-27\n",
      "NDf                       =            7\n",
      "p0                        =           -4   +/-   2.44436e-14 \n",
      "p1                        =            5   +/-   1.26487e-14 \n",
      "p2                        =            1   +/-   1.35297e-15 \n",
      "\n",
      "3x3 matrix is as follows\n",
      "\n",
      "     |      0    |      1    |      2    |\n",
      "--------------------------------------------\n",
      "   0 |          1     -0.8099      0.6642 \n",
      "   1 |    -0.8099           1     -0.9627 \n",
      "   2 |     0.6642     -0.9627           1 \n",
      "\n"
     ]
    },
    {
     "data": {
      "image/png": "[encoded data removed]",
      "text/plain": [
       "<IPython.core.display.Image object>"
      ]
     },
     "metadata": {},
     "output_type": "display_data"
    }
   ],
   "source": [
    "fitFunc      = ROOT.TF1(\"fitFunc\", \"pol2\", 0, 10)\n",
    "fitResultPtr = graph.Fit(\"fitFunc\", \"S\")\n",
    "CorMat       = fitResultPtr.GetCorrelationMatrix()\n",
    "CorMat.Print()\n",
    "graph.Draw(\"AP\")\n",
    "canv.Draw()"
   ]
  },
  {
   "cell_type": "markdown",
   "metadata": {},
   "source": [
    "**TFitResult** shows the final result from the fitting process, while the Correlation Matrix (which is a **TMatrixDSym** object) shows how one variable is correlated to another in the fitting process.\n",
    "\n",
    "TGraph has a number of derived classes designed for certain usage like **TGraph2D** for a 2-dimensional plot on the (x, y, z) planes, **TGraphAsymmErrors** for graphs with points that have asymmetric error bars. Going through them one by one would be too exhaustive for this tutorial, so we encourage you to explore on your own later.\n",
    "\n",
    "# TH1: Histograms\n",
    "\n",
    "Now, we get to the meaty part of ROOT. Histograms. It is very useful to visualise measurements and data. The **TH1** is the base class for all other histogram classes. We will use **TH1F** for now.\n",
    "\n",
    "```\n",
    "hist = ROOT.TH1F(name, title, number of bins, lower limit, upper limit)\n",
    "```\n"
   ]
  },
  {
   "cell_type": "code",
   "execution_count": 11,
   "metadata": {},
   "outputs": [
    {
     "data": {
      "image/png": "[encoded data removed]",
      "text/plain": [
       "<IPython.core.display.Image object>"
      ]
     },
     "metadata": {},
     "output_type": "display_data"
    }
   ],
   "source": [
    "h1 = ROOT.TH1F(\"gaus1\",  \"A gaussian distribution\", 100, -4, 4)\n",
    "\n",
    "# randomly filling the histogram using a gaussian probability density function\n",
    "h1.FillRandom(\"gaus\", 6000)\n",
    "\n",
    "canv.Clear()\n",
    "h1.Draw()\n",
    "canv.Draw()"
   ]
  },
  {
   "cell_type": "markdown",
   "metadata": {},
   "source": [
    "Let's simulate a common distribution you would see in particle physics."
   ]
  },
  {
   "cell_type": "code",
   "execution_count": 12,
   "metadata": {},
   "outputs": [
    {
     "data": {
      "image/png": "[encoded data removed]",
      "text/plain": [
       "<IPython.core.display.Image object>"
      ]
     },
     "metadata": {},
     "output_type": "display_data"
    }
   ],
   "source": [
    "h_sig = ROOT.TH1F(\"h_sig\", \"Signal Histo;Mass;Events\",     50, 0, 100)\n",
    "h_bkg = ROOT.TH1F(\"h_bkg\", \"Background Histo;Mass;Events\", 50, 0, 100)\n",
    "h_tot = ROOT.TH1F(\"h_tot\", \"Total Histo;Mass;Events\",      50, 0, 100)\n",
    "\n",
    "# measurement simulation\n",
    "rnd_gen = ROOT.TRandom3()\n",
    "\n",
    "for i in range(0, 10000):\n",
    "    if i%10 == 0: h_sig.Fill(rnd_gen.Gaus(75, 5))\n",
    "    h_bkg.Fill(rnd_gen.Exp(40))\n",
    "\n",
    "h_tot.Add(h_sig)\n",
    "h_tot.Add(h_bkg)\n",
    "\n",
    "canv.Clear()\n",
    "h_tot.Draw(\"PFC\")\n",
    "canv.Draw()"
   ]
  },
  {
   "cell_type": "markdown",
   "metadata": {},
   "source": [
    "# THStack\n",
    "\n",
    "If we want to see the composition of the histogram, we would need to use the **THStack** class. What it essentially does is it acts as a container for the histograms.\n",
    "\n",
    "For plots with multiple stuff in it, it is **strongly advised** to put a legends so that others may understand it. For that, we use the **TLegend** class."
   ]
  },
  {
   "cell_type": "code",
   "execution_count": 13,
   "metadata": {},
   "outputs": [
    {
     "data": {
      "image/png": "[encoded data removed]",
      "text/plain": [
       "<IPython.core.display.Image object>"
      ]
     },
     "metadata": {},
     "output_type": "display_data"
    }
   ],
   "source": [
    "h_sig.SetFillColor(ROOT.kBlue)\n",
    "h_bkg.SetFillColor(ROOT.kGreen)\n",
    "\n",
    "hs = ROOT.THStack(\"hs\", \"Stacked Histos;Mass;Events\")\n",
    "hs.Add(h_bkg)\n",
    "hs.Add(h_sig)\n",
    "hs.Draw()\n",
    "\n",
    "# Legends\n",
    "leg = ROOT.TLegend(0.6, 0.65, 0.8, 0.85)\n",
    "leg   .SetFillStyle( 0 )\n",
    "leg   .SetBorderSize( 0 )\n",
    "leg   .SetTextFont( 43 )\n",
    "leg   .SetTextSize( 15 )\n",
    "leg.AddEntry(h_sig, \"Signal\", \"f\")\n",
    "leg.AddEntry(h_bkg, \"Background\", \"f\")\n",
    "\n",
    "canv.Clear()\n",
    "hs.Draw()\n",
    "leg.Draw()\n",
    "canv.Draw()"
   ]
  },
  {
   "cell_type": "markdown",
   "metadata": {},
   "source": [
    "# TH2: 2-D Histograms\n",
    "\n",
    "Same concept as before, but now for 2-dimensions. This might be useful when an interesting distribution might lie correlated between two variables."
   ]
  },
  {
   "cell_type": "code",
   "execution_count": 14,
   "metadata": {},
   "outputs": [
    {
     "data": {
      "image/png": "[encoded data removed]",
      "text/plain": [
       "<IPython.core.display.Image object>"
      ]
     },
     "metadata": {},
     "output_type": "display_data"
    }
   ],
   "source": [
    "h2d = ROOT.TH2F(\"h2d\", \"2-Dimensional Distribution;Mass;Momentum;Events\", \n",
    "                50, 0, 100, # x-axis \n",
    "                50, 0, 100) # y-axis\n",
    "\n",
    "for i in range(10000):\n",
    "    if i%10 == 0: h2d.Fill(rnd_gen.Gaus(65, 5), rnd_gen.Gaus(75, 5))\n",
    "    h2d.Fill(rnd_gen.Exp(50), rnd_gen.Exp(50))\n",
    "    \n",
    "canv.Clear()\n",
    "h2d.Draw(\"lego2\")\n",
    "canv.Draw()"
   ]
  },
  {
   "cell_type": "markdown",
   "metadata": {},
   "source": [
    "# TFile: File Handling and I/O\n",
    "\n",
    "A lot of times, data will be stored in files to ensure ease of handling. In terms of ROOT, you can store literal ROOT objects inside ROOT files. To open, write and read those files, we will need to use the TFile class.\n",
    "\n",
    "Let's take a look at a file containing Monte Carlo simulation.\n"
   ]
  },
  {
   "cell_type": "code",
   "execution_count": 15,
   "metadata": {},
   "outputs": [
    {
     "name": "stdout",
     "output_type": "stream",
     "text": [
      "TFile**\t\t./rootfiles/signal.root\t\n",
      " TFile*\t\t./rootfiles/signal.root\t\n",
      "  KEY: TTree\telel;1\telel\n",
      "  KEY: TTree\tmumu;1\tmumu\n"
     ]
    }
   ],
   "source": [
    "# opening a file\n",
    "file = ROOT.TFile(\"./rootfiles/signal.root\", \"OPEN\")\n",
    "\n",
    "# listing down the file contents\n",
    "file.ls()"
   ]
  },
  {
   "cell_type": "markdown",
   "metadata": {},
   "source": [
    "A breakdown on the 3rd and 4th line is like this:\n",
    "\n",
    "```\n",
    "KEY: TObject TKey;1 object_name\n",
    "```\n",
    "\n",
    "The TKey is used to obtain the objects or directories in the file using the ```Get()``` method.\n",
    "\n",
    "If you want to create a new file instead, just replace the ```\"OPEN\"``` option in the constructor with ```\"RECREATE\"```. \n",
    "\n",
    "```\n",
    "file = ROOT.TFile(file_name, \"RECREATE\")\n",
    "```\n",
    "\n",
    "A TFile will be open throughout the time until the ```Close()``` method is used. Every TObject can be saved via the ```Write()``` method."
   ]
  },
  {
   "cell_type": "markdown",
   "metadata": {},
   "source": [
    "# TTree: Columnar Data\n",
    "\n",
    "**TTree** is how ROOT saves data into rows and columns, where the rows are usually events while the columns contain the quantities. It is optimized to store large quantities of all sorts of data, making reading the contents much more faster.\n",
    "\n",
    "In future tutorials, we will learn a new package that makes data handling with TTrees much faster.\n",
    "\n",
    "Let's extract a tree from the file and see what's inside."
   ]
  },
  {
   "cell_type": "code",
   "execution_count": 16,
   "metadata": {},
   "outputs": [
    {
     "name": "stdout",
     "output_type": "stream",
     "text": [
      "******************************************************************************\n",
      "*Tree    :elel      : elel                                                   *\n",
      "*Entries :     7748 : Total =          381249 bytes  File  Size =     291433 *\n",
      "*        :          : Tree compression factor =   1.29                       *\n",
      "******************************************************************************\n",
      "*Br    0 :evtWeight_Final : evtWeight_Final/F                                *\n",
      "*Entries :     7748 : Total  Size=      31599 bytes  File Size  =      25614 *\n",
      "*Baskets :        1 : Basket Size=      32000 bytes  Compression=   1.21     *\n",
      "*............................................................................*\n",
      "*Br    1 :passMassVCand : passMassVCand/O                                    *\n",
      "*Entries :     7748 : Total  Size=       8339 bytes  File Size  =       1649 *\n",
      "*Baskets :        1 : Basket Size=      32000 bytes  Compression=   4.75     *\n",
      "*............................................................................*\n",
      "*Br    2 :passDeepTagWMD2p5HP : passDeepTagWMD2p5HP/O                        *\n",
      "*Entries :     7748 : Total  Size=       8369 bytes  File Size  =       1823 *\n",
      "*Baskets :        1 : Basket Size=      32000 bytes  Compression=   4.30     *\n",
      "*............................................................................*\n",
      "*Br    3 :passDeepTagWMD1p0HP : passDeepTagWMD1p0HP/O                        *\n",
      "*Entries :     7748 : Total  Size=       8369 bytes  File Size  =       1852 *\n",
      "*Baskets :        1 : Basket Size=      32000 bytes  Compression=   4.23     *\n",
      "*............................................................................*\n",
      "*Br    4 :passDeepTagWMD0p5HP : passDeepTagWMD0p5HP/O                        *\n",
      "*Entries :     7748 : Total  Size=       8369 bytes  File Size  =       1820 *\n",
      "*Baskets :        1 : Basket Size=      32000 bytes  Compression=   4.30     *\n",
      "*............................................................................*\n",
      "*Br    5 :ZVCand_mass : ZVCand_mass/F                                        *\n",
      "*Entries :     7748 : Total  Size=      31579 bytes  File Size  =      26022 *\n",
      "*Baskets :        1 : Basket Size=      32000 bytes  Compression=   1.19     *\n",
      "*............................................................................*\n",
      "*Br    6 :ZCand_pt  : ZCand_pt/F                                             *\n",
      "*Entries :     7748 : Total  Size=      31564 bytes  File Size  =      27161 *\n",
      "*Baskets :        1 : Basket Size=      32000 bytes  Compression=   1.14     *\n",
      "*............................................................................*\n",
      "*Br    7 :VCand_pt  : VCand_pt/F                                             *\n",
      "*Entries :     7748 : Total  Size=      31564 bytes  File Size  =      27314 *\n",
      "*Baskets :        1 : Basket Size=      32000 bytes  Compression=   1.14     *\n",
      "*............................................................................*\n",
      "*Br    8 :VCand_mass_tag : VCand_mass_tag/F                                  *\n",
      "*Entries :     7748 : Total  Size=      31594 bytes  File Size  =      26843 *\n",
      "*Baskets :        1 : Basket Size=      32000 bytes  Compression=   1.16     *\n",
      "*............................................................................*\n",
      "*Br    9 :VCand_deepTagMD_WvsQCD : VCand_deepTagMD_WvsQCD/F                  *\n",
      "*Entries :     7748 : Total  Size=      31634 bytes  File Size  =      18322 *\n",
      "*Baskets :        1 : Basket Size=      32000 bytes  Compression=   1.70     *\n",
      "*............................................................................*\n",
      "*Br   10 :ZCand_eta : ZCand_eta/F                                            *\n",
      "*Entries :     7748 : Total  Size=      31569 bytes  File Size  =      28822 *\n",
      "*Baskets :        1 : Basket Size=      32000 bytes  Compression=   1.08     *\n",
      "*............................................................................*\n",
      "*Br   11 :ZCand_phi : ZCand_phi/F                                            *\n",
      "*Entries :     7748 : Total  Size=      31569 bytes  File Size  =      28812 *\n",
      "*Baskets :        1 : Basket Size=      32000 bytes  Compression=   1.08     *\n",
      "*............................................................................*\n",
      "*Br   12 :ZCand_mass : ZCand_mass/F                                          *\n",
      "*Entries :     7748 : Total  Size=      31574 bytes  File Size  =      25566 *\n",
      "*Baskets :        1 : Basket Size=      32000 bytes  Compression=   1.22     *\n",
      "*............................................................................*\n",
      "*Br   13 :VCand_phi : VCand_phi/F                                            *\n",
      "*Entries :     7748 : Total  Size=      31569 bytes  File Size  =      21469 *\n",
      "*Baskets :        1 : Basket Size=      32000 bytes  Compression=   1.45     *\n",
      "*............................................................................*\n",
      "*Br   14 :VCand_mass : VCand_mass/F                                          *\n",
      "*Entries :     7748 : Total  Size=      31574 bytes  File Size  =      26936 *\n",
      "*Baskets :        1 : Basket Size=      32000 bytes  Compression=   1.15     *\n",
      "*............................................................................*\n"
     ]
    }
   ],
   "source": [
    "# taking a TObject from the TFile using a TKey\n",
    "elel_tree = file.Get(\"elel\")\n",
    "\n",
    "# printing the contents of the tree\n",
    "elel_tree.Print()"
   ]
  },
  {
   "cell_type": "markdown",
   "metadata": {},
   "source": [
    "The tree contains branches, which signifies the quantity column we mentioned before. Each event entry carries those data. To see it in a columnar way:"
   ]
  },
  {
   "cell_type": "code",
   "execution_count": 18,
   "metadata": {},
   "outputs": [],
   "source": [
    "# scanning the rows and columns\n",
    "# executing this line is not recommended, as it will list as many rows as there are events in the TTree\n",
    "# practical wise, Scan() has little use\n",
    "\n",
    "# elel_tree.Scan()"
   ]
  },
  {
   "cell_type": "markdown",
   "metadata": {},
   "source": [
    "We can also draw one of the branches from the tree and see the distribution."
   ]
  },
  {
   "cell_type": "code",
   "execution_count": 19,
   "metadata": {},
   "outputs": [
    {
     "data": {
      "image/png": "[encoded data removed]",
      "text/plain": [
       "<IPython.core.display.Image object>"
      ]
     },
     "metadata": {},
     "output_type": "display_data"
    }
   ],
   "source": [
    "canv.Clear()\n",
    "elel_tree.Draw(\"ZVCand_mass\")\n",
    "canv.Draw()"
   ]
  },
  {
   "cell_type": "markdown",
   "metadata": {},
   "source": [
    "To create a histogram from a tree:"
   ]
  },
  {
   "cell_type": "code",
   "execution_count": 20,
   "metadata": {},
   "outputs": [
    {
     "data": {
      "image/png": "[encoded data removed]",
      "text/plain": [
       "<IPython.core.display.Image object>"
      ]
     },
     "metadata": {},
     "output_type": "display_data"
    }
   ],
   "source": [
    "signal = ROOT.TH1F(\"signal\", \"Histo from Tree\", 60, 60, 120)\n",
    "elel_tree.Draw(\"ZCand_mass>>signal\")\n",
    "\n",
    "canv.Clear()\n",
    "signal.Draw()\n",
    "canv.Draw()"
   ]
  },
  {
   "cell_type": "markdown",
   "metadata": {},
   "source": [
    "# TChain: Chaining a Number of ROOT Files\n",
    "\n",
    "If we want to lump together a group of ROOT files that are meant to used collectively, then we would use **TChain**. In a sense, we would use it like how we use a **TTree**, because it inherits from it."
   ]
  },
  {
   "cell_type": "code",
   "execution_count": 21,
   "metadata": {},
   "outputs": [
    {
     "name": "stdout",
     "output_type": "stream",
     "text": [
      "******************************************************************************\n",
      "*Chain   :elel      : ./rootfiles/bkg_main.root                              *\n",
      "******************************************************************************\n",
      "******************************************************************************\n",
      "*Tree    :elel      : elel                                                   *\n",
      "*Entries :   306137 : Total =        14746399 bytes  File  Size =   11585453 *\n",
      "*        :          : Tree compression factor =   1.27                       *\n",
      "******************************************************************************\n",
      "*Br    0 :evtWeight_Final : evtWeight_Final/F                                *\n",
      "*Entries :   306137 : Total  Size=    1228871 bytes  File Size  =    1097846 *\n",
      "*Baskets :       39 : Basket Size=      32000 bytes  Compression=   1.12     *\n",
      "*............................................................................*\n",
      "*Br    1 :passMassVCand : passMassVCand/O                                    *\n",
      "*Entries :   306137 : Total  Size=     307468 bytes  File Size  =      66692 *\n",
      "*Baskets :       10 : Basket Size=      32000 bytes  Compression=   4.60     *\n",
      "*............................................................................*\n",
      "*Br    2 :passDeepTagWMD2p5HP : passDeepTagWMD2p5HP/O                        *\n",
      "*Entries :   306137 : Total  Size=     307552 bytes  File Size  =      63853 *\n",
      "*Baskets :       10 : Basket Size=      32000 bytes  Compression=   4.81     *\n",
      "*............................................................................*\n",
      "*Br    3 :passDeepTagWMD1p0HP : passDeepTagWMD1p0HP/O                        *\n",
      "*Entries :   306137 : Total  Size=     307552 bytes  File Size  =      46147 *\n",
      "*Baskets :       10 : Basket Size=      32000 bytes  Compression=   6.65     *\n",
      "*............................................................................*\n",
      "*Br    4 :passDeepTagWMD0p5HP : passDeepTagWMD0p5HP/O                        *\n",
      "*Entries :   306137 : Total  Size=     307552 bytes  File Size  =      32624 *\n",
      "*Baskets :       10 : Basket Size=      32000 bytes  Compression=   9.41     *\n",
      "*............................................................................*\n",
      "*Br    5 :ZVCand_mass : ZVCand_mass/F                                        *\n",
      "*Entries :   306137 : Total  Size=    1228699 bytes  File Size  =    1059815 *\n",
      "*Baskets :       39 : Basket Size=      32000 bytes  Compression=   1.16     *\n",
      "*............................................................................*\n",
      "*Br    6 :ZCand_pt  : ZCand_pt/F                                             *\n",
      "*Entries :   306137 : Total  Size=    1228570 bytes  File Size  =    1077993 *\n",
      "*Baskets :       39 : Basket Size=      32000 bytes  Compression=   1.14     *\n",
      "*............................................................................*\n",
      "*Br    7 :VCand_pt  : VCand_pt/F                                             *\n",
      "*Entries :   306137 : Total  Size=    1228570 bytes  File Size  =    1072445 *\n",
      "*Baskets :       39 : Basket Size=      32000 bytes  Compression=   1.14     *\n",
      "*............................................................................*\n",
      "*Br    8 :VCand_mass_tag : VCand_mass_tag/F                                  *\n",
      "*Entries :   306137 : Total  Size=    1228828 bytes  File Size  =    1085063 *\n",
      "*Baskets :       39 : Basket Size=      32000 bytes  Compression=   1.13     *\n",
      "*............................................................................*\n",
      "*Br    9 :VCand_deepTagMD_WvsQCD : VCand_deepTagMD_WvsQCD/F                  *\n",
      "*Entries :   306137 : Total  Size=    1229172 bytes  File Size  =     760673 *\n",
      "*Baskets :       39 : Basket Size=      32000 bytes  Compression=   1.61     *\n",
      "*............................................................................*\n",
      "*Br   10 :ZCand_eta : ZCand_eta/F                                            *\n",
      "*Entries :   306137 : Total  Size=    1228613 bytes  File Size  =    1137820 *\n",
      "*Baskets :       39 : Basket Size=      32000 bytes  Compression=   1.08     *\n",
      "*............................................................................*\n",
      "*Br   11 :ZCand_phi : ZCand_phi/F                                            *\n",
      "*Entries :   306137 : Total  Size=    1228613 bytes  File Size  =    1137931 *\n",
      "*Baskets :       39 : Basket Size=      32000 bytes  Compression=   1.08     *\n",
      "*............................................................................*\n",
      "*Br   12 :ZCand_mass : ZCand_mass/F                                          *\n",
      "*Entries :   306137 : Total  Size=    1228656 bytes  File Size  =    1012301 *\n",
      "*Baskets :       39 : Basket Size=      32000 bytes  Compression=   1.21     *\n",
      "*............................................................................*\n",
      "*Br   13 :VCand_phi : VCand_phi/F                                            *\n",
      "*Entries :   306137 : Total  Size=    1228613 bytes  File Size  =     847977 *\n",
      "*Baskets :       39 : Basket Size=      32000 bytes  Compression=   1.45     *\n",
      "*............................................................................*\n",
      "*Br   14 :VCand_mass : VCand_mass/F                                          *\n",
      "*Entries :   306137 : Total  Size=    1228656 bytes  File Size  =    1081092 *\n",
      "*Baskets :       39 : Basket Size=      32000 bytes  Compression=   1.14     *\n",
      "*............................................................................*\n",
      "******************************************************************************\n",
      "*Chain   :elel      : ./rootfiles/bkg_diboson.root                           *\n",
      "******************************************************************************\n",
      "******************************************************************************\n",
      "*Tree    :elel      : elel                                                   *\n",
      "*Entries :    54234 : Total =         2618087 bytes  File  Size =    2051535 *\n",
      "*        :          : Tree compression factor =   1.27                       *\n",
      "******************************************************************************\n",
      "*Br    0 :evtWeight_Final : evtWeight_Final/F                                *\n",
      "*Entries :    54234 : Total  Size=     218035 bytes  File Size  =     190964 *\n",
      "*Baskets :        7 : Basket Size=      32000 bytes  Compression=   1.14     *\n",
      "*............................................................................*\n",
      "*Br    1 :passMassVCand : passMassVCand/O                                    *\n",
      "*Entries :    54234 : Total  Size=      54905 bytes  File Size  =      12182 *\n",
      "*Baskets :        2 : Basket Size=      32000 bytes  Compression=   4.47     *\n",
      "*............................................................................*\n",
      "*Br    2 :passDeepTagWMD2p5HP : passDeepTagWMD2p5HP/O                        *\n",
      "*Entries :    54234 : Total  Size=      54941 bytes  File Size  =      12319 *\n",
      "*Baskets :        2 : Basket Size=      32000 bytes  Compression=   4.42     *\n",
      "*............................................................................*\n",
      "*Br    3 :passDeepTagWMD1p0HP : passDeepTagWMD1p0HP/O                        *\n",
      "*Entries :    54234 : Total  Size=      54941 bytes  File Size  =      11898 *\n",
      "*Baskets :        2 : Basket Size=      32000 bytes  Compression=   4.57     *\n",
      "*............................................................................*\n",
      "*Br    4 :passDeepTagWMD0p5HP : passDeepTagWMD0p5HP/O                        *\n",
      "*Entries :    54234 : Total  Size=      54941 bytes  File Size  =      10971 *\n",
      "*Baskets :        2 : Basket Size=      32000 bytes  Compression=   4.96     *\n",
      "*............................................................................*\n",
      "*Br    5 :ZVCand_mass : ZVCand_mass/F                                        *\n",
      "*Entries :    54234 : Total  Size=     217991 bytes  File Size  =     186861 *\n",
      "*Baskets :        7 : Basket Size=      32000 bytes  Compression=   1.16     *\n",
      "*............................................................................*\n",
      "*Br    6 :ZCand_pt  : ZCand_pt/F                                             *\n",
      "*Entries :    54234 : Total  Size=     217958 bytes  File Size  =     189911 *\n",
      "*Baskets :        7 : Basket Size=      32000 bytes  Compression=   1.15     *\n",
      "*............................................................................*\n",
      "*Br    7 :VCand_pt  : VCand_pt/F                                             *\n",
      "*Entries :    54234 : Total  Size=     217958 bytes  File Size  =     190592 *\n",
      "*Baskets :        7 : Basket Size=      32000 bytes  Compression=   1.14     *\n",
      "*............................................................................*\n",
      "*Br    8 :VCand_mass_tag : VCand_mass_tag/F                                  *\n",
      "*Entries :    54234 : Total  Size=     218024 bytes  File Size  =     190231 *\n",
      "*Baskets :        7 : Basket Size=      32000 bytes  Compression=   1.14     *\n",
      "*............................................................................*\n",
      "*Br    9 :VCand_deepTagMD_WvsQCD : VCand_deepTagMD_WvsQCD/F                  *\n",
      "*Entries :    54234 : Total  Size=     218112 bytes  File Size  =     130589 *\n",
      "*Baskets :        7 : Basket Size=      32000 bytes  Compression=   1.67     *\n",
      "*............................................................................*\n",
      "*Br   10 :ZCand_eta : ZCand_eta/F                                            *\n",
      "*Entries :    54234 : Total  Size=     217969 bytes  File Size  =     201610 *\n",
      "*Baskets :        7 : Basket Size=      32000 bytes  Compression=   1.08     *\n",
      "*............................................................................*\n",
      "*Br   11 :ZCand_phi : ZCand_phi/F                                            *\n",
      "*Entries :    54234 : Total  Size=     217969 bytes  File Size  =     201619 *\n",
      "*Baskets :        7 : Basket Size=      32000 bytes  Compression=   1.08     *\n",
      "*............................................................................*\n",
      "*Br   12 :ZCand_mass : ZCand_mass/F                                          *\n",
      "*Entries :    54234 : Total  Size=     217980 bytes  File Size  =     179142 *\n",
      "*Baskets :        7 : Basket Size=      32000 bytes  Compression=   1.21     *\n",
      "*............................................................................*\n",
      "*Br   13 :VCand_phi : VCand_phi/F                                            *\n",
      "*Entries :    54234 : Total  Size=     217969 bytes  File Size  =     150260 *\n",
      "*Baskets :        7 : Basket Size=      32000 bytes  Compression=   1.45     *\n",
      "*............................................................................*\n",
      "*Br   14 :VCand_mass : VCand_mass/F                                          *\n",
      "*Entries :    54234 : Total  Size=     217980 bytes  File Size  =     190334 *\n",
      "*Baskets :        7 : Basket Size=      32000 bytes  Compression=   1.14     *\n",
      "*............................................................................*\n",
      "******************************************************************************\n",
      "*Chain   :elel      : ./rootfiles/bkg_top.root                               *\n",
      "******************************************************************************\n",
      "******************************************************************************\n",
      "*Tree    :elel      : elel                                                   *\n",
      "*Entries :      791 : Total =           47313 bytes  File  Size =      33169 *\n",
      "*        :          : Tree compression factor =   1.23                       *\n",
      "******************************************************************************\n",
      "*Br    0 :evtWeight_Final : evtWeight_Final/F                                *\n",
      "*Entries :      791 : Total  Size=       3771 bytes  File Size  =       2934 *\n",
      "*Baskets :        1 : Basket Size=      32000 bytes  Compression=   1.11     *\n",
      "*............................................................................*\n",
      "*Br    1 :passMassVCand : passMassVCand/O                                    *\n",
      "*Entries :      791 : Total  Size=       1382 bytes  File Size  =        291 *\n",
      "*Baskets :        1 : Basket Size=      32000 bytes  Compression=   2.99     *\n",
      "*............................................................................*\n",
      "*Br    2 :passDeepTagWMD2p5HP : passDeepTagWMD2p5HP/O                        *\n",
      "*Entries :      791 : Total  Size=       1412 bytes  File Size  =        286 *\n",
      "*Baskets :        1 : Basket Size=      32000 bytes  Compression=   3.07     *\n",
      "*............................................................................*\n",
      "*Br    3 :passDeepTagWMD1p0HP : passDeepTagWMD1p0HP/O                        *\n",
      "*Entries :      791 : Total  Size=       1412 bytes  File Size  =        243 *\n",
      "*Baskets :        1 : Basket Size=      32000 bytes  Compression=   3.61     *\n",
      "*............................................................................*\n",
      "*Br    4 :passDeepTagWMD0p5HP : passDeepTagWMD0p5HP/O                        *\n",
      "*Entries :      791 : Total  Size=       1412 bytes  File Size  =        207 *\n",
      "*Baskets :        1 : Basket Size=      32000 bytes  Compression=   4.24     *\n",
      "*............................................................................*\n",
      "*Br    5 :ZVCand_mass : ZVCand_mass/F                                        *\n",
      "*Entries :      791 : Total  Size=       3751 bytes  File Size  =       2828 *\n",
      "*Baskets :        1 : Basket Size=      32000 bytes  Compression=   1.15     *\n",
      "*............................................................................*\n",
      "*Br    6 :ZCand_pt  : ZCand_pt/F                                             *\n",
      "*Entries :      791 : Total  Size=       3736 bytes  File Size  =       2827 *\n",
      "*Baskets :        1 : Basket Size=      32000 bytes  Compression=   1.15     *\n",
      "*............................................................................*\n",
      "*Br    7 :VCand_pt  : VCand_pt/F                                             *\n",
      "*Entries :      791 : Total  Size=       3736 bytes  File Size  =       2918 *\n",
      "*Baskets :        1 : Basket Size=      32000 bytes  Compression=   1.11     *\n",
      "*............................................................................*\n",
      "*Br    8 :VCand_mass_tag : VCand_mass_tag/F                                  *\n",
      "*Entries :      791 : Total  Size=       3766 bytes  File Size  =       2919 *\n",
      "*Baskets :        1 : Basket Size=      32000 bytes  Compression=   1.11     *\n",
      "*............................................................................*\n",
      "*Br    9 :VCand_deepTagMD_WvsQCD : VCand_deepTagMD_WvsQCD/F                  *\n",
      "*Entries :      791 : Total  Size=       3806 bytes  File Size  =       2144 *\n",
      "*Baskets :        1 : Basket Size=      32000 bytes  Compression=   1.52     *\n",
      "*............................................................................*\n",
      "*Br   10 :ZCand_eta : ZCand_eta/F                                            *\n",
      "*Entries :      791 : Total  Size=       3741 bytes  File Size  =       3051 *\n",
      "*Baskets :        1 : Basket Size=      32000 bytes  Compression=   1.06     *\n",
      "*............................................................................*\n",
      "*Br   11 :ZCand_phi : ZCand_phi/F                                            *\n",
      "*Entries :      791 : Total  Size=       3741 bytes  File Size  =       3051 *\n",
      "*Baskets :        1 : Basket Size=      32000 bytes  Compression=   1.06     *\n",
      "*............................................................................*\n",
      "*Br   12 :ZCand_mass : ZCand_mass/F                                          *\n",
      "*Entries :      791 : Total  Size=       3746 bytes  File Size  =       2808 *\n",
      "*Baskets :        1 : Basket Size=      32000 bytes  Compression=   1.15     *\n",
      "*............................................................................*\n",
      "*Br   13 :VCand_phi : VCand_phi/F                                            *\n",
      "*Entries :      791 : Total  Size=       3741 bytes  File Size  =       2365 *\n",
      "*Baskets :        1 : Basket Size=      32000 bytes  Compression=   1.37     *\n",
      "*............................................................................*\n",
      "*Br   14 :VCand_mass : VCand_mass/F                                          *\n",
      "*Entries :      791 : Total  Size=       3746 bytes  File Size  =       2911 *\n",
      "*Baskets :        1 : Basket Size=      32000 bytes  Compression=   1.11     *\n",
      "*............................................................................*\n"
     ]
    }
   ],
   "source": [
    "# intialize the chain with the name of the TTree we want to extract\n",
    "bkgd = ROOT.TChain(\"elel\")\n",
    "\n",
    "bkgd.Add(\"./rootfiles/bkg_main.root\")\n",
    "bkgd.Add(\"./rootfiles/bkg_diboson.root\")\n",
    "bkgd.Add(\"./rootfiles/bkg_top.root\")\n",
    "\n",
    "bkgd.Print()"
   ]
  },
  {
   "cell_type": "code",
   "execution_count": 22,
   "metadata": {},
   "outputs": [
    {
     "data": {
      "image/png": "[encoded data removed]",
      "text/plain": [
       "<IPython.core.display.Image object>"
      ]
     },
     "metadata": {},
     "output_type": "display_data"
    }
   ],
   "source": [
    "bkgdHist = ROOT.TH1F(\"bkgdHist\", \"Histogram of the Total Background\", 120, 60, 120)\n",
    "\n",
    "# filling a histogram with the distribution from the tree\n",
    "bkgd.Draw(\"VCand_mass>>bkgdHist\")\n",
    "\n",
    "canv.Clear()\n",
    "bkgdHist.Draw()\n",
    "canv.Draw()"
   ]
  },
  {
   "cell_type": "markdown",
   "metadata": {},
   "source": [
    "# A Simple Efficiency Analysis with TEfficiency\n",
    "\n",
    "A simple efficiency analysis can be done using the **TEfficiency** class. In the example below, we took the total background and try to see what happens when we try to add certain restrictions. In this case, any event that has ```VCand_mass``` more than 65 or less than 125 would not be included into the histogram ```h2```. This can be done by inserting a cut via TCut in the ```Draw()``` method."
   ]
  },
  {
   "cell_type": "code",
   "execution_count": 23,
   "metadata": {},
   "outputs": [
    {
     "data": {
      "image/png": "[encoded data removed]",
      "text/plain": [
       "<IPython.core.display.Image object>"
      ]
     },
     "metadata": {},
     "output_type": "display_data"
    }
   ],
   "source": [
    "h1 = ROOT.TH1F(\"h1\", \"h1\", 100, 0, 5000)\n",
    "h2 = ROOT.TH1F(\"h2\", \"h2\", 100, 0, 5000)\n",
    "\n",
    "bkgd.Draw(\"ZVCand_mass>>h1\")\n",
    "bkgd.Draw(\"ZVCand_mass>>h2\", \"VCand_mass>65&&VCand_mass<125\")\n",
    "\n",
    "canv.Clear()\n",
    "h1.SetLineColor(ROOT.kRed)\n",
    "h1.Draw()\n",
    "h2.Draw(\"SAME\")\n",
    "canv.Draw()"
   ]
  },
  {
   "cell_type": "markdown",
   "metadata": {},
   "source": [
    "With the two histograms, we feed it into TEfficiency."
   ]
  },
  {
   "cell_type": "code",
   "execution_count": 24,
   "metadata": {},
   "outputs": [
    {
     "data": {
      "image/png": "[encoded data removed]",
      "text/plain": [
       "<IPython.core.display.Image object>"
      ]
     },
     "metadata": {},
     "output_type": "display_data"
    }
   ],
   "source": [
    "eff = ROOT.TEfficiency(h2, h1)\n",
    "\n",
    "canv.Clear()\n",
    "eff.Draw()\n",
    "canv.Draw()"
   ]
  },
  {
   "cell_type": "markdown",
   "metadata": {},
   "source": [
    "What we will get is essentially the later histogram with the cuts divided by the total histogram, then we can see how the cut affects the data distribution.\n",
    "\n"
   ]
  }
 ],
 "metadata": {
  "kernelspec": {
   "display_name": "Python 3 (ipykernel)",
   "language": "python",
   "name": "python3"
  },
  "language_info": {
   "codemirror_mode": {
    "name": "ipython",
    "version": 3
   },
   "file_extension": ".py",
   "mimetype": "text/x-python",
   "name": "python",
   "nbconvert_exporter": "python",
   "pygments_lexer": "ipython3",
   "version": "3.9.7"
  }
 },
 "nbformat": 4,
 "nbformat_minor": 4
}
